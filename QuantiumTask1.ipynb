{
 "cells": [
  {
   "cell_type": "code",
   "execution_count": 1,
   "id": "fff3cf88",
   "metadata": {},
   "outputs": [],
   "source": [
    "import numpy as np\n",
    "import pandas as pd\n",
    "import matplotlib.pyplot as plt\n",
    "import seaborn as sns\n",
    "import warnings\n",
    "warnings.filterwarnings('ignore')"
   ]
  },
  {
   "cell_type": "code",
   "execution_count": 2,
   "id": "9eb4ab03",
   "metadata": {},
   "outputs": [],
   "source": [
    "df_td=pd.read_excel('C:\\\\Users\\\\KIIT\\\\Desktop\\\\Quantium\\\\Task1\\\\Data\\\\QVI_transaction_data.xlsx')"
   ]
  },
  {
   "cell_type": "code",
   "execution_count": 3,
   "id": "f239c8db",
   "metadata": {},
   "outputs": [],
   "source": [
    "df_pb=pd.read_csv('C:\\\\Users\\\\KIIT\\\\Desktop\\\\Quantium\\\\Task1\\\\Data\\\\QVI_purchase_behaviour.csv')"
   ]
  },
  {
   "cell_type": "code",
   "execution_count": 4,
   "id": "5173dbef",
   "metadata": {},
   "outputs": [
    {
     "data": {
      "text/html": [
       "<div>\n",
       "<style scoped>\n",
       "    .dataframe tbody tr th:only-of-type {\n",
       "        vertical-align: middle;\n",
       "    }\n",
       "\n",
       "    .dataframe tbody tr th {\n",
       "        vertical-align: top;\n",
       "    }\n",
       "\n",
       "    .dataframe thead th {\n",
       "        text-align: right;\n",
       "    }\n",
       "</style>\n",
       "<table border=\"1\" class=\"dataframe\">\n",
       "  <thead>\n",
       "    <tr style=\"text-align: right;\">\n",
       "      <th></th>\n",
       "      <th>DATE</th>\n",
       "      <th>STORE_NBR</th>\n",
       "      <th>LYLTY_CARD_NBR</th>\n",
       "      <th>TXN_ID</th>\n",
       "      <th>PROD_NBR</th>\n",
       "      <th>PROD_NAME</th>\n",
       "      <th>PROD_QTY</th>\n",
       "      <th>TOT_SALES</th>\n",
       "    </tr>\n",
       "  </thead>\n",
       "  <tbody>\n",
       "    <tr>\n",
       "      <th>0</th>\n",
       "      <td>43390</td>\n",
       "      <td>1</td>\n",
       "      <td>1000</td>\n",
       "      <td>1</td>\n",
       "      <td>5</td>\n",
       "      <td>Natural Chip        Compny SeaSalt175g</td>\n",
       "      <td>2</td>\n",
       "      <td>6.0</td>\n",
       "    </tr>\n",
       "    <tr>\n",
       "      <th>1</th>\n",
       "      <td>43599</td>\n",
       "      <td>1</td>\n",
       "      <td>1307</td>\n",
       "      <td>348</td>\n",
       "      <td>66</td>\n",
       "      <td>CCs Nacho Cheese    175g</td>\n",
       "      <td>3</td>\n",
       "      <td>6.3</td>\n",
       "    </tr>\n",
       "    <tr>\n",
       "      <th>2</th>\n",
       "      <td>43605</td>\n",
       "      <td>1</td>\n",
       "      <td>1343</td>\n",
       "      <td>383</td>\n",
       "      <td>61</td>\n",
       "      <td>Smiths Crinkle Cut  Chips Chicken 170g</td>\n",
       "      <td>2</td>\n",
       "      <td>2.9</td>\n",
       "    </tr>\n",
       "    <tr>\n",
       "      <th>3</th>\n",
       "      <td>43329</td>\n",
       "      <td>2</td>\n",
       "      <td>2373</td>\n",
       "      <td>974</td>\n",
       "      <td>69</td>\n",
       "      <td>Smiths Chip Thinly  S/Cream&amp;Onion 175g</td>\n",
       "      <td>5</td>\n",
       "      <td>15.0</td>\n",
       "    </tr>\n",
       "    <tr>\n",
       "      <th>4</th>\n",
       "      <td>43330</td>\n",
       "      <td>2</td>\n",
       "      <td>2426</td>\n",
       "      <td>1038</td>\n",
       "      <td>108</td>\n",
       "      <td>Kettle Tortilla ChpsHny&amp;Jlpno Chili 150g</td>\n",
       "      <td>3</td>\n",
       "      <td>13.8</td>\n",
       "    </tr>\n",
       "  </tbody>\n",
       "</table>\n",
       "</div>"
      ],
      "text/plain": [
       "    DATE  STORE_NBR  LYLTY_CARD_NBR  TXN_ID  PROD_NBR  \\\n",
       "0  43390          1            1000       1         5   \n",
       "1  43599          1            1307     348        66   \n",
       "2  43605          1            1343     383        61   \n",
       "3  43329          2            2373     974        69   \n",
       "4  43330          2            2426    1038       108   \n",
       "\n",
       "                                  PROD_NAME  PROD_QTY  TOT_SALES  \n",
       "0    Natural Chip        Compny SeaSalt175g         2        6.0  \n",
       "1                  CCs Nacho Cheese    175g         3        6.3  \n",
       "2    Smiths Crinkle Cut  Chips Chicken 170g         2        2.9  \n",
       "3    Smiths Chip Thinly  S/Cream&Onion 175g         5       15.0  \n",
       "4  Kettle Tortilla ChpsHny&Jlpno Chili 150g         3       13.8  "
      ]
     },
     "execution_count": 4,
     "metadata": {},
     "output_type": "execute_result"
    }
   ],
   "source": [
    "df_td.head()"
   ]
  },
  {
   "cell_type": "code",
   "execution_count": 5,
   "id": "39cd072e",
   "metadata": {},
   "outputs": [
    {
     "data": {
      "text/html": [
       "<div>\n",
       "<style scoped>\n",
       "    .dataframe tbody tr th:only-of-type {\n",
       "        vertical-align: middle;\n",
       "    }\n",
       "\n",
       "    .dataframe tbody tr th {\n",
       "        vertical-align: top;\n",
       "    }\n",
       "\n",
       "    .dataframe thead th {\n",
       "        text-align: right;\n",
       "    }\n",
       "</style>\n",
       "<table border=\"1\" class=\"dataframe\">\n",
       "  <thead>\n",
       "    <tr style=\"text-align: right;\">\n",
       "      <th></th>\n",
       "      <th>LYLTY_CARD_NBR</th>\n",
       "      <th>LIFESTAGE</th>\n",
       "      <th>PREMIUM_CUSTOMER</th>\n",
       "    </tr>\n",
       "  </thead>\n",
       "  <tbody>\n",
       "    <tr>\n",
       "      <th>0</th>\n",
       "      <td>1000</td>\n",
       "      <td>YOUNG SINGLES/COUPLES</td>\n",
       "      <td>Premium</td>\n",
       "    </tr>\n",
       "    <tr>\n",
       "      <th>1</th>\n",
       "      <td>1002</td>\n",
       "      <td>YOUNG SINGLES/COUPLES</td>\n",
       "      <td>Mainstream</td>\n",
       "    </tr>\n",
       "    <tr>\n",
       "      <th>2</th>\n",
       "      <td>1003</td>\n",
       "      <td>YOUNG FAMILIES</td>\n",
       "      <td>Budget</td>\n",
       "    </tr>\n",
       "    <tr>\n",
       "      <th>3</th>\n",
       "      <td>1004</td>\n",
       "      <td>OLDER SINGLES/COUPLES</td>\n",
       "      <td>Mainstream</td>\n",
       "    </tr>\n",
       "    <tr>\n",
       "      <th>4</th>\n",
       "      <td>1005</td>\n",
       "      <td>MIDAGE SINGLES/COUPLES</td>\n",
       "      <td>Mainstream</td>\n",
       "    </tr>\n",
       "  </tbody>\n",
       "</table>\n",
       "</div>"
      ],
      "text/plain": [
       "   LYLTY_CARD_NBR               LIFESTAGE PREMIUM_CUSTOMER\n",
       "0            1000   YOUNG SINGLES/COUPLES          Premium\n",
       "1            1002   YOUNG SINGLES/COUPLES       Mainstream\n",
       "2            1003          YOUNG FAMILIES           Budget\n",
       "3            1004   OLDER SINGLES/COUPLES       Mainstream\n",
       "4            1005  MIDAGE SINGLES/COUPLES       Mainstream"
      ]
     },
     "execution_count": 5,
     "metadata": {},
     "output_type": "execute_result"
    }
   ],
   "source": [
    "df_pb.head()"
   ]
  },
  {
   "cell_type": "code",
   "execution_count": 6,
   "id": "adba0c9f",
   "metadata": {},
   "outputs": [],
   "source": [
    "df_td['DATE']=pd.to_datetime(df_td['DATE'], origin='1899-12-30', unit='D')"
   ]
  },
  {
   "cell_type": "code",
   "execution_count": 7,
   "id": "495318dc",
   "metadata": {},
   "outputs": [
    {
     "name": "stdout",
     "output_type": "stream",
     "text": [
      "<class 'pandas.core.frame.DataFrame'>\n",
      "RangeIndex: 264836 entries, 0 to 264835\n",
      "Data columns (total 8 columns):\n",
      " #   Column          Non-Null Count   Dtype         \n",
      "---  ------          --------------   -----         \n",
      " 0   DATE            264836 non-null  datetime64[ns]\n",
      " 1   STORE_NBR       264836 non-null  int64         \n",
      " 2   LYLTY_CARD_NBR  264836 non-null  int64         \n",
      " 3   TXN_ID          264836 non-null  int64         \n",
      " 4   PROD_NBR        264836 non-null  int64         \n",
      " 5   PROD_NAME       264836 non-null  object        \n",
      " 6   PROD_QTY        264836 non-null  int64         \n",
      " 7   TOT_SALES       264836 non-null  float64       \n",
      "dtypes: datetime64[ns](1), float64(1), int64(5), object(1)\n",
      "memory usage: 16.2+ MB\n"
     ]
    }
   ],
   "source": [
    "df_td.info()"
   ]
  },
  {
   "cell_type": "code",
   "execution_count": 8,
   "id": "e20d6589",
   "metadata": {},
   "outputs": [
    {
     "name": "stdout",
     "output_type": "stream",
     "text": [
      "<class 'pandas.core.frame.DataFrame'>\n",
      "RangeIndex: 72637 entries, 0 to 72636\n",
      "Data columns (total 3 columns):\n",
      " #   Column            Non-Null Count  Dtype \n",
      "---  ------            --------------  ----- \n",
      " 0   LYLTY_CARD_NBR    72637 non-null  int64 \n",
      " 1   LIFESTAGE         72637 non-null  object\n",
      " 2   PREMIUM_CUSTOMER  72637 non-null  object\n",
      "dtypes: int64(1), object(2)\n",
      "memory usage: 1.7+ MB\n"
     ]
    }
   ],
   "source": [
    "df_pb.info()"
   ]
  },
  {
   "cell_type": "code",
   "execution_count": 9,
   "id": "3c2d4301",
   "metadata": {},
   "outputs": [
    {
     "data": {
      "text/plain": [
       "DATE              0\n",
       "STORE_NBR         0\n",
       "LYLTY_CARD_NBR    0\n",
       "TXN_ID            0\n",
       "PROD_NBR          0\n",
       "PROD_NAME         0\n",
       "PROD_QTY          0\n",
       "TOT_SALES         0\n",
       "dtype: int64"
      ]
     },
     "execution_count": 9,
     "metadata": {},
     "output_type": "execute_result"
    }
   ],
   "source": [
    "df_td.isnull().sum()"
   ]
  },
  {
   "cell_type": "code",
   "execution_count": 10,
   "id": "51ff8008",
   "metadata": {},
   "outputs": [
    {
     "data": {
      "text/plain": [
       "LYLTY_CARD_NBR      0\n",
       "LIFESTAGE           0\n",
       "PREMIUM_CUSTOMER    0\n",
       "dtype: int64"
      ]
     },
     "execution_count": 10,
     "metadata": {},
     "output_type": "execute_result"
    }
   ],
   "source": [
    "df_pb.isnull().sum()"
   ]
  },
  {
   "cell_type": "code",
   "execution_count": 11,
   "id": "b85decea",
   "metadata": {},
   "outputs": [
    {
     "data": {
      "text/html": [
       "<div>\n",
       "<style scoped>\n",
       "    .dataframe tbody tr th:only-of-type {\n",
       "        vertical-align: middle;\n",
       "    }\n",
       "\n",
       "    .dataframe tbody tr th {\n",
       "        vertical-align: top;\n",
       "    }\n",
       "\n",
       "    .dataframe thead th {\n",
       "        text-align: right;\n",
       "    }\n",
       "</style>\n",
       "<table border=\"1\" class=\"dataframe\">\n",
       "  <thead>\n",
       "    <tr style=\"text-align: right;\">\n",
       "      <th></th>\n",
       "      <th>STORE_NBR</th>\n",
       "      <th>LYLTY_CARD_NBR</th>\n",
       "      <th>TXN_ID</th>\n",
       "      <th>PROD_NBR</th>\n",
       "      <th>PROD_QTY</th>\n",
       "      <th>TOT_SALES</th>\n",
       "    </tr>\n",
       "  </thead>\n",
       "  <tbody>\n",
       "    <tr>\n",
       "      <th>count</th>\n",
       "      <td>264836.00000</td>\n",
       "      <td>2.648360e+05</td>\n",
       "      <td>2.648360e+05</td>\n",
       "      <td>264836.000000</td>\n",
       "      <td>264836.000000</td>\n",
       "      <td>264836.000000</td>\n",
       "    </tr>\n",
       "    <tr>\n",
       "      <th>mean</th>\n",
       "      <td>135.08011</td>\n",
       "      <td>1.355495e+05</td>\n",
       "      <td>1.351583e+05</td>\n",
       "      <td>56.583157</td>\n",
       "      <td>1.907309</td>\n",
       "      <td>7.304200</td>\n",
       "    </tr>\n",
       "    <tr>\n",
       "      <th>std</th>\n",
       "      <td>76.78418</td>\n",
       "      <td>8.057998e+04</td>\n",
       "      <td>7.813303e+04</td>\n",
       "      <td>32.826638</td>\n",
       "      <td>0.643654</td>\n",
       "      <td>3.083226</td>\n",
       "    </tr>\n",
       "    <tr>\n",
       "      <th>min</th>\n",
       "      <td>1.00000</td>\n",
       "      <td>1.000000e+03</td>\n",
       "      <td>1.000000e+00</td>\n",
       "      <td>1.000000</td>\n",
       "      <td>1.000000</td>\n",
       "      <td>1.500000</td>\n",
       "    </tr>\n",
       "    <tr>\n",
       "      <th>25%</th>\n",
       "      <td>70.00000</td>\n",
       "      <td>7.002100e+04</td>\n",
       "      <td>6.760150e+04</td>\n",
       "      <td>28.000000</td>\n",
       "      <td>2.000000</td>\n",
       "      <td>5.400000</td>\n",
       "    </tr>\n",
       "    <tr>\n",
       "      <th>50%</th>\n",
       "      <td>130.00000</td>\n",
       "      <td>1.303575e+05</td>\n",
       "      <td>1.351375e+05</td>\n",
       "      <td>56.000000</td>\n",
       "      <td>2.000000</td>\n",
       "      <td>7.400000</td>\n",
       "    </tr>\n",
       "    <tr>\n",
       "      <th>75%</th>\n",
       "      <td>203.00000</td>\n",
       "      <td>2.030942e+05</td>\n",
       "      <td>2.027012e+05</td>\n",
       "      <td>85.000000</td>\n",
       "      <td>2.000000</td>\n",
       "      <td>9.200000</td>\n",
       "    </tr>\n",
       "    <tr>\n",
       "      <th>max</th>\n",
       "      <td>272.00000</td>\n",
       "      <td>2.373711e+06</td>\n",
       "      <td>2.415841e+06</td>\n",
       "      <td>114.000000</td>\n",
       "      <td>200.000000</td>\n",
       "      <td>650.000000</td>\n",
       "    </tr>\n",
       "  </tbody>\n",
       "</table>\n",
       "</div>"
      ],
      "text/plain": [
       "          STORE_NBR  LYLTY_CARD_NBR        TXN_ID       PROD_NBR  \\\n",
       "count  264836.00000    2.648360e+05  2.648360e+05  264836.000000   \n",
       "mean      135.08011    1.355495e+05  1.351583e+05      56.583157   \n",
       "std        76.78418    8.057998e+04  7.813303e+04      32.826638   \n",
       "min         1.00000    1.000000e+03  1.000000e+00       1.000000   \n",
       "25%        70.00000    7.002100e+04  6.760150e+04      28.000000   \n",
       "50%       130.00000    1.303575e+05  1.351375e+05      56.000000   \n",
       "75%       203.00000    2.030942e+05  2.027012e+05      85.000000   \n",
       "max       272.00000    2.373711e+06  2.415841e+06     114.000000   \n",
       "\n",
       "            PROD_QTY      TOT_SALES  \n",
       "count  264836.000000  264836.000000  \n",
       "mean        1.907309       7.304200  \n",
       "std         0.643654       3.083226  \n",
       "min         1.000000       1.500000  \n",
       "25%         2.000000       5.400000  \n",
       "50%         2.000000       7.400000  \n",
       "75%         2.000000       9.200000  \n",
       "max       200.000000     650.000000  "
      ]
     },
     "execution_count": 11,
     "metadata": {},
     "output_type": "execute_result"
    }
   ],
   "source": [
    "df_td.describe()"
   ]
  },
  {
   "cell_type": "code",
   "execution_count": 12,
   "id": "c784974b",
   "metadata": {},
   "outputs": [
    {
     "data": {
      "text/html": [
       "<div>\n",
       "<style scoped>\n",
       "    .dataframe tbody tr th:only-of-type {\n",
       "        vertical-align: middle;\n",
       "    }\n",
       "\n",
       "    .dataframe tbody tr th {\n",
       "        vertical-align: top;\n",
       "    }\n",
       "\n",
       "    .dataframe thead th {\n",
       "        text-align: right;\n",
       "    }\n",
       "</style>\n",
       "<table border=\"1\" class=\"dataframe\">\n",
       "  <thead>\n",
       "    <tr style=\"text-align: right;\">\n",
       "      <th></th>\n",
       "      <th>LYLTY_CARD_NBR</th>\n",
       "    </tr>\n",
       "  </thead>\n",
       "  <tbody>\n",
       "    <tr>\n",
       "      <th>count</th>\n",
       "      <td>7.263700e+04</td>\n",
       "    </tr>\n",
       "    <tr>\n",
       "      <th>mean</th>\n",
       "      <td>1.361859e+05</td>\n",
       "    </tr>\n",
       "    <tr>\n",
       "      <th>std</th>\n",
       "      <td>8.989293e+04</td>\n",
       "    </tr>\n",
       "    <tr>\n",
       "      <th>min</th>\n",
       "      <td>1.000000e+03</td>\n",
       "    </tr>\n",
       "    <tr>\n",
       "      <th>25%</th>\n",
       "      <td>6.620200e+04</td>\n",
       "    </tr>\n",
       "    <tr>\n",
       "      <th>50%</th>\n",
       "      <td>1.340400e+05</td>\n",
       "    </tr>\n",
       "    <tr>\n",
       "      <th>75%</th>\n",
       "      <td>2.033750e+05</td>\n",
       "    </tr>\n",
       "    <tr>\n",
       "      <th>max</th>\n",
       "      <td>2.373711e+06</td>\n",
       "    </tr>\n",
       "  </tbody>\n",
       "</table>\n",
       "</div>"
      ],
      "text/plain": [
       "       LYLTY_CARD_NBR\n",
       "count    7.263700e+04\n",
       "mean     1.361859e+05\n",
       "std      8.989293e+04\n",
       "min      1.000000e+03\n",
       "25%      6.620200e+04\n",
       "50%      1.340400e+05\n",
       "75%      2.033750e+05\n",
       "max      2.373711e+06"
      ]
     },
     "execution_count": 12,
     "metadata": {},
     "output_type": "execute_result"
    }
   ],
   "source": [
    "df_pb.describe()"
   ]
  },
  {
   "cell_type": "code",
   "execution_count": 13,
   "id": "4245802b",
   "metadata": {},
   "outputs": [],
   "source": [
    "unique_prods=df_td['PROD_NAME'].unique()"
   ]
  },
  {
   "cell_type": "code",
   "execution_count": 14,
   "id": "87e2fb2f",
   "metadata": {},
   "outputs": [
    {
     "name": "stdout",
     "output_type": "stream",
     "text": [
      "['Natural Chip        Compny SeaSalt175g' 'CCs Nacho Cheese    175g'\n",
      " 'Smiths Crinkle Cut  Chips Chicken 170g'\n",
      " 'Smiths Chip Thinly  S/Cream&Onion 175g'\n",
      " 'Kettle Tortilla ChpsHny&Jlpno Chili 150g'\n",
      " 'Old El Paso Salsa   Dip Tomato Mild 300g'\n",
      " 'Smiths Crinkle Chips Salt & Vinegar 330g'\n",
      " 'Grain Waves         Sweet Chilli 210g'\n",
      " 'Doritos Corn Chip Mexican Jalapeno 150g'\n",
      " 'Grain Waves Sour    Cream&Chives 210G'\n",
      " 'Kettle Sensations   Siracha Lime 150g' 'Twisties Cheese     270g'\n",
      " 'WW Crinkle Cut      Chicken 175g' 'Thins Chips Light&  Tangy 175g'\n",
      " 'CCs Original 175g' 'Burger Rings 220g'\n",
      " 'NCC Sour Cream &    Garden Chives 175g'\n",
      " 'Doritos Corn Chip Southern Chicken 150g' 'Cheezels Cheese Box 125g'\n",
      " 'Smiths Crinkle      Original 330g'\n",
      " 'Infzns Crn Crnchers Tangy Gcamole 110g'\n",
      " 'Kettle Sea Salt     And Vinegar 175g'\n",
      " 'Smiths Chip Thinly  Cut Original 175g' 'Kettle Original 175g'\n",
      " 'Red Rock Deli Thai  Chilli&Lime 150g' 'Pringles Sthrn FriedChicken 134g'\n",
      " 'Pringles Sweet&Spcy BBQ 134g' 'Red Rock Deli SR    Salsa & Mzzrlla 150g'\n",
      " 'Thins Chips         Originl saltd 175g'\n",
      " 'Red Rock Deli Sp    Salt & Truffle 150G'\n",
      " 'Smiths Thinly       Swt Chli&S/Cream175G' 'Kettle Chilli 175g'\n",
      " 'Doritos Mexicana    170g' 'Smiths Crinkle Cut  French OnionDip 150g'\n",
      " 'Natural ChipCo      Hony Soy Chckn175g'\n",
      " 'Dorito Corn Chp     Supreme 380g' 'Twisties Chicken270g'\n",
      " 'Smiths Thinly Cut   Roast Chicken 175g'\n",
      " 'Smiths Crinkle Cut  Tomato Salsa 150g'\n",
      " 'Kettle Mozzarella   Basil & Pesto 175g'\n",
      " 'Infuzions Thai SweetChili PotatoMix 110g'\n",
      " 'Kettle Sensations   Camembert & Fig 150g'\n",
      " 'Smith Crinkle Cut   Mac N Cheese 150g'\n",
      " 'Kettle Honey Soy    Chicken 175g' 'Thins Chips Seasonedchicken 175g'\n",
      " 'Smiths Crinkle Cut  Salt & Vinegar 170g'\n",
      " 'Infuzions BBQ Rib   Prawn Crackers 110g'\n",
      " 'GrnWves Plus Btroot & Chilli Jam 180g'\n",
      " 'Tyrrells Crisps     Lightly Salted 165g'\n",
      " 'Kettle Sweet Chilli And Sour Cream 175g'\n",
      " 'Doritos Salsa       Medium 300g' 'Kettle 135g Swt Pot Sea Salt'\n",
      " 'Pringles SourCream  Onion 134g' 'Doritos Corn Chips  Original 170g'\n",
      " 'Twisties Cheese     Burger 250g'\n",
      " 'Old El Paso Salsa   Dip Chnky Tom Ht300g'\n",
      " 'Cobs Popd Swt/Chlli &Sr/Cream Chips 110g'\n",
      " 'Woolworths Mild     Salsa 300g'\n",
      " 'Natural Chip Co     Tmato Hrb&Spce 175g'\n",
      " 'Smiths Crinkle Cut  Chips Original 170g'\n",
      " 'Cobs Popd Sea Salt  Chips 110g'\n",
      " 'Smiths Crinkle Cut  Chips Chs&Onion170g'\n",
      " 'French Fries Potato Chips 175g'\n",
      " 'Old El Paso Salsa   Dip Tomato Med 300g'\n",
      " 'Doritos Corn Chips  Cheese Supreme 170g'\n",
      " 'Pringles Original   Crisps 134g' 'RRD Chilli&         Coconut 150g'\n",
      " 'WW Original Corn    Chips 200g' 'Thins Potato Chips  Hot & Spicy 175g'\n",
      " 'Cobs Popd Sour Crm  &Chives Chips 110g'\n",
      " 'Smiths Crnkle Chip  Orgnl Big Bag 380g'\n",
      " 'Doritos Corn Chips  Nacho Cheese 170g'\n",
      " 'Kettle Sensations   BBQ&Maple 150g' 'WW D/Style Chip     Sea Salt 200g'\n",
      " 'Pringles Chicken    Salt Crips 134g' 'WW Original Stacked Chips 160g'\n",
      " 'Smiths Chip Thinly  CutSalt/Vinegr175g' 'Cheezels Cheese 330g'\n",
      " 'Tostitos Lightly    Salted 175g' 'Thins Chips Salt &  Vinegar 175g'\n",
      " 'Smiths Crinkle Cut  Chips Barbecue 170g' 'Cheetos Puffs 165g'\n",
      " 'RRD Sweet Chilli &  Sour Cream 165g' 'WW Crinkle Cut      Original 175g'\n",
      " 'Tostitos Splash Of  Lime 175g' 'Woolworths Medium   Salsa 300g'\n",
      " 'Kettle Tortilla ChpsBtroot&Ricotta 150g' 'CCs Tasty Cheese    175g'\n",
      " 'Woolworths Cheese   Rings 190g' 'Tostitos Smoked     Chipotle 175g'\n",
      " 'Pringles Barbeque   134g' 'WW Supreme Cheese   Corn Chips 200g'\n",
      " 'Pringles Mystery    Flavour 134g'\n",
      " 'Tyrrells Crisps     Ched & Chives 165g'\n",
      " 'Snbts Whlgrn Crisps Cheddr&Mstrd 90g' 'Cheetos Chs & Bacon Balls 190g'\n",
      " 'Pringles Slt Vingar 134g' 'Infuzions SourCream&Herbs Veg Strws 110g'\n",
      " 'Kettle Tortilla ChpsFeta&Garlic 150g'\n",
      " 'Infuzions Mango     Chutny Papadums 70g'\n",
      " 'RRD Steak &         Chimuchurri 150g' 'RRD Honey Soy       Chicken 165g'\n",
      " 'Sunbites Whlegrn    Crisps Frch/Onin 90g' 'RRD Salt & Vinegar  165g'\n",
      " 'Doritos Cheese      Supreme 330g' 'Smiths Crinkle Cut  Snag&Sauce 150g'\n",
      " 'WW Sour Cream &OnionStacked Chips 160g' 'RRD Lime & Pepper   165g'\n",
      " 'Natural ChipCo Sea  Salt & Vinegr 175g'\n",
      " 'Red Rock Deli Chikn&Garlic Aioli 150g'\n",
      " 'RRD SR Slow Rst     Pork Belly 150g' 'RRD Pc Sea Salt     165g'\n",
      " 'Smith Crinkle Cut   Bolognese 150g' 'Doritos Salsa Mild  300g']\n"
     ]
    }
   ],
   "source": [
    "print(unique_prods)"
   ]
  },
  {
   "cell_type": "code",
   "execution_count": 15,
   "id": "fd3af7c7",
   "metadata": {},
   "outputs": [
    {
     "name": "stdout",
     "output_type": "stream",
     "text": [
      "Kettle Mozzarella   Basil & Pesto 175g      3304\n",
      "Kettle Tortilla ChpsHny&Jlpno Chili 150g    3296\n",
      "Cobs Popd Swt/Chlli &Sr/Cream Chips 110g    3269\n",
      "Tyrrells Crisps     Ched & Chives 165g      3268\n",
      "Cobs Popd Sea Salt  Chips 110g              3265\n",
      "                                            ... \n",
      "RRD Pc Sea Salt     165g                    1431\n",
      "Woolworths Medium   Salsa 300g              1430\n",
      "NCC Sour Cream &    Garden Chives 175g      1419\n",
      "French Fries Potato Chips 175g              1418\n",
      "WW Crinkle Cut      Original 175g           1410\n",
      "Name: PROD_NAME, Length: 114, dtype: int64\n"
     ]
    }
   ],
   "source": [
    "print(df_td['PROD_NAME'].value_counts())"
   ]
  },
  {
   "cell_type": "code",
   "execution_count": 16,
   "id": "8bac0aa7",
   "metadata": {},
   "outputs": [],
   "source": [
    "product_words = [word for product in unique_prods for word in product.split()]"
   ]
  },
  {
   "cell_type": "code",
   "execution_count": 17,
   "id": "83b5639f",
   "metadata": {},
   "outputs": [
    {
     "name": "stdout",
     "output_type": "stream",
     "text": [
      "           words\n",
      "0        Natural\n",
      "1           Chip\n",
      "2         Compny\n",
      "3    SeaSalt175g\n",
      "4            CCs\n",
      "..           ...\n",
      "584         150g\n",
      "585      Doritos\n",
      "586        Salsa\n",
      "587         Mild\n",
      "588         300g\n",
      "\n",
      "[589 rows x 1 columns]\n"
     ]
    }
   ],
   "source": [
    "product_words_df = pd.DataFrame(product_words, columns=['words'])\n",
    "print(product_words_df)"
   ]
  },
  {
   "cell_type": "code",
   "execution_count": 18,
   "id": "b5fee45f",
   "metadata": {},
   "outputs": [
    {
     "name": "stdout",
     "output_type": "stream",
     "text": [
      "175g               26\n",
      "Chips              21\n",
      "150g               19\n",
      "&                  17\n",
      "Smiths             16\n",
      "                   ..\n",
      "Fig                 1\n",
      "Mac                 1\n",
      "N                   1\n",
      "Seasonedchicken     1\n",
      "Bolognese           1\n",
      "Name: words, Length: 220, dtype: int64\n"
     ]
    }
   ],
   "source": [
    "word_counts = product_words_df['words'].value_counts()\n",
    "print(word_counts)"
   ]
  },
  {
   "cell_type": "code",
   "execution_count": 19,
   "id": "6711b548",
   "metadata": {},
   "outputs": [],
   "source": [
    "df_td['SALSA'] = df_td['PROD_NAME'].str.contains('salsa', case=False)"
   ]
  },
  {
   "cell_type": "code",
   "execution_count": 20,
   "id": "7e89b183",
   "metadata": {},
   "outputs": [],
   "source": [
    "df_td=df_td[df_td['SALSA'] == False]"
   ]
  },
  {
   "cell_type": "code",
   "execution_count": 21,
   "id": "fd71b28c",
   "metadata": {},
   "outputs": [],
   "source": [
    "df_td=df_td.drop(columns=['SALSA'])"
   ]
  },
  {
   "cell_type": "code",
   "execution_count": 22,
   "id": "e5d22701",
   "metadata": {},
   "outputs": [
    {
     "name": "stdout",
     "output_type": "stream",
     "text": [
      "             DATE  STORE_NBR  LYLTY_CARD_NBR  TXN_ID  PROD_NBR  \\\n",
      "0      2018-10-17          1            1000       1         5   \n",
      "1      2019-05-14          1            1307     348        66   \n",
      "2      2019-05-20          1            1343     383        61   \n",
      "3      2018-08-17          2            2373     974        69   \n",
      "4      2018-08-18          2            2426    1038       108   \n",
      "...           ...        ...             ...     ...       ...   \n",
      "264831 2019-03-09        272          272319  270088        89   \n",
      "264832 2018-08-13        272          272358  270154        74   \n",
      "264833 2018-11-06        272          272379  270187        51   \n",
      "264834 2018-12-27        272          272379  270188        42   \n",
      "264835 2018-09-22        272          272380  270189        74   \n",
      "\n",
      "                                       PROD_NAME  PROD_QTY  TOT_SALES  \n",
      "0         Natural Chip        Compny SeaSalt175g         2        6.0  \n",
      "1                       CCs Nacho Cheese    175g         3        6.3  \n",
      "2         Smiths Crinkle Cut  Chips Chicken 170g         2        2.9  \n",
      "3         Smiths Chip Thinly  S/Cream&Onion 175g         5       15.0  \n",
      "4       Kettle Tortilla ChpsHny&Jlpno Chili 150g         3       13.8  \n",
      "...                                          ...       ...        ...  \n",
      "264831   Kettle Sweet Chilli And Sour Cream 175g         2       10.8  \n",
      "264832             Tostitos Splash Of  Lime 175g         1        4.4  \n",
      "264833                  Doritos Mexicana    170g         2        8.8  \n",
      "264834   Doritos Corn Chip Mexican Jalapeno 150g         2        7.8  \n",
      "264835             Tostitos Splash Of  Lime 175g         2        8.8  \n",
      "\n",
      "[246742 rows x 8 columns]\n"
     ]
    }
   ],
   "source": [
    "print(df_td)"
   ]
  },
  {
   "cell_type": "code",
   "execution_count": 23,
   "id": "9759a616",
   "metadata": {},
   "outputs": [
    {
     "data": {
      "text/plain": [
       "DATE              0\n",
       "STORE_NBR         0\n",
       "LYLTY_CARD_NBR    0\n",
       "TXN_ID            0\n",
       "PROD_NBR          0\n",
       "PROD_NAME         0\n",
       "PROD_QTY          0\n",
       "TOT_SALES         0\n",
       "dtype: int64"
      ]
     },
     "execution_count": 23,
     "metadata": {},
     "output_type": "execute_result"
    }
   ],
   "source": [
    "df_td.isnull().sum()"
   ]
  },
  {
   "cell_type": "code",
   "execution_count": 24,
   "id": "aeeb0a94",
   "metadata": {},
   "outputs": [
    {
     "data": {
      "text/html": [
       "<div>\n",
       "<style scoped>\n",
       "    .dataframe tbody tr th:only-of-type {\n",
       "        vertical-align: middle;\n",
       "    }\n",
       "\n",
       "    .dataframe tbody tr th {\n",
       "        vertical-align: top;\n",
       "    }\n",
       "\n",
       "    .dataframe thead th {\n",
       "        text-align: right;\n",
       "    }\n",
       "</style>\n",
       "<table border=\"1\" class=\"dataframe\">\n",
       "  <thead>\n",
       "    <tr style=\"text-align: right;\">\n",
       "      <th></th>\n",
       "      <th>STORE_NBR</th>\n",
       "      <th>LYLTY_CARD_NBR</th>\n",
       "      <th>TXN_ID</th>\n",
       "      <th>PROD_NBR</th>\n",
       "      <th>PROD_QTY</th>\n",
       "      <th>TOT_SALES</th>\n",
       "    </tr>\n",
       "  </thead>\n",
       "  <tbody>\n",
       "    <tr>\n",
       "      <th>count</th>\n",
       "      <td>246742.000000</td>\n",
       "      <td>2.467420e+05</td>\n",
       "      <td>2.467420e+05</td>\n",
       "      <td>246742.000000</td>\n",
       "      <td>246742.000000</td>\n",
       "      <td>246742.000000</td>\n",
       "    </tr>\n",
       "    <tr>\n",
       "      <th>mean</th>\n",
       "      <td>135.051098</td>\n",
       "      <td>1.355310e+05</td>\n",
       "      <td>1.351311e+05</td>\n",
       "      <td>56.351789</td>\n",
       "      <td>1.908062</td>\n",
       "      <td>7.321322</td>\n",
       "    </tr>\n",
       "    <tr>\n",
       "      <th>std</th>\n",
       "      <td>76.787096</td>\n",
       "      <td>8.071528e+04</td>\n",
       "      <td>7.814772e+04</td>\n",
       "      <td>33.695428</td>\n",
       "      <td>0.659831</td>\n",
       "      <td>3.077828</td>\n",
       "    </tr>\n",
       "    <tr>\n",
       "      <th>min</th>\n",
       "      <td>1.000000</td>\n",
       "      <td>1.000000e+03</td>\n",
       "      <td>1.000000e+00</td>\n",
       "      <td>1.000000</td>\n",
       "      <td>1.000000</td>\n",
       "      <td>1.700000</td>\n",
       "    </tr>\n",
       "    <tr>\n",
       "      <th>25%</th>\n",
       "      <td>70.000000</td>\n",
       "      <td>7.001500e+04</td>\n",
       "      <td>6.756925e+04</td>\n",
       "      <td>26.000000</td>\n",
       "      <td>2.000000</td>\n",
       "      <td>5.800000</td>\n",
       "    </tr>\n",
       "    <tr>\n",
       "      <th>50%</th>\n",
       "      <td>130.000000</td>\n",
       "      <td>1.303670e+05</td>\n",
       "      <td>1.351830e+05</td>\n",
       "      <td>53.000000</td>\n",
       "      <td>2.000000</td>\n",
       "      <td>7.400000</td>\n",
       "    </tr>\n",
       "    <tr>\n",
       "      <th>75%</th>\n",
       "      <td>203.000000</td>\n",
       "      <td>2.030840e+05</td>\n",
       "      <td>2.026538e+05</td>\n",
       "      <td>87.000000</td>\n",
       "      <td>2.000000</td>\n",
       "      <td>8.800000</td>\n",
       "    </tr>\n",
       "    <tr>\n",
       "      <th>max</th>\n",
       "      <td>272.000000</td>\n",
       "      <td>2.373711e+06</td>\n",
       "      <td>2.415841e+06</td>\n",
       "      <td>114.000000</td>\n",
       "      <td>200.000000</td>\n",
       "      <td>650.000000</td>\n",
       "    </tr>\n",
       "  </tbody>\n",
       "</table>\n",
       "</div>"
      ],
      "text/plain": [
       "           STORE_NBR  LYLTY_CARD_NBR        TXN_ID       PROD_NBR  \\\n",
       "count  246742.000000    2.467420e+05  2.467420e+05  246742.000000   \n",
       "mean      135.051098    1.355310e+05  1.351311e+05      56.351789   \n",
       "std        76.787096    8.071528e+04  7.814772e+04      33.695428   \n",
       "min         1.000000    1.000000e+03  1.000000e+00       1.000000   \n",
       "25%        70.000000    7.001500e+04  6.756925e+04      26.000000   \n",
       "50%       130.000000    1.303670e+05  1.351830e+05      53.000000   \n",
       "75%       203.000000    2.030840e+05  2.026538e+05      87.000000   \n",
       "max       272.000000    2.373711e+06  2.415841e+06     114.000000   \n",
       "\n",
       "            PROD_QTY      TOT_SALES  \n",
       "count  246742.000000  246742.000000  \n",
       "mean        1.908062       7.321322  \n",
       "std         0.659831       3.077828  \n",
       "min         1.000000       1.700000  \n",
       "25%         2.000000       5.800000  \n",
       "50%         2.000000       7.400000  \n",
       "75%         2.000000       8.800000  \n",
       "max       200.000000     650.000000  "
      ]
     },
     "execution_count": 24,
     "metadata": {},
     "output_type": "execute_result"
    }
   ],
   "source": [
    "df_td.describe()"
   ]
  },
  {
   "cell_type": "code",
   "execution_count": 25,
   "id": "9fb5295b",
   "metadata": {},
   "outputs": [
    {
     "data": {
      "image/png": "[encoded data removed]",
      "text/plain": [
       "<Figure size 720x432 with 1 Axes>"
      ]
     },
     "metadata": {
      "needs_background": "light"
     },
     "output_type": "display_data"
    }
   ],
   "source": [
    "numerical_columns = df_td.select_dtypes(include=['float64', 'int64']).columns\n",
    "\n",
    "df_td[numerical_columns].boxplot(figsize=(10, 6))\n",
    "plt.title(\"Boxplots for Numerical Columns\")\n",
    "plt.xticks(rotation=45)  # Rotate x labels for better readability\n",
    "plt.show()"
   ]
  },
  {
   "cell_type": "code",
   "execution_count": 26,
   "id": "f69d2f93",
   "metadata": {},
   "outputs": [
    {
     "name": "stdout",
     "output_type": "stream",
     "text": [
      "2\n"
     ]
    }
   ],
   "source": [
    "count_200 = (df_td['PROD_QTY'] == 200).sum()\n",
    "print(count_200)"
   ]
  },
  {
   "cell_type": "code",
   "execution_count": 27,
   "id": "3679321c",
   "metadata": {},
   "outputs": [
    {
     "name": "stdout",
     "output_type": "stream",
     "text": [
      "PROD_NAME\n",
      "Dorito Corn Chp     Supreme 380g    2\n",
      "dtype: int64\n"
     ]
    }
   ],
   "source": [
    "filtered_df = df_td[df_td['PROD_QTY'] == 200]\n",
    "product_qty_counts = filtered_df.groupby('PROD_NAME').size()\n",
    "print(product_qty_counts)"
   ]
  },
  {
   "cell_type": "code",
   "execution_count": 28,
   "id": "a0f4a665",
   "metadata": {},
   "outputs": [
    {
     "name": "stdout",
     "output_type": "stream",
     "text": [
      "            DATE  STORE_NBR  LYLTY_CARD_NBR  TXN_ID  PROD_NBR  \\\n",
      "69762 2018-08-19        226          226000  226201         4   \n",
      "69763 2019-05-20        226          226000  226210         4   \n",
      "\n",
      "                              PROD_NAME  PROD_QTY  TOT_SALES  \n",
      "69762  Dorito Corn Chp     Supreme 380g       200      650.0  \n",
      "69763  Dorito Corn Chp     Supreme 380g       200      650.0  \n"
     ]
    }
   ],
   "source": [
    "print(df_td[df_td['PROD_QTY']==200])"
   ]
  },
  {
   "cell_type": "code",
   "execution_count": 29,
   "id": "6e4b91f9",
   "metadata": {},
   "outputs": [
    {
     "data": {
      "text/html": [
       "<div>\n",
       "<style scoped>\n",
       "    .dataframe tbody tr th:only-of-type {\n",
       "        vertical-align: middle;\n",
       "    }\n",
       "\n",
       "    .dataframe tbody tr th {\n",
       "        vertical-align: top;\n",
       "    }\n",
       "\n",
       "    .dataframe thead th {\n",
       "        text-align: right;\n",
       "    }\n",
       "</style>\n",
       "<table border=\"1\" class=\"dataframe\">\n",
       "  <thead>\n",
       "    <tr style=\"text-align: right;\">\n",
       "      <th></th>\n",
       "      <th>STORE_NBR</th>\n",
       "      <th>LYLTY_CARD_NBR</th>\n",
       "      <th>TXN_ID</th>\n",
       "      <th>PROD_NBR</th>\n",
       "      <th>PROD_QTY</th>\n",
       "      <th>TOT_SALES</th>\n",
       "    </tr>\n",
       "  </thead>\n",
       "  <tbody>\n",
       "    <tr>\n",
       "      <th>count</th>\n",
       "      <td>246740.000000</td>\n",
       "      <td>2.467400e+05</td>\n",
       "      <td>2.467400e+05</td>\n",
       "      <td>246740.000000</td>\n",
       "      <td>246740.000000</td>\n",
       "      <td>246740.000000</td>\n",
       "    </tr>\n",
       "    <tr>\n",
       "      <th>mean</th>\n",
       "      <td>135.050361</td>\n",
       "      <td>1.355303e+05</td>\n",
       "      <td>1.351304e+05</td>\n",
       "      <td>56.352213</td>\n",
       "      <td>1.906456</td>\n",
       "      <td>7.316113</td>\n",
       "    </tr>\n",
       "    <tr>\n",
       "      <th>std</th>\n",
       "      <td>76.786971</td>\n",
       "      <td>8.071520e+04</td>\n",
       "      <td>7.814760e+04</td>\n",
       "      <td>33.695235</td>\n",
       "      <td>0.342499</td>\n",
       "      <td>2.474897</td>\n",
       "    </tr>\n",
       "    <tr>\n",
       "      <th>min</th>\n",
       "      <td>1.000000</td>\n",
       "      <td>1.000000e+03</td>\n",
       "      <td>1.000000e+00</td>\n",
       "      <td>1.000000</td>\n",
       "      <td>1.000000</td>\n",
       "      <td>1.700000</td>\n",
       "    </tr>\n",
       "    <tr>\n",
       "      <th>25%</th>\n",
       "      <td>70.000000</td>\n",
       "      <td>7.001500e+04</td>\n",
       "      <td>6.756875e+04</td>\n",
       "      <td>26.000000</td>\n",
       "      <td>2.000000</td>\n",
       "      <td>5.800000</td>\n",
       "    </tr>\n",
       "    <tr>\n",
       "      <th>50%</th>\n",
       "      <td>130.000000</td>\n",
       "      <td>1.303670e+05</td>\n",
       "      <td>1.351815e+05</td>\n",
       "      <td>53.000000</td>\n",
       "      <td>2.000000</td>\n",
       "      <td>7.400000</td>\n",
       "    </tr>\n",
       "    <tr>\n",
       "      <th>75%</th>\n",
       "      <td>203.000000</td>\n",
       "      <td>2.030832e+05</td>\n",
       "      <td>2.026522e+05</td>\n",
       "      <td>87.000000</td>\n",
       "      <td>2.000000</td>\n",
       "      <td>8.800000</td>\n",
       "    </tr>\n",
       "    <tr>\n",
       "      <th>max</th>\n",
       "      <td>272.000000</td>\n",
       "      <td>2.373711e+06</td>\n",
       "      <td>2.415841e+06</td>\n",
       "      <td>114.000000</td>\n",
       "      <td>5.000000</td>\n",
       "      <td>29.500000</td>\n",
       "    </tr>\n",
       "  </tbody>\n",
       "</table>\n",
       "</div>"
      ],
      "text/plain": [
       "           STORE_NBR  LYLTY_CARD_NBR        TXN_ID       PROD_NBR  \\\n",
       "count  246740.000000    2.467400e+05  2.467400e+05  246740.000000   \n",
       "mean      135.050361    1.355303e+05  1.351304e+05      56.352213   \n",
       "std        76.786971    8.071520e+04  7.814760e+04      33.695235   \n",
       "min         1.000000    1.000000e+03  1.000000e+00       1.000000   \n",
       "25%        70.000000    7.001500e+04  6.756875e+04      26.000000   \n",
       "50%       130.000000    1.303670e+05  1.351815e+05      53.000000   \n",
       "75%       203.000000    2.030832e+05  2.026522e+05      87.000000   \n",
       "max       272.000000    2.373711e+06  2.415841e+06     114.000000   \n",
       "\n",
       "            PROD_QTY      TOT_SALES  \n",
       "count  246740.000000  246740.000000  \n",
       "mean        1.906456       7.316113  \n",
       "std         0.342499       2.474897  \n",
       "min         1.000000       1.700000  \n",
       "25%         2.000000       5.800000  \n",
       "50%         2.000000       7.400000  \n",
       "75%         2.000000       8.800000  \n",
       "max         5.000000      29.500000  "
      ]
     },
     "execution_count": 29,
     "metadata": {},
     "output_type": "execute_result"
    }
   ],
   "source": [
    "filtered_data = df_td[df_td['LYLTY_CARD_NBR'] != 226000]\n",
    "df_td=filtered_data\n",
    "# Display the filtered data\n",
    "df_td.describe()"
   ]
  },
  {
   "cell_type": "code",
   "execution_count": 30,
   "id": "d484b831",
   "metadata": {},
   "outputs": [
    {
     "name": "stdout",
     "output_type": "stream",
     "text": [
      "DATE\n",
      "2018-07-01    663\n",
      "2018-07-02    650\n",
      "2018-07-03    674\n",
      "2018-07-04    669\n",
      "2018-07-05    660\n",
      "             ... \n",
      "2019-06-26    657\n",
      "2019-06-27    669\n",
      "2019-06-28    673\n",
      "2019-06-29    703\n",
      "2019-06-30    704\n",
      "Length: 364, dtype: int64\n"
     ]
    }
   ],
   "source": [
    "transactions_by_date = df_td.groupby('DATE').size()\n",
    "print(transactions_by_date)\n"
   ]
  },
  {
   "cell_type": "code",
   "execution_count": 31,
   "id": "c9173837",
   "metadata": {},
   "outputs": [
    {
     "data": {
      "text/plain": [
       "count    364.000000\n",
       "mean     677.857143\n",
       "std       33.687536\n",
       "min      607.000000\n",
       "25%      658.000000\n",
       "50%      674.000000\n",
       "75%      694.250000\n",
       "max      865.000000\n",
       "dtype: float64"
      ]
     },
     "execution_count": 31,
     "metadata": {},
     "output_type": "execute_result"
    }
   ],
   "source": [
    "transactions_by_date.describe()"
   ]
  },
  {
   "cell_type": "code",
   "execution_count": 32,
   "id": "9238a82d",
   "metadata": {},
   "outputs": [
    {
     "name": "stdout",
     "output_type": "stream",
     "text": [
      "Missing dates:\n",
      " DatetimeIndex(['2018-12-25'], dtype='datetime64[ns]', freq=None)\n"
     ]
    }
   ],
   "source": [
    "complete_date_range = pd.date_range(start=df_td['DATE'].min(), end=df_td['DATE'].max())\n",
    "actual_dates = pd.Series(df_td['DATE'].unique())\n",
    "missing_dates = complete_date_range.difference(actual_dates)\n",
    "print(\"Missing dates:\\n\", missing_dates)"
   ]
  },
  {
   "cell_type": "code",
   "execution_count": 33,
   "id": "88657b60",
   "metadata": {},
   "outputs": [
    {
     "data": {
      "image/png": "[encoded data removed]",
      "text/plain": [
       "<Figure size 720x432 with 1 Axes>"
      ]
     },
     "metadata": {
      "needs_background": "light"
     },
     "output_type": "display_data"
    }
   ],
   "source": [
    "all_dates = pd.date_range(start=df_td['DATE'].min(), end=df_td['DATE'].max())\n",
    "transactions_by_date = transactions_by_date.reindex(all_dates, fill_value=0)\n",
    "plt.figure(figsize=(10, 6))\n",
    "transactions_by_date.plot()\n",
    "plt.title('Number of Transactions Over Time')\n",
    "plt.xlabel('Date')\n",
    "plt.ylabel('Number of Transactions')\n",
    "plt.grid(True)\n",
    "plt.show()"
   ]
  },
  {
   "cell_type": "code",
   "execution_count": 34,
   "id": "264f31d7",
   "metadata": {},
   "outputs": [
    {
     "name": "stdout",
     "output_type": "stream",
     "text": [
      "70.0      1507\n",
      "90.0      3008\n",
      "110.0    22387\n",
      "125.0     1454\n",
      "134.0    25102\n",
      "135.0     3257\n",
      "150.0    40203\n",
      "160.0     2970\n",
      "165.0    15297\n",
      "170.0    19983\n",
      "175.0    66390\n",
      "180.0     1468\n",
      "190.0     2995\n",
      "200.0     4473\n",
      "210.0     6272\n",
      "220.0     1564\n",
      "250.0     3169\n",
      "270.0     6285\n",
      "330.0    12540\n",
      "380.0     6416\n",
      "Name: PACK_SIZE, dtype: int64\n"
     ]
    }
   ],
   "source": [
    "import re\n",
    "df_td['PACK_SIZE'] = df_td['PROD_NAME'].str.extract('(\\d+)').astype(float)\n",
    "pack_size_counts = df_td['PACK_SIZE'].value_counts().sort_index()\n",
    "print(pack_size_counts)"
   ]
  },
  {
   "cell_type": "code",
   "execution_count": 35,
   "id": "833a9854",
   "metadata": {},
   "outputs": [
    {
     "data": {
      "image/png": "[encoded data removed]",
      "text/plain": [
       "<Figure size 720x432 with 1 Axes>"
      ]
     },
     "metadata": {
      "needs_background": "light"
     },
     "output_type": "display_data"
    }
   ],
   "source": [
    "plt.figure(figsize=(10, 6))\n",
    "sns.histplot(df_td['PACK_SIZE'], bins=len(df_td['PACK_SIZE'].unique()), kde=False, discrete=True)\n",
    "plt.title('Number of Transactions by Pack Size')\n",
    "plt.xlabel('Pack Size')\n",
    "plt.ylabel('Number of Transactions')\n",
    "plt.xticks(rotation=45)  \n",
    "plt.grid(True)\n",
    "plt.show()"
   ]
  },
  {
   "cell_type": "code",
   "execution_count": 36,
   "id": "31d76c8b",
   "metadata": {},
   "outputs": [
    {
     "name": "stdout",
     "output_type": "stream",
     "text": [
      "70.0      1507\n",
      "90.0      3008\n",
      "110.0    22387\n",
      "125.0     1454\n",
      "134.0    25102\n",
      "135.0     3257\n",
      "150.0    40203\n",
      "160.0     2970\n",
      "165.0    15297\n",
      "170.0    19983\n",
      "175.0    66390\n",
      "180.0     1468\n",
      "190.0     2995\n",
      "200.0     4473\n",
      "210.0     6272\n",
      "220.0     1564\n",
      "250.0     3169\n",
      "270.0     6285\n",
      "330.0    12540\n",
      "380.0     6416\n",
      "Name: PACK_SIZE, dtype: int64\n"
     ]
    }
   ],
   "source": [
    "pack_size_counts = df_td['PACK_SIZE'].value_counts().sort_index()\n",
    "print(pack_size_counts)"
   ]
  },
  {
   "cell_type": "code",
   "execution_count": 37,
   "id": "2be161f3",
   "metadata": {},
   "outputs": [
    {
     "name": "stdout",
     "output_type": "stream",
     "text": [
      "                                       PROD_NAME     BRAND\n",
      "0         Natural Chip        Compny SeaSalt175g   Natural\n",
      "1                       CCs Nacho Cheese    175g       CCs\n",
      "2         Smiths Crinkle Cut  Chips Chicken 170g    Smiths\n",
      "3         Smiths Chip Thinly  S/Cream&Onion 175g    Smiths\n",
      "4       Kettle Tortilla ChpsHny&Jlpno Chili 150g    Kettle\n",
      "...                                          ...       ...\n",
      "264831   Kettle Sweet Chilli And Sour Cream 175g    Kettle\n",
      "264832             Tostitos Splash Of  Lime 175g  Tostitos\n",
      "264833                  Doritos Mexicana    170g   Doritos\n",
      "264834   Doritos Corn Chip Mexican Jalapeno 150g   Doritos\n",
      "264835             Tostitos Splash Of  Lime 175g  Tostitos\n",
      "\n",
      "[246740 rows x 2 columns]\n"
     ]
    }
   ],
   "source": [
    "df_td['BRAND'] = df_td['PROD_NAME'].str.split().str[0]\n",
    "print(df_td[['PROD_NAME', 'BRAND']])"
   ]
  },
  {
   "cell_type": "code",
   "execution_count": 38,
   "id": "2b71029c",
   "metadata": {},
   "outputs": [
    {
     "name": "stdout",
     "output_type": "stream",
     "text": [
      "['Natural' 'CCs' 'Smiths' 'Kettle' 'Grain' 'Doritos' 'Twisties' 'WW'\n",
      " 'Thins' 'Burger' 'NCC' 'Cheezels' 'Infzns' 'Red' 'Pringles' 'Dorito'\n",
      " 'Infuzions' 'Smith' 'GrnWves' 'Tyrrells' 'Cobs' 'French' 'RRD' 'Tostitos'\n",
      " 'Cheetos' 'Woolworths' 'Snbts' 'Sunbites']\n"
     ]
    }
   ],
   "source": [
    "print(df_td['BRAND'].unique())"
   ]
  },
  {
   "cell_type": "code",
   "execution_count": 39,
   "id": "760fd272",
   "metadata": {},
   "outputs": [
    {
     "name": "stdout",
     "output_type": "stream",
     "text": [
      "Kettle        41288\n",
      "Smiths        27390\n",
      "Pringles      25102\n",
      "Doritos       22041\n",
      "Thins         14075\n",
      "RRD           11894\n",
      "Infuzions     11057\n",
      "WW            10320\n",
      "Cobs           9693\n",
      "Tostitos       9471\n",
      "Twisties       9454\n",
      "Tyrrells       6442\n",
      "Grain          6272\n",
      "Natural        6050\n",
      "Cheezels       4603\n",
      "CCs            4551\n",
      "Red            4427\n",
      "Dorito         3183\n",
      "Infzns         3144\n",
      "Smith          2963\n",
      "Cheetos        2927\n",
      "Snbts          1576\n",
      "Burger         1564\n",
      "Woolworths     1516\n",
      "GrnWves        1468\n",
      "Sunbites       1432\n",
      "NCC            1419\n",
      "French         1418\n",
      "Name: BRAND, dtype: int64\n"
     ]
    }
   ],
   "source": [
    "print(df_td['BRAND'].value_counts())"
   ]
  },
  {
   "cell_type": "code",
   "execution_count": 40,
   "id": "d33f6a1b",
   "metadata": {},
   "outputs": [
    {
     "name": "stdout",
     "output_type": "stream",
     "text": [
      "['Natural' 'CCs' 'Smiths' 'Kettle' 'Grain' 'Doritos' 'Twisties' 'WW'\n",
      " 'Thins' 'Burger' 'NCC' 'Cheezels' 'Infzns' 'Red' 'Pringles' 'Dorito'\n",
      " 'Infuzions' 'Smith' 'GrnWves' 'Tyrrells' 'Cobs' 'French' 'RRD' 'Tostitos'\n",
      " 'Cheetos' 'Woolworths' 'Snbts' 'Sunbites']\n"
     ]
    }
   ],
   "source": [
    "df_td.loc[df_td['BRAND'] == 'RED', 'BRAND'] = 'RRD'\n",
    "print(df_td['BRAND'].unique())"
   ]
  },
  {
   "cell_type": "code",
   "execution_count": 41,
   "id": "937cf3bf",
   "metadata": {},
   "outputs": [
    {
     "name": "stdout",
     "output_type": "stream",
     "text": [
      "No duplicates were created, the number of rows is the same.\n"
     ]
    }
   ],
   "source": [
    "merged_data = pd.merge(df_td, df_pb, how='left')\n",
    "\n",
    "# Check if the number of rows in 'data' is the same as in 'transactionData'\n",
    "if len(merged_data) == len(df_td):\n",
    "    print(\"No duplicates were created, the number of rows is the same.\")\n",
    "else:\n",
    "    print(\"Row count differs, possible duplicates or mismatches.\")"
   ]
  },
  {
   "cell_type": "code",
   "execution_count": 42,
   "id": "689eda4d",
   "metadata": {},
   "outputs": [
    {
     "data": {
      "text/plain": [
       "DATE                0\n",
       "STORE_NBR           0\n",
       "LYLTY_CARD_NBR      0\n",
       "TXN_ID              0\n",
       "PROD_NBR            0\n",
       "PROD_NAME           0\n",
       "PROD_QTY            0\n",
       "TOT_SALES           0\n",
       "PACK_SIZE           0\n",
       "BRAND               0\n",
       "LIFESTAGE           0\n",
       "PREMIUM_CUSTOMER    0\n",
       "dtype: int64"
      ]
     },
     "execution_count": 42,
     "metadata": {},
     "output_type": "execute_result"
    }
   ],
   "source": [
    "merged_data.isnull().sum()"
   ]
  },
  {
   "cell_type": "code",
   "execution_count": 43,
   "id": "5a5d6e5a",
   "metadata": {},
   "outputs": [
    {
     "data": {
      "text/html": [
       "<div>\n",
       "<style scoped>\n",
       "    .dataframe tbody tr th:only-of-type {\n",
       "        vertical-align: middle;\n",
       "    }\n",
       "\n",
       "    .dataframe tbody tr th {\n",
       "        vertical-align: top;\n",
       "    }\n",
       "\n",
       "    .dataframe thead th {\n",
       "        text-align: right;\n",
       "    }\n",
       "</style>\n",
       "<table border=\"1\" class=\"dataframe\">\n",
       "  <thead>\n",
       "    <tr style=\"text-align: right;\">\n",
       "      <th></th>\n",
       "      <th>DATE</th>\n",
       "      <th>STORE_NBR</th>\n",
       "      <th>LYLTY_CARD_NBR</th>\n",
       "      <th>TXN_ID</th>\n",
       "      <th>PROD_NBR</th>\n",
       "      <th>PROD_NAME</th>\n",
       "      <th>PROD_QTY</th>\n",
       "      <th>TOT_SALES</th>\n",
       "      <th>PACK_SIZE</th>\n",
       "      <th>BRAND</th>\n",
       "      <th>LIFESTAGE</th>\n",
       "      <th>PREMIUM_CUSTOMER</th>\n",
       "    </tr>\n",
       "  </thead>\n",
       "  <tbody>\n",
       "    <tr>\n",
       "      <th>0</th>\n",
       "      <td>2018-10-17</td>\n",
       "      <td>1</td>\n",
       "      <td>1000</td>\n",
       "      <td>1</td>\n",
       "      <td>5</td>\n",
       "      <td>Natural Chip        Compny SeaSalt175g</td>\n",
       "      <td>2</td>\n",
       "      <td>6.0</td>\n",
       "      <td>175.0</td>\n",
       "      <td>Natural</td>\n",
       "      <td>YOUNG SINGLES/COUPLES</td>\n",
       "      <td>Premium</td>\n",
       "    </tr>\n",
       "    <tr>\n",
       "      <th>1</th>\n",
       "      <td>2019-05-14</td>\n",
       "      <td>1</td>\n",
       "      <td>1307</td>\n",
       "      <td>348</td>\n",
       "      <td>66</td>\n",
       "      <td>CCs Nacho Cheese    175g</td>\n",
       "      <td>3</td>\n",
       "      <td>6.3</td>\n",
       "      <td>175.0</td>\n",
       "      <td>CCs</td>\n",
       "      <td>MIDAGE SINGLES/COUPLES</td>\n",
       "      <td>Budget</td>\n",
       "    </tr>\n",
       "    <tr>\n",
       "      <th>2</th>\n",
       "      <td>2019-05-20</td>\n",
       "      <td>1</td>\n",
       "      <td>1343</td>\n",
       "      <td>383</td>\n",
       "      <td>61</td>\n",
       "      <td>Smiths Crinkle Cut  Chips Chicken 170g</td>\n",
       "      <td>2</td>\n",
       "      <td>2.9</td>\n",
       "      <td>170.0</td>\n",
       "      <td>Smiths</td>\n",
       "      <td>MIDAGE SINGLES/COUPLES</td>\n",
       "      <td>Budget</td>\n",
       "    </tr>\n",
       "    <tr>\n",
       "      <th>3</th>\n",
       "      <td>2018-08-17</td>\n",
       "      <td>2</td>\n",
       "      <td>2373</td>\n",
       "      <td>974</td>\n",
       "      <td>69</td>\n",
       "      <td>Smiths Chip Thinly  S/Cream&amp;Onion 175g</td>\n",
       "      <td>5</td>\n",
       "      <td>15.0</td>\n",
       "      <td>175.0</td>\n",
       "      <td>Smiths</td>\n",
       "      <td>MIDAGE SINGLES/COUPLES</td>\n",
       "      <td>Budget</td>\n",
       "    </tr>\n",
       "    <tr>\n",
       "      <th>4</th>\n",
       "      <td>2018-08-18</td>\n",
       "      <td>2</td>\n",
       "      <td>2426</td>\n",
       "      <td>1038</td>\n",
       "      <td>108</td>\n",
       "      <td>Kettle Tortilla ChpsHny&amp;Jlpno Chili 150g</td>\n",
       "      <td>3</td>\n",
       "      <td>13.8</td>\n",
       "      <td>150.0</td>\n",
       "      <td>Kettle</td>\n",
       "      <td>MIDAGE SINGLES/COUPLES</td>\n",
       "      <td>Budget</td>\n",
       "    </tr>\n",
       "    <tr>\n",
       "      <th>...</th>\n",
       "      <td>...</td>\n",
       "      <td>...</td>\n",
       "      <td>...</td>\n",
       "      <td>...</td>\n",
       "      <td>...</td>\n",
       "      <td>...</td>\n",
       "      <td>...</td>\n",
       "      <td>...</td>\n",
       "      <td>...</td>\n",
       "      <td>...</td>\n",
       "      <td>...</td>\n",
       "      <td>...</td>\n",
       "    </tr>\n",
       "    <tr>\n",
       "      <th>246735</th>\n",
       "      <td>2019-03-09</td>\n",
       "      <td>272</td>\n",
       "      <td>272319</td>\n",
       "      <td>270088</td>\n",
       "      <td>89</td>\n",
       "      <td>Kettle Sweet Chilli And Sour Cream 175g</td>\n",
       "      <td>2</td>\n",
       "      <td>10.8</td>\n",
       "      <td>175.0</td>\n",
       "      <td>Kettle</td>\n",
       "      <td>YOUNG SINGLES/COUPLES</td>\n",
       "      <td>Premium</td>\n",
       "    </tr>\n",
       "    <tr>\n",
       "      <th>246736</th>\n",
       "      <td>2018-08-13</td>\n",
       "      <td>272</td>\n",
       "      <td>272358</td>\n",
       "      <td>270154</td>\n",
       "      <td>74</td>\n",
       "      <td>Tostitos Splash Of  Lime 175g</td>\n",
       "      <td>1</td>\n",
       "      <td>4.4</td>\n",
       "      <td>175.0</td>\n",
       "      <td>Tostitos</td>\n",
       "      <td>YOUNG SINGLES/COUPLES</td>\n",
       "      <td>Premium</td>\n",
       "    </tr>\n",
       "    <tr>\n",
       "      <th>246737</th>\n",
       "      <td>2018-11-06</td>\n",
       "      <td>272</td>\n",
       "      <td>272379</td>\n",
       "      <td>270187</td>\n",
       "      <td>51</td>\n",
       "      <td>Doritos Mexicana    170g</td>\n",
       "      <td>2</td>\n",
       "      <td>8.8</td>\n",
       "      <td>170.0</td>\n",
       "      <td>Doritos</td>\n",
       "      <td>YOUNG SINGLES/COUPLES</td>\n",
       "      <td>Premium</td>\n",
       "    </tr>\n",
       "    <tr>\n",
       "      <th>246738</th>\n",
       "      <td>2018-12-27</td>\n",
       "      <td>272</td>\n",
       "      <td>272379</td>\n",
       "      <td>270188</td>\n",
       "      <td>42</td>\n",
       "      <td>Doritos Corn Chip Mexican Jalapeno 150g</td>\n",
       "      <td>2</td>\n",
       "      <td>7.8</td>\n",
       "      <td>150.0</td>\n",
       "      <td>Doritos</td>\n",
       "      <td>YOUNG SINGLES/COUPLES</td>\n",
       "      <td>Premium</td>\n",
       "    </tr>\n",
       "    <tr>\n",
       "      <th>246739</th>\n",
       "      <td>2018-09-22</td>\n",
       "      <td>272</td>\n",
       "      <td>272380</td>\n",
       "      <td>270189</td>\n",
       "      <td>74</td>\n",
       "      <td>Tostitos Splash Of  Lime 175g</td>\n",
       "      <td>2</td>\n",
       "      <td>8.8</td>\n",
       "      <td>175.0</td>\n",
       "      <td>Tostitos</td>\n",
       "      <td>YOUNG SINGLES/COUPLES</td>\n",
       "      <td>Premium</td>\n",
       "    </tr>\n",
       "  </tbody>\n",
       "</table>\n",
       "<p>246740 rows × 12 columns</p>\n",
       "</div>"
      ],
      "text/plain": [
       "             DATE  STORE_NBR  LYLTY_CARD_NBR  TXN_ID  PROD_NBR  \\\n",
       "0      2018-10-17          1            1000       1         5   \n",
       "1      2019-05-14          1            1307     348        66   \n",
       "2      2019-05-20          1            1343     383        61   \n",
       "3      2018-08-17          2            2373     974        69   \n",
       "4      2018-08-18          2            2426    1038       108   \n",
       "...           ...        ...             ...     ...       ...   \n",
       "246735 2019-03-09        272          272319  270088        89   \n",
       "246736 2018-08-13        272          272358  270154        74   \n",
       "246737 2018-11-06        272          272379  270187        51   \n",
       "246738 2018-12-27        272          272379  270188        42   \n",
       "246739 2018-09-22        272          272380  270189        74   \n",
       "\n",
       "                                       PROD_NAME  PROD_QTY  TOT_SALES  \\\n",
       "0         Natural Chip        Compny SeaSalt175g         2        6.0   \n",
       "1                       CCs Nacho Cheese    175g         3        6.3   \n",
       "2         Smiths Crinkle Cut  Chips Chicken 170g         2        2.9   \n",
       "3         Smiths Chip Thinly  S/Cream&Onion 175g         5       15.0   \n",
       "4       Kettle Tortilla ChpsHny&Jlpno Chili 150g         3       13.8   \n",
       "...                                          ...       ...        ...   \n",
       "246735   Kettle Sweet Chilli And Sour Cream 175g         2       10.8   \n",
       "246736             Tostitos Splash Of  Lime 175g         1        4.4   \n",
       "246737                  Doritos Mexicana    170g         2        8.8   \n",
       "246738   Doritos Corn Chip Mexican Jalapeno 150g         2        7.8   \n",
       "246739             Tostitos Splash Of  Lime 175g         2        8.8   \n",
       "\n",
       "        PACK_SIZE     BRAND               LIFESTAGE PREMIUM_CUSTOMER  \n",
       "0           175.0   Natural   YOUNG SINGLES/COUPLES          Premium  \n",
       "1           175.0       CCs  MIDAGE SINGLES/COUPLES           Budget  \n",
       "2           170.0    Smiths  MIDAGE SINGLES/COUPLES           Budget  \n",
       "3           175.0    Smiths  MIDAGE SINGLES/COUPLES           Budget  \n",
       "4           150.0    Kettle  MIDAGE SINGLES/COUPLES           Budget  \n",
       "...           ...       ...                     ...              ...  \n",
       "246735      175.0    Kettle   YOUNG SINGLES/COUPLES          Premium  \n",
       "246736      175.0  Tostitos   YOUNG SINGLES/COUPLES          Premium  \n",
       "246737      170.0   Doritos   YOUNG SINGLES/COUPLES          Premium  \n",
       "246738      150.0   Doritos   YOUNG SINGLES/COUPLES          Premium  \n",
       "246739      175.0  Tostitos   YOUNG SINGLES/COUPLES          Premium  \n",
       "\n",
       "[246740 rows x 12 columns]"
      ]
     },
     "execution_count": 43,
     "metadata": {},
     "output_type": "execute_result"
    }
   ],
   "source": [
    "merged_data"
   ]
  },
  {
   "cell_type": "code",
   "execution_count": 44,
   "id": "15bbd2f4",
   "metadata": {},
   "outputs": [
    {
     "ename": "SyntaxError",
     "evalue": "invalid syntax (709543943.py, line 1)",
     "output_type": "error",
     "traceback": [
      "\u001b[1;36m  Input \u001b[1;32mIn [44]\u001b[1;36m\u001b[0m\n\u001b[1;33m    \"\"\"\"\"\"file_path = \"C:\\\\Users\\\\KIIT\\\\Desktop\\\\Quantium\\\\Task1\\\\Data\"\u001b[0m\n\u001b[1;37m          ^\u001b[0m\n\u001b[1;31mSyntaxError\u001b[0m\u001b[1;31m:\u001b[0m invalid syntax\n"
     ]
    }
   ],
   "source": [
    "\"\"\"\"\"\"file_path = \"C:\\\\Users\\\\KIIT\\\\Desktop\\\\Quantium\\\\Task1\\\\Data\"  \n",
    "merged_data.to_csv(file_path + \"merged_data_task1.csv\", index=False)\"\"\"\"\"\""
   ]
  },
  {
   "cell_type": "code",
   "execution_count": 45,
   "id": "35c750e5",
   "metadata": {},
   "outputs": [
    {
     "data": {
      "image/png": "[encoded data removed]",
      "text/plain": [
       "<Figure size 864x432 with 1 Axes>"
      ]
     },
     "metadata": {
      "needs_background": "light"
     },
     "output_type": "display_data"
    }
   ],
   "source": [
    "sales_summary = merged_data.groupby(['LIFESTAGE', 'PREMIUM_CUSTOMER'])['TOT_SALES'].sum().reset_index()\n",
    "\n",
    "plt.figure(figsize=(12, 6))\n",
    "sns.barplot(data=sales_summary, x='LIFESTAGE', y='TOT_SALES', hue='PREMIUM_CUSTOMER')\n",
    "plt.title('Total Sales by LIFESTAGE and PREMIUM_CUSTOMER')\n",
    "plt.xlabel('LIFESTAGE')\n",
    "plt.ylabel('Total Sales')\n",
    "plt.xticks(rotation=45)\n",
    "plt.legend(title='Premium Customer')\n",
    "plt.grid(True)\n",
    "plt.tight_layout()\n",
    "plt.show()"
   ]
  },
  {
   "cell_type": "code",
   "execution_count": 46,
   "id": "1d1f3092",
   "metadata": {},
   "outputs": [
    {
     "data": {
      "image/png": "[encoded data removed]",
      "text/plain": [
       "<Figure size 864x432 with 1 Axes>"
      ]
     },
     "metadata": {
      "needs_background": "light"
     },
     "output_type": "display_data"
    }
   ],
   "source": [
    "customer_summary = merged_data.groupby(['LIFESTAGE', 'PREMIUM_CUSTOMER'])['LYLTY_CARD_NBR'].nunique().reset_index()\n",
    "customer_summary.rename(columns={'LYLTY_CARD_NBR': 'NUMBER_OF_CUSTOMERS'}, inplace=True)\n",
    "\n",
    "plt.figure(figsize=(12, 6))\n",
    "sns.barplot(data=customer_summary, x='LIFESTAGE', y='NUMBER_OF_CUSTOMERS', hue='PREMIUM_CUSTOMER')\n",
    "plt.title('Number of Customers by LIFESTAGE and PREMIUM_CUSTOMER')\n",
    "plt.xlabel('LIFESTAGE')\n",
    "plt.ylabel('Number of Customers')\n",
    "plt.xticks(rotation=45)\n",
    "plt.legend(title='Premium Customer')\n",
    "plt.grid(True)\n",
    "plt.tight_layout()\n",
    "plt.show()"
   ]
  },
  {
   "cell_type": "code",
   "execution_count": 47,
   "id": "36f71951",
   "metadata": {},
   "outputs": [
    {
     "data": {
      "image/png": "[encoded data removed]",
      "text/plain": [
       "<Figure size 864x432 with 1 Axes>"
      ]
     },
     "metadata": {
      "needs_background": "light"
     },
     "output_type": "display_data"
    }
   ],
   "source": [
    "units_per_customer = merged_data.groupby(['LIFESTAGE', 'PREMIUM_CUSTOMER']).agg(\n",
    "    total_units=('PROD_QTY', 'sum'),\n",
    "    unique_customers=('LYLTY_CARD_NBR', 'nunique')\n",
    ").reset_index()\n",
    "units_per_customer['avg_units_per_customer'] = units_per_customer['total_units'] / units_per_customer['unique_customers']\n",
    "\n",
    "plt.figure(figsize=(12, 6))\n",
    "sns.barplot(data=units_per_customer, x='LIFESTAGE', y='avg_units_per_customer', hue='PREMIUM_CUSTOMER')\n",
    "plt.title('Average Number of Units per Customer by LIFESTAGE and PREMIUM_CUSTOMER')\n",
    "plt.xlabel('LIFESTAGE')\n",
    "plt.ylabel('Average Units per Customer')\n",
    "plt.xticks(rotation=45)\n",
    "plt.legend(title='Premium Customer')\n",
    "plt.grid(True)\n",
    "plt.tight_layout()\n",
    "plt.show()"
   ]
  },
  {
   "cell_type": "code",
   "execution_count": 48,
   "id": "0e46c199",
   "metadata": {},
   "outputs": [
    {
     "data": {
      "image/png": "[encoded data removed]",
      "text/plain": [
       "<Figure size 864x432 with 1 Axes>"
      ]
     },
     "metadata": {
      "needs_background": "light"
     },
     "output_type": "display_data"
    }
   ],
   "source": [
    "price_per_unit = merged_data.groupby(['LIFESTAGE', 'PREMIUM_CUSTOMER']).agg(\n",
    "    total_sales=('TOT_SALES', 'sum'),\n",
    "    total_units=('PROD_QTY', 'sum')\n",
    ").reset_index()\n",
    "\n",
    "price_per_unit['avg_price_per_unit'] = price_per_unit['total_sales'] / price_per_unit['total_units']\n",
    "\n",
    "plt.figure(figsize=(12, 6))\n",
    "sns.barplot(data=price_per_unit, x='LIFESTAGE', y='avg_price_per_unit', hue='PREMIUM_CUSTOMER')\n",
    "plt.title('Average Price per Unit by LIFESTAGE and PREMIUM_CUSTOMER')\n",
    "plt.xlabel('LIFESTAGE')\n",
    "plt.ylabel('Average Price per Unit')\n",
    "plt.xticks(rotation=45)\n",
    "plt.legend(title='Premium Customer')\n",
    "plt.grid(True)\n",
    "plt.tight_layout()\n",
    "plt.show()"
   ]
  },
  {
   "cell_type": "code",
   "execution_count": 49,
   "id": "de0542f4",
   "metadata": {},
   "outputs": [
    {
     "name": "stdout",
     "output_type": "stream",
     "text": [
      "T-test between Mainstream and Premium customers:\n",
      "T-statistic: 7.2594, P-value: 0.0000\n",
      "T-test between Budget Midage and Young Singles/Couples customers:\n",
      "T-statistic: nan, P-value: nan\n"
     ]
    }
   ],
   "source": [
    "from scipy.stats import ttest_ind\n",
    "\n",
    "mainstream_customers = merged_data[merged_data['PREMIUM_CUSTOMER'] == 'Mainstream']['TOT_SALES']\n",
    "premium_customers = merged_data[merged_data['PREMIUM_CUSTOMER'] == 'Premium']['TOT_SALES']\n",
    "\n",
    "t_stat_mainstream_premium, p_val_mainstream_premium = ttest_ind(mainstream_customers, premium_customers, equal_var=False)\n",
    "\n",
    "print(f\"T-test between Mainstream and Premium customers:\")\n",
    "print(f\"T-statistic: {t_stat_mainstream_premium:.4f}, P-value: {p_val_mainstream_premium:.4f}\")\n",
    "\n",
    "budget_midage_customers = merged_data[(merged_data['LIFESTAGE'] == 'Budget Midage')]['TOT_SALES']\n",
    "young_singles_couples_customers = merged_data[(merged_data['LIFESTAGE'] == 'Young Singles/Couples')]['TOT_SALES']\n",
    "\n",
    "t_stat_budget_young, p_val_budget_young = ttest_ind(budget_midage_customers, young_singles_couples_customers, equal_var=False)\n",
    "\n",
    "print(f\"T-test between Budget Midage and Young Singles/Couples customers:\")\n",
    "print(f\"T-statistic: {t_stat_budget_young:.4f}, P-value: {p_val_budget_young:.4f}\")"
   ]
  },
  {
   "cell_type": "code",
   "execution_count": 55,
   "id": "972eb3da",
   "metadata": {},
   "outputs": [
    {
     "name": "stdout",
     "output_type": "stream",
     "text": [
      "Found 19544 records for Mainstream - Young Singles/Couples segment.\n"
     ]
    },
    {
     "data": {
      "image/png": "[encoded data removed]",
      "text/plain": [
       "<Figure size 720x432 with 1 Axes>"
      ]
     },
     "metadata": {
      "needs_background": "light"
     },
     "output_type": "display_data"
    }
   ],
   "source": [
    "mainstream_young_singles_couples = merged_data[\n",
    "    (merged_data['PREMIUM_CUSTOMER'] == 'Mainstream') &\n",
    "    (merged_data['LIFESTAGE'] == 'YOUNG SINGLES/COUPLES')\n",
    "]\n",
    "\n",
    "if mainstream_young_singles_couples.empty:\n",
    "    print(\"No records found for Mainstream - Young Singles/Couples segment.\")\n",
    "else:\n",
    "    print(f\"Found {len(mainstream_young_singles_couples)} records for Mainstream - Young Singles/Couples segment.\")\n",
    "    \n",
    "    brand_preference = mainstream_young_singles_couples['BRAND'].value_counts().reset_index()\n",
    "    brand_preference.columns = ['BRAND', 'COUNT']\n",
    "    \n",
    "    brand_preference = brand_preference.sort_values(by='COUNT', ascending=False)\n",
    "    \n",
    "    if brand_preference.empty:\n",
    "        print(\"No brand data available for the selected segment.\")\n",
    "    else:\n",
    "        # Step 4: Plot the results\n",
    "        plt.figure(figsize=(10, 6))\n",
    "        sns.barplot(data=brand_preference, x='BRAND', y='COUNT', palette='viridis')\n",
    "        plt.title('Brand Preference for Mainstream - Young Singles/Couples')\n",
    "        plt.xlabel('Brand')\n",
    "        plt.ylabel('Number of Purchases')\n",
    "        plt.xticks(rotation=45)\n",
    "        plt.tight_layout()\n",
    "        plt.show()"
   ]
  },
  {
   "cell_type": "code",
   "execution_count": 57,
   "id": "27af4d4a",
   "metadata": {},
   "outputs": [
    {
     "data": {
      "image/png": "[encoded data removed]",
      "text/plain": [
       "<Figure size 864x432 with 1 Axes>"
      ]
     },
     "metadata": {
      "needs_background": "light"
     },
     "output_type": "display_data"
    }
   ],
   "source": [
    "mainstream_young_singles_couples = merged_data[\n",
    "    (merged_data['PREMIUM_CUSTOMER'] == 'Mainstream') &\n",
    "    (merged_data['LIFESTAGE'] == 'YOUNG SINGLES/COUPLES')\n",
    "]\n",
    "\n",
    "rest_of_population = merged_data[\n",
    "    ~((merged_data['PREMIUM_CUSTOMER'] == 'Mainstream') &\n",
    "    (merged_data['LIFESTAGE'] == 'YOUNG SINGLES/COUPLES'))\n",
    "]\n",
    "\n",
    "pack_size_target_segment = mainstream_young_singles_couples['PACK_SIZE'].value_counts().reset_index()\n",
    "pack_size_target_segment.columns = ['PACK_SIZE', 'COUNT']\n",
    "\n",
    "pack_size_rest_population = rest_of_population['PACK_SIZE'].value_counts().reset_index()\n",
    "pack_size_rest_population.columns = ['PACK_SIZE', 'COUNT']\n",
    "\n",
    "plt.figure(figsize=(12, 6))\n",
    "\n",
    "sns.barplot(data=pack_size_target_segment, x='PACK_SIZE', y='COUNT', color='blue', alpha=0.6, label='Mainstream - Young Singles/Couples')\n",
    "\n",
    "sns.barplot(data=pack_size_rest_population, x='PACK_SIZE', y='COUNT', color='red', alpha=0.4, label='Rest of Population')\n",
    "\n",
    "plt.title('Comparison of Pack Size Preferences')\n",
    "plt.xlabel('Pack Size (g)')\n",
    "plt.ylabel('Number of Purchases')\n",
    "plt.xticks(rotation=45)\n",
    "plt.legend()\n",
    "plt.tight_layout()\n",
    "plt.show()"
   ]
  },
  {
   "cell_type": "code",
   "execution_count": null,
   "id": "2fb5f2ce",
   "metadata": {},
   "outputs": [],
   "source": []
  }
 ],
 "metadata": {
  "kernelspec": {
   "display_name": "Python 3 (ipykernel)",
   "language": "python",
   "name": "python3"
  },
  "language_info": {
   "codemirror_mode": {
    "name": "ipython",
    "version": 3
   },
   "file_extension": ".py",
   "mimetype": "text/x-python",
   "name": "python",
   "nbconvert_exporter": "python",
   "pygments_lexer": "ipython3",
   "version": "3.9.12"
  }
 },
 "nbformat": 4,
 "nbformat_minor": 5
}
