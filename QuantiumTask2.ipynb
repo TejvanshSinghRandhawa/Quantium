{
 "cells": [
  {
   "cell_type": "code",
   "execution_count": 1,
   "id": "eb87681d",
   "metadata": {},
   "outputs": [],
   "source": [
    "import numpy as np\n",
    "import pandas as pd\n",
    "import matplotlib.pyplot as plt\n",
    "import seaborn as sns\n",
    "import warnings\n",
    "warnings.filterwarnings('ignore')"
   ]
  },
  {
   "cell_type": "code",
   "execution_count": 2,
   "id": "a1d3fa34",
   "metadata": {},
   "outputs": [],
   "source": [
    "df=pd.read_csv('C:\\\\Users\\\\KIIT\\\\Desktop\\\\Quantium\\\\Task1\\\\Datamerged_data_task1.csv')"
   ]
  },
  {
   "cell_type": "code",
   "execution_count": 3,
   "id": "895ddcc5",
   "metadata": {},
   "outputs": [
    {
     "data": {
      "text/html": [
       "<div>\n",
       "<style scoped>\n",
       "    .dataframe tbody tr th:only-of-type {\n",
       "        vertical-align: middle;\n",
       "    }\n",
       "\n",
       "    .dataframe tbody tr th {\n",
       "        vertical-align: top;\n",
       "    }\n",
       "\n",
       "    .dataframe thead th {\n",
       "        text-align: right;\n",
       "    }\n",
       "</style>\n",
       "<table border=\"1\" class=\"dataframe\">\n",
       "  <thead>\n",
       "    <tr style=\"text-align: right;\">\n",
       "      <th></th>\n",
       "      <th>DATE</th>\n",
       "      <th>STORE_NBR</th>\n",
       "      <th>LYLTY_CARD_NBR</th>\n",
       "      <th>TXN_ID</th>\n",
       "      <th>PROD_NBR</th>\n",
       "      <th>PROD_NAME</th>\n",
       "      <th>PROD_QTY</th>\n",
       "      <th>TOT_SALES</th>\n",
       "      <th>PACK_SIZE</th>\n",
       "      <th>BRAND</th>\n",
       "      <th>LIFESTAGE</th>\n",
       "      <th>PREMIUM_CUSTOMER</th>\n",
       "      <th>YEARMONTH</th>\n",
       "    </tr>\n",
       "  </thead>\n",
       "  <tbody>\n",
       "    <tr>\n",
       "      <th>0</th>\n",
       "      <td>2018-10-17</td>\n",
       "      <td>1</td>\n",
       "      <td>1000</td>\n",
       "      <td>1</td>\n",
       "      <td>5</td>\n",
       "      <td>Natural Chip        Compny SeaSalt175g</td>\n",
       "      <td>2</td>\n",
       "      <td>6.0</td>\n",
       "      <td>175.0</td>\n",
       "      <td>Natural</td>\n",
       "      <td>YOUNG SINGLES/COUPLES</td>\n",
       "      <td>Premium</td>\n",
       "      <td>201810</td>\n",
       "    </tr>\n",
       "    <tr>\n",
       "      <th>1</th>\n",
       "      <td>2019-05-14</td>\n",
       "      <td>1</td>\n",
       "      <td>1307</td>\n",
       "      <td>348</td>\n",
       "      <td>66</td>\n",
       "      <td>CCs Nacho Cheese    175g</td>\n",
       "      <td>3</td>\n",
       "      <td>6.3</td>\n",
       "      <td>175.0</td>\n",
       "      <td>CCs</td>\n",
       "      <td>MIDAGE SINGLES/COUPLES</td>\n",
       "      <td>Budget</td>\n",
       "      <td>201905</td>\n",
       "    </tr>\n",
       "    <tr>\n",
       "      <th>2</th>\n",
       "      <td>2019-05-20</td>\n",
       "      <td>1</td>\n",
       "      <td>1343</td>\n",
       "      <td>383</td>\n",
       "      <td>61</td>\n",
       "      <td>Smiths Crinkle Cut  Chips Chicken 170g</td>\n",
       "      <td>2</td>\n",
       "      <td>2.9</td>\n",
       "      <td>170.0</td>\n",
       "      <td>Smiths</td>\n",
       "      <td>MIDAGE SINGLES/COUPLES</td>\n",
       "      <td>Budget</td>\n",
       "      <td>201905</td>\n",
       "    </tr>\n",
       "    <tr>\n",
       "      <th>3</th>\n",
       "      <td>2018-08-17</td>\n",
       "      <td>2</td>\n",
       "      <td>2373</td>\n",
       "      <td>974</td>\n",
       "      <td>69</td>\n",
       "      <td>Smiths Chip Thinly  S/Cream&amp;Onion 175g</td>\n",
       "      <td>5</td>\n",
       "      <td>15.0</td>\n",
       "      <td>175.0</td>\n",
       "      <td>Smiths</td>\n",
       "      <td>MIDAGE SINGLES/COUPLES</td>\n",
       "      <td>Budget</td>\n",
       "      <td>201808</td>\n",
       "    </tr>\n",
       "    <tr>\n",
       "      <th>4</th>\n",
       "      <td>2018-08-18</td>\n",
       "      <td>2</td>\n",
       "      <td>2426</td>\n",
       "      <td>1038</td>\n",
       "      <td>108</td>\n",
       "      <td>Kettle Tortilla ChpsHny&amp;Jlpno Chili 150g</td>\n",
       "      <td>3</td>\n",
       "      <td>13.8</td>\n",
       "      <td>150.0</td>\n",
       "      <td>Kettle</td>\n",
       "      <td>MIDAGE SINGLES/COUPLES</td>\n",
       "      <td>Budget</td>\n",
       "      <td>201808</td>\n",
       "    </tr>\n",
       "    <tr>\n",
       "      <th>...</th>\n",
       "      <td>...</td>\n",
       "      <td>...</td>\n",
       "      <td>...</td>\n",
       "      <td>...</td>\n",
       "      <td>...</td>\n",
       "      <td>...</td>\n",
       "      <td>...</td>\n",
       "      <td>...</td>\n",
       "      <td>...</td>\n",
       "      <td>...</td>\n",
       "      <td>...</td>\n",
       "      <td>...</td>\n",
       "      <td>...</td>\n",
       "    </tr>\n",
       "    <tr>\n",
       "      <th>246735</th>\n",
       "      <td>2019-03-09</td>\n",
       "      <td>272</td>\n",
       "      <td>272319</td>\n",
       "      <td>270088</td>\n",
       "      <td>89</td>\n",
       "      <td>Kettle Sweet Chilli And Sour Cream 175g</td>\n",
       "      <td>2</td>\n",
       "      <td>10.8</td>\n",
       "      <td>175.0</td>\n",
       "      <td>Kettle</td>\n",
       "      <td>YOUNG SINGLES/COUPLES</td>\n",
       "      <td>Premium</td>\n",
       "      <td>201903</td>\n",
       "    </tr>\n",
       "    <tr>\n",
       "      <th>246736</th>\n",
       "      <td>2018-08-13</td>\n",
       "      <td>272</td>\n",
       "      <td>272358</td>\n",
       "      <td>270154</td>\n",
       "      <td>74</td>\n",
       "      <td>Tostitos Splash Of  Lime 175g</td>\n",
       "      <td>1</td>\n",
       "      <td>4.4</td>\n",
       "      <td>175.0</td>\n",
       "      <td>Tostitos</td>\n",
       "      <td>YOUNG SINGLES/COUPLES</td>\n",
       "      <td>Premium</td>\n",
       "      <td>201808</td>\n",
       "    </tr>\n",
       "    <tr>\n",
       "      <th>246737</th>\n",
       "      <td>2018-11-06</td>\n",
       "      <td>272</td>\n",
       "      <td>272379</td>\n",
       "      <td>270187</td>\n",
       "      <td>51</td>\n",
       "      <td>Doritos Mexicana    170g</td>\n",
       "      <td>2</td>\n",
       "      <td>8.8</td>\n",
       "      <td>170.0</td>\n",
       "      <td>Doritos</td>\n",
       "      <td>YOUNG SINGLES/COUPLES</td>\n",
       "      <td>Premium</td>\n",
       "      <td>201811</td>\n",
       "    </tr>\n",
       "    <tr>\n",
       "      <th>246738</th>\n",
       "      <td>2018-12-27</td>\n",
       "      <td>272</td>\n",
       "      <td>272379</td>\n",
       "      <td>270188</td>\n",
       "      <td>42</td>\n",
       "      <td>Doritos Corn Chip Mexican Jalapeno 150g</td>\n",
       "      <td>2</td>\n",
       "      <td>7.8</td>\n",
       "      <td>150.0</td>\n",
       "      <td>Doritos</td>\n",
       "      <td>YOUNG SINGLES/COUPLES</td>\n",
       "      <td>Premium</td>\n",
       "      <td>201812</td>\n",
       "    </tr>\n",
       "    <tr>\n",
       "      <th>246739</th>\n",
       "      <td>2018-09-22</td>\n",
       "      <td>272</td>\n",
       "      <td>272380</td>\n",
       "      <td>270189</td>\n",
       "      <td>74</td>\n",
       "      <td>Tostitos Splash Of  Lime 175g</td>\n",
       "      <td>2</td>\n",
       "      <td>8.8</td>\n",
       "      <td>175.0</td>\n",
       "      <td>Tostitos</td>\n",
       "      <td>YOUNG SINGLES/COUPLES</td>\n",
       "      <td>Premium</td>\n",
       "      <td>201809</td>\n",
       "    </tr>\n",
       "  </tbody>\n",
       "</table>\n",
       "<p>246740 rows × 13 columns</p>\n",
       "</div>"
      ],
      "text/plain": [
       "             DATE  STORE_NBR  LYLTY_CARD_NBR  TXN_ID  PROD_NBR  \\\n",
       "0      2018-10-17          1            1000       1         5   \n",
       "1      2019-05-14          1            1307     348        66   \n",
       "2      2019-05-20          1            1343     383        61   \n",
       "3      2018-08-17          2            2373     974        69   \n",
       "4      2018-08-18          2            2426    1038       108   \n",
       "...           ...        ...             ...     ...       ...   \n",
       "246735 2019-03-09        272          272319  270088        89   \n",
       "246736 2018-08-13        272          272358  270154        74   \n",
       "246737 2018-11-06        272          272379  270187        51   \n",
       "246738 2018-12-27        272          272379  270188        42   \n",
       "246739 2018-09-22        272          272380  270189        74   \n",
       "\n",
       "                                       PROD_NAME  PROD_QTY  TOT_SALES  \\\n",
       "0         Natural Chip        Compny SeaSalt175g         2        6.0   \n",
       "1                       CCs Nacho Cheese    175g         3        6.3   \n",
       "2         Smiths Crinkle Cut  Chips Chicken 170g         2        2.9   \n",
       "3         Smiths Chip Thinly  S/Cream&Onion 175g         5       15.0   \n",
       "4       Kettle Tortilla ChpsHny&Jlpno Chili 150g         3       13.8   \n",
       "...                                          ...       ...        ...   \n",
       "246735   Kettle Sweet Chilli And Sour Cream 175g         2       10.8   \n",
       "246736             Tostitos Splash Of  Lime 175g         1        4.4   \n",
       "246737                  Doritos Mexicana    170g         2        8.8   \n",
       "246738   Doritos Corn Chip Mexican Jalapeno 150g         2        7.8   \n",
       "246739             Tostitos Splash Of  Lime 175g         2        8.8   \n",
       "\n",
       "        PACK_SIZE     BRAND               LIFESTAGE PREMIUM_CUSTOMER YEARMONTH  \n",
       "0           175.0   Natural   YOUNG SINGLES/COUPLES          Premium    201810  \n",
       "1           175.0       CCs  MIDAGE SINGLES/COUPLES           Budget    201905  \n",
       "2           170.0    Smiths  MIDAGE SINGLES/COUPLES           Budget    201905  \n",
       "3           175.0    Smiths  MIDAGE SINGLES/COUPLES           Budget    201808  \n",
       "4           150.0    Kettle  MIDAGE SINGLES/COUPLES           Budget    201808  \n",
       "...           ...       ...                     ...              ...       ...  \n",
       "246735      175.0    Kettle   YOUNG SINGLES/COUPLES          Premium    201903  \n",
       "246736      175.0  Tostitos   YOUNG SINGLES/COUPLES          Premium    201808  \n",
       "246737      170.0   Doritos   YOUNG SINGLES/COUPLES          Premium    201811  \n",
       "246738      150.0   Doritos   YOUNG SINGLES/COUPLES          Premium    201812  \n",
       "246739      175.0  Tostitos   YOUNG SINGLES/COUPLES          Premium    201809  \n",
       "\n",
       "[246740 rows x 13 columns]"
      ]
     },
     "execution_count": 3,
     "metadata": {},
     "output_type": "execute_result"
    }
   ],
   "source": [
    "df['DATE'] = pd.to_datetime(df['DATE'])\n",
    "df['YEARMONTH'] = df['DATE'].dt.strftime('%Y%m')\n",
    "df"
   ]
  },
  {
   "cell_type": "code",
   "execution_count": 4,
   "id": "f86d388a",
   "metadata": {},
   "outputs": [
    {
     "data": {
      "text/plain": [
       "DATE                0\n",
       "STORE_NBR           0\n",
       "LYLTY_CARD_NBR      0\n",
       "TXN_ID              0\n",
       "PROD_NBR            0\n",
       "PROD_NAME           0\n",
       "PROD_QTY            0\n",
       "TOT_SALES           0\n",
       "PACK_SIZE           0\n",
       "BRAND               0\n",
       "LIFESTAGE           0\n",
       "PREMIUM_CUSTOMER    0\n",
       "YEARMONTH           0\n",
       "dtype: int64"
      ]
     },
     "execution_count": 4,
     "metadata": {},
     "output_type": "execute_result"
    }
   ],
   "source": [
    "df.isnull().sum()"
   ]
  },
  {
   "cell_type": "code",
   "execution_count": 5,
   "id": "2904d6b2",
   "metadata": {},
   "outputs": [
    {
     "name": "stdout",
     "output_type": "stream",
     "text": [
      "<class 'pandas.core.frame.DataFrame'>\n",
      "RangeIndex: 246740 entries, 0 to 246739\n",
      "Data columns (total 13 columns):\n",
      " #   Column            Non-Null Count   Dtype         \n",
      "---  ------            --------------   -----         \n",
      " 0   DATE              246740 non-null  datetime64[ns]\n",
      " 1   STORE_NBR         246740 non-null  int64         \n",
      " 2   LYLTY_CARD_NBR    246740 non-null  int64         \n",
      " 3   TXN_ID            246740 non-null  int64         \n",
      " 4   PROD_NBR          246740 non-null  int64         \n",
      " 5   PROD_NAME         246740 non-null  object        \n",
      " 6   PROD_QTY          246740 non-null  int64         \n",
      " 7   TOT_SALES         246740 non-null  float64       \n",
      " 8   PACK_SIZE         246740 non-null  float64       \n",
      " 9   BRAND             246740 non-null  object        \n",
      " 10  LIFESTAGE         246740 non-null  object        \n",
      " 11  PREMIUM_CUSTOMER  246740 non-null  object        \n",
      " 12  YEARMONTH         246740 non-null  object        \n",
      "dtypes: datetime64[ns](1), float64(2), int64(5), object(5)\n",
      "memory usage: 24.5+ MB\n"
     ]
    }
   ],
   "source": [
    "df.info()"
   ]
  },
  {
   "cell_type": "code",
   "execution_count": 6,
   "id": "a0798051",
   "metadata": {},
   "outputs": [
    {
     "data": {
      "text/html": [
       "<div>\n",
       "<style scoped>\n",
       "    .dataframe tbody tr th:only-of-type {\n",
       "        vertical-align: middle;\n",
       "    }\n",
       "\n",
       "    .dataframe tbody tr th {\n",
       "        vertical-align: top;\n",
       "    }\n",
       "\n",
       "    .dataframe thead th {\n",
       "        text-align: right;\n",
       "    }\n",
       "</style>\n",
       "<table border=\"1\" class=\"dataframe\">\n",
       "  <thead>\n",
       "    <tr style=\"text-align: right;\">\n",
       "      <th></th>\n",
       "      <th>DATE</th>\n",
       "      <th>STORE_NBR</th>\n",
       "      <th>LYLTY_CARD_NBR</th>\n",
       "      <th>TXN_ID</th>\n",
       "      <th>PROD_NBR</th>\n",
       "      <th>PROD_QTY</th>\n",
       "      <th>TOT_SALES</th>\n",
       "      <th>PACK_SIZE</th>\n",
       "    </tr>\n",
       "  </thead>\n",
       "  <tbody>\n",
       "    <tr>\n",
       "      <th>count</th>\n",
       "      <td>246740</td>\n",
       "      <td>246740.000000</td>\n",
       "      <td>2.467400e+05</td>\n",
       "      <td>2.467400e+05</td>\n",
       "      <td>246740.000000</td>\n",
       "      <td>246740.000000</td>\n",
       "      <td>246740.000000</td>\n",
       "      <td>246740.000000</td>\n",
       "    </tr>\n",
       "    <tr>\n",
       "      <th>mean</th>\n",
       "      <td>2018-12-30 01:18:58.448569344</td>\n",
       "      <td>135.050361</td>\n",
       "      <td>1.355303e+05</td>\n",
       "      <td>1.351304e+05</td>\n",
       "      <td>56.352213</td>\n",
       "      <td>1.906456</td>\n",
       "      <td>7.316113</td>\n",
       "      <td>175.583521</td>\n",
       "    </tr>\n",
       "    <tr>\n",
       "      <th>min</th>\n",
       "      <td>2018-07-01 00:00:00</td>\n",
       "      <td>1.000000</td>\n",
       "      <td>1.000000e+03</td>\n",
       "      <td>1.000000e+00</td>\n",
       "      <td>1.000000</td>\n",
       "      <td>1.000000</td>\n",
       "      <td>1.700000</td>\n",
       "      <td>70.000000</td>\n",
       "    </tr>\n",
       "    <tr>\n",
       "      <th>25%</th>\n",
       "      <td>2018-09-30 00:00:00</td>\n",
       "      <td>70.000000</td>\n",
       "      <td>7.001500e+04</td>\n",
       "      <td>6.756875e+04</td>\n",
       "      <td>26.000000</td>\n",
       "      <td>2.000000</td>\n",
       "      <td>5.800000</td>\n",
       "      <td>150.000000</td>\n",
       "    </tr>\n",
       "    <tr>\n",
       "      <th>50%</th>\n",
       "      <td>2018-12-30 00:00:00</td>\n",
       "      <td>130.000000</td>\n",
       "      <td>1.303670e+05</td>\n",
       "      <td>1.351815e+05</td>\n",
       "      <td>53.000000</td>\n",
       "      <td>2.000000</td>\n",
       "      <td>7.400000</td>\n",
       "      <td>170.000000</td>\n",
       "    </tr>\n",
       "    <tr>\n",
       "      <th>75%</th>\n",
       "      <td>2019-03-31 00:00:00</td>\n",
       "      <td>203.000000</td>\n",
       "      <td>2.030832e+05</td>\n",
       "      <td>2.026522e+05</td>\n",
       "      <td>87.000000</td>\n",
       "      <td>2.000000</td>\n",
       "      <td>8.800000</td>\n",
       "      <td>175.000000</td>\n",
       "    </tr>\n",
       "    <tr>\n",
       "      <th>max</th>\n",
       "      <td>2019-06-30 00:00:00</td>\n",
       "      <td>272.000000</td>\n",
       "      <td>2.373711e+06</td>\n",
       "      <td>2.415841e+06</td>\n",
       "      <td>114.000000</td>\n",
       "      <td>5.000000</td>\n",
       "      <td>29.500000</td>\n",
       "      <td>380.000000</td>\n",
       "    </tr>\n",
       "    <tr>\n",
       "      <th>std</th>\n",
       "      <td>NaN</td>\n",
       "      <td>76.786971</td>\n",
       "      <td>8.071520e+04</td>\n",
       "      <td>7.814760e+04</td>\n",
       "      <td>33.695235</td>\n",
       "      <td>0.342499</td>\n",
       "      <td>2.474897</td>\n",
       "      <td>59.432118</td>\n",
       "    </tr>\n",
       "  </tbody>\n",
       "</table>\n",
       "</div>"
      ],
      "text/plain": [
       "                                DATE      STORE_NBR  LYLTY_CARD_NBR  \\\n",
       "count                         246740  246740.000000    2.467400e+05   \n",
       "mean   2018-12-30 01:18:58.448569344     135.050361    1.355303e+05   \n",
       "min              2018-07-01 00:00:00       1.000000    1.000000e+03   \n",
       "25%              2018-09-30 00:00:00      70.000000    7.001500e+04   \n",
       "50%              2018-12-30 00:00:00     130.000000    1.303670e+05   \n",
       "75%              2019-03-31 00:00:00     203.000000    2.030832e+05   \n",
       "max              2019-06-30 00:00:00     272.000000    2.373711e+06   \n",
       "std                              NaN      76.786971    8.071520e+04   \n",
       "\n",
       "             TXN_ID       PROD_NBR       PROD_QTY      TOT_SALES  \\\n",
       "count  2.467400e+05  246740.000000  246740.000000  246740.000000   \n",
       "mean   1.351304e+05      56.352213       1.906456       7.316113   \n",
       "min    1.000000e+00       1.000000       1.000000       1.700000   \n",
       "25%    6.756875e+04      26.000000       2.000000       5.800000   \n",
       "50%    1.351815e+05      53.000000       2.000000       7.400000   \n",
       "75%    2.026522e+05      87.000000       2.000000       8.800000   \n",
       "max    2.415841e+06     114.000000       5.000000      29.500000   \n",
       "std    7.814760e+04      33.695235       0.342499       2.474897   \n",
       "\n",
       "           PACK_SIZE  \n",
       "count  246740.000000  \n",
       "mean      175.583521  \n",
       "min        70.000000  \n",
       "25%       150.000000  \n",
       "50%       170.000000  \n",
       "75%       175.000000  \n",
       "max       380.000000  \n",
       "std        59.432118  "
      ]
     },
     "execution_count": 6,
     "metadata": {},
     "output_type": "execute_result"
    }
   ],
   "source": [
    "df.describe()"
   ]
  },
  {
   "cell_type": "code",
   "execution_count": 7,
   "id": "d2a1f563",
   "metadata": {},
   "outputs": [
    {
     "name": "stdout",
     "output_type": "stream",
     "text": [
      "     YEARMONTH  STORE_NBR  totSales  nCustomers  nTxnPerCust  nChipsPerTxn  \\\n",
      "0       201807          1     188.9          47     1.042553      1.183673   \n",
      "1       201807          2     140.5          36     1.055556      1.131579   \n",
      "2       201807          3    1164.9         108     1.240741      1.962687   \n",
      "3       201807          4    1318.3         121     1.256198      1.986842   \n",
      "4       201807          5     763.8          86     1.290698      2.000000   \n",
      "...        ...        ...       ...         ...          ...           ...   \n",
      "3160    201906        268     220.6          36     1.055556      1.447368   \n",
      "3161    201906        269     770.2          93     1.225806      2.000000   \n",
      "3162    201906        270     831.2          96     1.187500      2.000000   \n",
      "3163    201906        271     884.2         106     1.160377      2.000000   \n",
      "3164    201906        272     301.9          33     1.090909      1.888889   \n",
      "\n",
      "      avgPricePerUnit  \n",
      "0            3.256897  \n",
      "1            3.267442  \n",
      "2            4.429278  \n",
      "3            4.365232  \n",
      "4            3.440541  \n",
      "...               ...  \n",
      "3160         4.010909  \n",
      "3161         3.378070  \n",
      "3162         3.645614  \n",
      "3163         3.594309  \n",
      "3164         4.439706  \n",
      "\n",
      "[3165 rows x 7 columns]\n"
     ]
    }
   ],
   "source": [
    "measure_over_time = df.groupby(['YEARMONTH', 'STORE_NBR']).agg(\n",
    "    totSales=('TOT_SALES', 'sum'),                                # Total sales\n",
    "    nCustomers=('LYLTY_CARD_NBR', pd.Series.nunique),             # Number of unique customers\n",
    "    nTxnPerCust=('TXN_ID', 'count'),                              # Number of transactions per store/month\n",
    "    nChipsPerTxn=('PROD_QTY', 'mean'),                            # Average quantity of chips per transaction\n",
    "    total_units_sold=('PROD_QTY', 'sum')                          # Total number of units sold\n",
    ").reset_index()\n",
    "\n",
    "# Calculate transactions per customer\n",
    "measure_over_time['nTxnPerCust'] = measure_over_time['nTxnPerCust'] / measure_over_time['nCustomers']\n",
    "\n",
    "# Calculate average price per unit (total sales / total units sold)\n",
    "measure_over_time['avgPricePerUnit'] = measure_over_time['totSales'] / measure_over_time['total_units_sold']\n",
    "\n",
    "# Drop the 'total_units_sold' column as it's no longer needed\n",
    "measure_over_time.drop(columns=['total_units_sold'], inplace=True)\n",
    "\n",
    "# Sort by the columns of interest (e.g., YEARMONTH)\n",
    "measure_over_time = measure_over_time.sort_values(by=['YEARMONTH', 'STORE_NBR'])\n",
    "\n",
    "# Display the result\n",
    "print(measure_over_time)"
   ]
  },
  {
   "cell_type": "code",
   "execution_count": 8,
   "id": "004dbdcd",
   "metadata": {},
   "outputs": [
    {
     "name": "stdout",
     "output_type": "stream",
     "text": [
      "     YEARMONTH  STORE_NBR  totSales  nCustomers  nTxnPerCust  nChipsPerTxn  \\\n",
      "0       201807          1     188.9          47     1.042553      1.183673   \n",
      "1       201807          2     140.5          36     1.055556      1.131579   \n",
      "2       201807          3    1164.9         108     1.240741      1.962687   \n",
      "3       201807          4    1318.3         121     1.256198      1.986842   \n",
      "4       201807          5     763.8          86     1.290698      2.000000   \n",
      "...        ...        ...       ...         ...          ...           ...   \n",
      "1841    201901        268     150.6          35     1.000000      1.228571   \n",
      "1842    201901        269     912.4         102     1.303922      2.000000   \n",
      "1843    201901        270    1009.8         110     1.327273      2.000000   \n",
      "1844    201901        271     768.2          82     1.292683      2.000000   \n",
      "1845    201901        272     392.4          44     1.068182      1.914894   \n",
      "\n",
      "      avgPricePerUnit  \n",
      "0            3.256897  \n",
      "1            3.267442  \n",
      "2            4.429278  \n",
      "3            4.365232  \n",
      "4            3.440541  \n",
      "...               ...  \n",
      "1841         3.502326  \n",
      "1842         3.430075  \n",
      "1843         3.458219  \n",
      "1844         3.623585  \n",
      "1845         4.360000  \n",
      "\n",
      "[1813 rows x 7 columns]\n"
     ]
    }
   ],
   "source": [
    "# 1: Identify stores with full observation periods (12 months of data)\n",
    "# Count the number of records per store\n",
    "store_counts = measure_over_time.groupby('STORE_NBR')['YEARMONTH'].count().reset_index()\n",
    "\n",
    "# Filter to stores with exactly 12 months of data\n",
    "stores_with_full_obs = store_counts[store_counts['YEARMONTH'] == 12]['STORE_NBR'].unique()\n",
    "\n",
    "# 2: Filter to the pre-trial period and the identified stores\n",
    "pre_trial_measures = measure_over_time[\n",
    "    (measure_over_time['YEARMONTH'] < '201902') & \n",
    "    (measure_over_time['STORE_NBR'].isin(stores_with_full_obs))\n",
    "]\n",
    "\n",
    "# Display the filtered data\n",
    "print(pre_trial_measures)"
   ]
  },
  {
   "cell_type": "code",
   "execution_count": 9,
   "id": "91e2c23f",
   "metadata": {},
   "outputs": [],
   "source": [
    "from scipy.stats import pearsonr"
   ]
  },
  {
   "cell_type": "code",
   "execution_count": 10,
   "id": "33a4b651",
   "metadata": {},
   "outputs": [],
   "source": [
    "def calculate_correlation(input_table, metric_col, trial_store):\n",
    "    calc_corr_table = []\n",
    "    store_numbers = input_table['STORE_NBR'].unique()\n",
    "    trial_store_data = input_table[input_table['STORE_NBR'] == trial_store][metric_col]\n",
    "    for store in store_numbers:\n",
    "        if store != trial_store:\n",
    "            control_store_data = input_table[input_table['STORE_NBR'] == store][metric_col]\n",
    "            \n",
    "            if len(trial_store_data) == len(control_store_data):\n",
    "                corr_measure, _ = pearsonr(trial_store_data, control_store_data)\n",
    "            else:\n",
    "                corr_measure = float('nan')\n",
    "            \n",
    "            calc_corr_table.append({\n",
    "                'Store1': trial_store,\n",
    "                'Store2': store,\n",
    "                'corr_measure': corr_measure\n",
    "            })\n",
    "    \n",
    "    calc_corr_table_df = pd.DataFrame(calc_corr_table)\n",
    "    \n",
    "    return calc_corr_table_df\n"
   ]
  },
  {
   "cell_type": "code",
   "execution_count": 11,
   "id": "af2e1493",
   "metadata": {},
   "outputs": [
    {
     "name": "stdout",
     "output_type": "stream",
     "text": [
      "     Store1  Store2  corr_measure\n",
      "0        77       1     -0.005382\n",
      "1        77       2     -0.251183\n",
      "2        77       3      0.660447\n",
      "3        77       4     -0.347846\n",
      "4        77       5     -0.139048\n",
      "..      ...     ...           ...\n",
      "253      77     268      0.395460\n",
      "254      77     269     -0.466370\n",
      "255      77     270      0.274854\n",
      "256      77     271      0.195190\n",
      "257      77     272     -0.179647\n",
      "\n",
      "[258 rows x 3 columns]\n"
     ]
    }
   ],
   "source": [
    "trial_store_number = 77  # Example trial store\n",
    "correlation_results = calculate_correlation(pre_trial_measures, 'totSales', trial_store_number)\n",
    "\n",
    "print(correlation_results)"
   ]
  },
  {
   "cell_type": "code",
   "execution_count": 12,
   "id": "94ce91fc",
   "metadata": {},
   "outputs": [],
   "source": [
    "def calculate_magnitude_distance(input_table, metric_col, trial_store):\n",
    "\n",
    "    calc_dist_table = []\n",
    "    \n",
    "    \n",
    "    store_numbers = input_table['STORE_NBR'].unique()\n",
    "    \n",
    "\n",
    "    trial_store_data = input_table[input_table['STORE_NBR'] == trial_store]\n",
    "    \n",
    "    \n",
    "    for store in store_numbers:\n",
    "        if store != trial_store:\n",
    "            \n",
    "            control_store_data = input_table[input_table['STORE_NBR'] == store]\n",
    "            \n",
    "\n",
    "            merged_data = pd.merge(trial_store_data[['YEARMONTH', metric_col]], \n",
    "                                   control_store_data[['YEARMONTH', metric_col]], \n",
    "                                   on='YEARMONTH', \n",
    "                                   suffixes=('_trial', '_control'))\n",
    "            \n",
    "            \n",
    "            merged_data['measure'] = abs(merged_data[metric_col + '_trial'] - merged_data[metric_col + '_control'])\n",
    "            \n",
    "\n",
    "            for index, row in merged_data.iterrows():\n",
    "                calc_dist_table.append({\n",
    "                    'Store1': trial_store,\n",
    "                    'Store2': store,\n",
    "                    'YEARMONTH': row['YEARMONTH'],\n",
    "                    'measure': row['measure']\n",
    "                })\n",
    "    \n",
    "    \n",
    "    calc_dist_table_df = pd.DataFrame(calc_dist_table)\n",
    "    \n",
    "    return calc_dist_table_df\n"
   ]
  },
  {
   "cell_type": "code",
   "execution_count": 13,
   "id": "3498ca88",
   "metadata": {},
   "outputs": [
    {
     "name": "stdout",
     "output_type": "stream",
     "text": [
      "      Store1  Store2 YEARMONTH  measure\n",
      "0         77       1    201807     79.5\n",
      "1         77       1    201808     79.1\n",
      "2         77       1    201809     51.3\n",
      "3         77       1    201810     18.9\n",
      "4         77       1    201811     40.1\n",
      "...      ...     ...       ...      ...\n",
      "1801      77     272    201809     77.7\n",
      "1802      77     272    201810    210.8\n",
      "1803      77     272    201811    130.9\n",
      "1804      77     272    201812    107.9\n",
      "1805      77     272    201901    204.0\n",
      "\n",
      "[1806 rows x 4 columns]\n"
     ]
    }
   ],
   "source": [
    "trial_store_number = 77  # Example trial store\n",
    "magnitude_distance_results = calculate_magnitude_distance(pre_trial_measures, 'totSales', trial_store_number)\n",
    "print(magnitude_distance_results)"
   ]
  },
  {
   "cell_type": "code",
   "execution_count": 14,
   "id": "c02fb619",
   "metadata": {},
   "outputs": [
    {
     "name": "stdout",
     "output_type": "stream",
     "text": [
      "     Store1  Store2  mag_measure\n",
      "0        77       1     0.953691\n",
      "1        77       2     0.937207\n",
      "2        77       3     0.345432\n",
      "3        77       4     0.181068\n",
      "4        77       5     0.565130\n",
      "..      ...     ...          ...\n",
      "253      77     268     0.963657\n",
      "254      77     269     0.455216\n",
      "255      77     270     0.458426\n",
      "256      77     271     0.572703\n",
      "257      77     272     0.892823\n",
      "\n",
      "[258 rows x 3 columns]\n"
     ]
    }
   ],
   "source": [
    "min_max_dist = magnitude_distance_results.groupby(['Store1', 'YEARMONTH'])['measure'].agg(['min', 'max']).reset_index()\n",
    "min_max_dist.columns = ['Store1', 'YEARMONTH', 'minDist', 'maxDist']\n",
    "\n",
    "dist_table = pd.merge(magnitude_distance_results, min_max_dist, on=['Store1', 'YEARMONTH'])\n",
    "\n",
    "dist_table['magnitudeMeasure'] = 1 - (dist_table['measure'] - dist_table['minDist']) / (dist_table['maxDist'] - dist_table['minDist'])\n",
    "\n",
    "final_dist_table = dist_table.groupby(['Store1', 'Store2'])['magnitudeMeasure'].mean().reset_index()\n",
    "final_dist_table.columns = ['Store1', 'Store2', 'mag_measure']\n",
    "\n",
    "print(final_dist_table)"
   ]
  },
  {
   "cell_type": "code",
   "execution_count": 15,
   "id": "746bc193",
   "metadata": {},
   "outputs": [
    {
     "name": "stdout",
     "output_type": "stream",
     "text": [
      "Correlation for Total Sales:\n",
      "     Store1  Store2  corr_measure\n",
      "0        77       1     -0.005382\n",
      "1        77       2     -0.251183\n",
      "2        77       3      0.660447\n",
      "3        77       4     -0.347846\n",
      "4        77       5     -0.139048\n",
      "..      ...     ...           ...\n",
      "253      77     268      0.395460\n",
      "254      77     269     -0.466370\n",
      "255      77     270      0.274854\n",
      "256      77     271      0.195190\n",
      "257      77     272     -0.179647\n",
      "\n",
      "[258 rows x 3 columns]\n",
      "\n",
      "Correlation for Number of Customers:\n",
      "     Store1  Store2  corr_measure\n",
      "0        77       1      0.337866\n",
      "1        77       2     -0.596492\n",
      "2        77       3      0.755249\n",
      "3        77       4     -0.305412\n",
      "4        77       5      0.224768\n",
      "..      ...     ...           ...\n",
      "253      77     268      0.369736\n",
      "254      77     269     -0.247581\n",
      "255      77     270     -0.009182\n",
      "256      77     271      0.023635\n",
      "257      77     272      0.068677\n",
      "\n",
      "[258 rows x 3 columns]\n",
      "\n",
      "Magnitude Distance for Total Sales:\n",
      "      Store1  Store2 YEARMONTH  measure\n",
      "0         77       1    201807     79.5\n",
      "1         77       1    201808     79.1\n",
      "2         77       1    201809     51.3\n",
      "3         77       1    201810     18.9\n",
      "4         77       1    201811     40.1\n",
      "...      ...     ...       ...      ...\n",
      "1801      77     272    201809     77.7\n",
      "1802      77     272    201810    210.8\n",
      "1803      77     272    201811    130.9\n",
      "1804      77     272    201812    107.9\n",
      "1805      77     272    201901    204.0\n",
      "\n",
      "[1806 rows x 4 columns]\n",
      "\n",
      "Magnitude Distance for Number of Customers:\n",
      "      Store1  Store2 YEARMONTH  measure\n",
      "0         77       1    201807        0\n",
      "1         77       1    201808        5\n",
      "2         77       1    201809       17\n",
      "3         77       1    201810        3\n",
      "4         77       1    201811        5\n",
      "...      ...     ...       ...      ...\n",
      "1801      77     272    201809        9\n",
      "1802      77     272    201810        5\n",
      "1803      77     272    201811        0\n",
      "1804      77     272    201812        0\n",
      "1805      77     272    201901       13\n",
      "\n",
      "[1806 rows x 4 columns]\n"
     ]
    }
   ],
   "source": [
    "# Trial store (e.g., store 77)\n",
    "trial_store = 77\n",
    "\n",
    "# Correlation for total sales\n",
    "corr_nSales = calculate_correlation(pre_trial_measures, 'totSales', trial_store)\n",
    "\n",
    "# Correlation for number of customers\n",
    "corr_nCustomers = calculate_correlation(pre_trial_measures, 'nCustomers', trial_store)\n",
    "\n",
    "# magnitude distance for total sales\n",
    "magnitude_nSales = calculate_magnitude_distance(pre_trial_measures, 'totSales', trial_store)\n",
    "\n",
    "# magnitude distance for number of customers\n",
    "magnitude_nCustomers = calculate_magnitude_distance(pre_trial_measures, 'nCustomers', trial_store)\n",
    "\n",
    "print(\"Correlation for Total Sales:\")\n",
    "print(corr_nSales)\n",
    "\n",
    "print(\"\\nCorrelation for Number of Customers:\")\n",
    "print(corr_nCustomers)\n",
    "\n",
    "print(\"\\nMagnitude Distance for Total Sales:\")\n",
    "print(magnitude_nSales)\n",
    "\n",
    "print(\"\\nMagnitude Distance for Number of Customers:\")\n",
    "print(magnitude_nCustomers)"
   ]
  },
  {
   "cell_type": "code",
   "execution_count": 16,
   "id": "59f6b9cc",
   "metadata": {},
   "outputs": [
    {
     "name": "stdout",
     "output_type": "stream",
     "text": [
      "Combined Score for Total Sales:\n",
      "      Store1  Store2  ScoreNSales\n",
      "0         77       1    39.747309\n",
      "1         77       1    39.547309\n",
      "2         77       1    25.647309\n",
      "3         77       1     9.447309\n",
      "4         77       1    20.047309\n",
      "...      ...     ...          ...\n",
      "1801      77     272    38.760177\n",
      "1802      77     272   105.310177\n",
      "1803      77     272    65.360177\n",
      "1804      77     272    53.860177\n",
      "1805      77     272   101.910177\n",
      "\n",
      "[1806 rows x 3 columns]\n",
      "\n",
      "Combined Score for Number of Customers:\n",
      "      Store1  Store2  ScoreNCust\n",
      "0         77       1    0.168933\n",
      "1         77       1    2.668933\n",
      "2         77       1    8.668933\n",
      "3         77       1    1.668933\n",
      "4         77       1    2.668933\n",
      "...      ...     ...         ...\n",
      "1801      77     272    4.534339\n",
      "1802      77     272    2.534339\n",
      "1803      77     272    0.034339\n",
      "1804      77     272    0.034339\n",
      "1805      77     272    6.534339\n",
      "\n",
      "[1806 rows x 3 columns]\n"
     ]
    }
   ],
   "source": [
    "# Define the weight for the correlation score\n",
    "corr_weight = 0.5\n",
    "\n",
    "# Merge the correlation and magnitude distance tables for total sales\n",
    "score_nSales = pd.merge(corr_nSales, magnitude_nSales, on=['Store1', 'Store2'])\n",
    "score_nSales['ScoreNSales'] = corr_weight * score_nSales['corr_measure'] + (1 - corr_weight) * score_nSales['measure']\n",
    "\n",
    "# Merge the correlation and magnitude distance tables for number of customers\n",
    "score_nCustomers = pd.merge(corr_nCustomers, magnitude_nCustomers, on=['Store1', 'Store2'])\n",
    "score_nCustomers['ScoreNCust'] = corr_weight * score_nCustomers['corr_measure'] + (1 - corr_weight) * score_nCustomers['measure']\n",
    "\n",
    "print(\"Combined Score for Total Sales:\")\n",
    "print(score_nSales[['Store1', 'Store2', 'ScoreNSales']])\n",
    "\n",
    "print(\"\\nCombined Score for Number of Customers:\")\n",
    "print(score_nCustomers[['Store1', 'Store2', 'ScoreNCust']])\n"
   ]
  },
  {
   "cell_type": "code",
   "execution_count": 17,
   "id": "392163f1",
   "metadata": {},
   "outputs": [
    {
     "name": "stdout",
     "output_type": "stream",
     "text": [
      "Final Control Score:\n",
      "       Store1  Store2  finalControlScore\n",
      "0          77       1          19.958121\n",
      "1          77       1          21.208121\n",
      "2          77       1          24.208121\n",
      "3          77       1          20.708121\n",
      "4          77       1          21.208121\n",
      "...       ...     ...                ...\n",
      "12637      77     272          53.222258\n",
      "12638      77     272          52.222258\n",
      "12639      77     272          50.972258\n",
      "12640      77     272          50.972258\n",
      "12641      77     272          54.222258\n",
      "\n",
      "[12642 rows x 3 columns]\n"
     ]
    }
   ],
   "source": [
    "score_Control = pd.merge(score_nSales[['Store1', 'Store2', 'ScoreNSales']],\n",
    "                         score_nCustomers[['Store1', 'Store2', 'ScoreNCust']],\n",
    "                         on=['Store1', 'Store2'])\n",
    "\n",
    "score_Control['finalControlScore'] = 0.5 * score_Control['ScoreNSales'] + 0.5 * score_Control['ScoreNCust']\n",
    "\n",
    "print(\"Final Control Score:\")\n",
    "print(score_Control[['Store1', 'Store2', 'finalControlScore']])"
   ]
  },
  {
   "cell_type": "code",
   "execution_count": 18,
   "id": "4a5ac3e5",
   "metadata": {},
   "outputs": [
    {
     "name": "stdout",
     "output_type": "stream",
     "text": [
      "The selected control store for trial store 77 is store number 226.0.\n"
     ]
    }
   ],
   "source": [
    "trial_store = 77\n",
    "\n",
    "filtered_scores = score_Control[score_Control['Store2'] != trial_store]\n",
    "\n",
    "filtered_scores = filtered_scores.sort_values(by='finalControlScore', ascending=False)\n",
    "\n",
    "control_store = filtered_scores.iloc[0]['Store2']\n",
    "\n",
    "print(f\"The selected control store for trial store {trial_store} is store number {control_store}.\")\n"
   ]
  },
  {
   "cell_type": "code",
   "execution_count": 19,
   "id": "91fdf2d8",
   "metadata": {},
   "outputs": [
    {
     "name": "stdout",
     "output_type": "stream",
     "text": [
      "<class 'pandas.core.frame.DataFrame'>\n",
      "RangeIndex: 3165 entries, 0 to 3164\n",
      "Data columns (total 7 columns):\n",
      " #   Column           Non-Null Count  Dtype  \n",
      "---  ------           --------------  -----  \n",
      " 0   YEARMONTH        3165 non-null   object \n",
      " 1   STORE_NBR        3165 non-null   int64  \n",
      " 2   totSales         3165 non-null   float64\n",
      " 3   nCustomers       3165 non-null   int64  \n",
      " 4   nTxnPerCust      3165 non-null   float64\n",
      " 5   nChipsPerTxn     3165 non-null   float64\n",
      " 6   avgPricePerUnit  3165 non-null   float64\n",
      "dtypes: float64(4), int64(2), object(1)\n",
      "memory usage: 173.2+ KB\n"
     ]
    },
    {
     "data": {
      "text/plain": [
       "'\\nmeasure_over_time[\\'Store_type\\'] = measure_over_time[\\'STORE_NBR\\'].apply(\\n    lambda x: \\'Trial\\' if x == trial_store else (\\'Control\\' if x == control_store else \\'Other stores\\')\\n)\\n\\npastSales = measure_over_time.groupby([\\'YEARMONTH\\', \\'Store_type\\'])[\\'totSales\\'].mean().reset_index()\\n\\npastSales[\\'TransactionMonth\\'] = pd.to_datetime(pastSales[\\'YEARMONTH\\'].astype(str) + \\'01\\', format=\\'%Y%m%d\\')\\n\\npastSales = pastSales[pastSales[\\'YEARMONTH\\'] < 201903]\\n\\nplt.figure(figsize=(10, 6))\\nsns.lineplot(data=pastSales, x=\\'TransactionMonth\\', y=\\'totSales\\', hue=\\'Store_type\\')\\n\\nplt.xlabel(\"Month of Operation\")\\nplt.ylabel(\"Total Sales\")\\nplt.title(\"Total Sales by Month\")\\nplt.xticks(rotation=45)\\nplt.legend(title=\\'Store Type\\')\\n\\nplt.show()\\n'"
      ]
     },
     "execution_count": 19,
     "metadata": {},
     "output_type": "execute_result"
    }
   ],
   "source": [
    "measure_over_time.info()\n",
    "\"\"\"\n",
    "measure_over_time['Store_type'] = measure_over_time['STORE_NBR'].apply(\n",
    "    lambda x: 'Trial' if x == trial_store else ('Control' if x == control_store else 'Other stores')\n",
    ")\n",
    "\n",
    "pastSales = measure_over_time.groupby(['YEARMONTH', 'Store_type'])['totSales'].mean().reset_index()\n",
    "\n",
    "pastSales['TransactionMonth'] = pd.to_datetime(pastSales['YEARMONTH'].astype(str) + '01', format='%Y%m%d')\n",
    "\n",
    "pastSales = pastSales[pastSales['YEARMONTH'] < 201903]\n",
    "\n",
    "plt.figure(figsize=(10, 6))\n",
    "sns.lineplot(data=pastSales, x='TransactionMonth', y='totSales', hue='Store_type')\n",
    "\n",
    "plt.xlabel(\"Month of Operation\")\n",
    "plt.ylabel(\"Total Sales\")\n",
    "plt.title(\"Total Sales by Month\")\n",
    "plt.xticks(rotation=45)\n",
    "plt.legend(title='Store Type')\n",
    "\n",
    "plt.show()\n",
    "\"\"\""
   ]
  },
  {
   "cell_type": "code",
   "execution_count": 20,
   "id": "ba7ab84c",
   "metadata": {},
   "outputs": [
    {
     "data": {
      "image/png": "[encoded data removed]",
      "text/plain": [
       "<Figure size 720x432 with 1 Axes>"
      ]
     },
     "metadata": {
      "needs_background": "light"
     },
     "output_type": "display_data"
    }
   ],
   "source": [
    "pastCustomers = measure_over_time.copy()\n",
    "pastCustomers['Store_type'] = pastCustomers['STORE_NBR'].apply(\n",
    "    lambda x: 'Trial' if x == trial_store else 'Control' if x == control_store else 'Other stores'\n",
    ")\n",
    "\n",
    "# Step 2: Calculate the average number of customers by month and store type\n",
    "pastCustomers = pastCustomers.groupby(['YEARMONTH', 'Store_type'])['nCustomers'].mean().reset_index()\n",
    "\n",
    "# Step 3: Convert YEARMONTH to a date format for plotting\n",
    "pastCustomers['TransactionMonth'] = pd.to_datetime(pastCustomers['YEARMONTH'].astype(str) + '01', format='%Y%m%d')\n",
    "pastCustomers['YEARMONTH'] = pastCustomers['YEARMONTH'].astype(int)\n",
    "# Step 4: Filter data to include only the pre-trial period (before March 2019)\n",
    "pastCustomers = pastCustomers[pastCustomers['YEARMONTH'] < 201903]\n",
    "\n",
    "# Step 5: Plot the data\n",
    "plt.figure(figsize=(10, 6))\n",
    "sns.lineplot(data=pastCustomers, x='TransactionMonth', y='nCustomers', hue='Store_type')\n",
    "plt.xlabel('Month of operation')\n",
    "plt.ylabel('Number of customers')\n",
    "plt.title('Number of customers by month')\n",
    "plt.show()"
   ]
  },
  {
   "cell_type": "code",
   "execution_count": 21,
   "id": "85b59c5e",
   "metadata": {},
   "outputs": [],
   "source": [
    "#pre_trial_measures\n",
    "pre_trial_measures['YEARMONTH'] = pre_trial_measures['YEARMONTH'].astype(int)\n",
    "pre_trial_trial_sales = pre_trial_measures[(pre_trial_measures['STORE_NBR'] == trial_store) & \n",
    "                                         (pre_trial_measures['YEARMONTH'] < 201902)]['totSales'].sum()\n",
    "\n",
    "pre_trial_control_sales = pre_trial_measures[(pre_trial_measures['STORE_NBR'] == control_store) & \n",
    "                                           (pre_trial_measures['YEARMONTH'] < 201902)]['totSales'].sum()\n",
    "\n",
    "# Calculate the scaling factor\n",
    "scalingFactorForControlSales = pre_trial_trial_sales / pre_trial_control_sales"
   ]
  },
  {
   "cell_type": "code",
   "execution_count": 22,
   "id": "7926d98a",
   "metadata": {},
   "outputs": [],
   "source": [
    "measureOverTimeSales = measure_over_time.copy()\n",
    "\n",
    "# Apply the scaling factor to the control store's sales\n",
    "measureOverTimeSales.loc[measureOverTimeSales['STORE_NBR'] == control_store, 'controlSales'] = (\n",
    "    measureOverTimeSales.loc[measureOverTimeSales['STORE_NBR'] == control_store, 'totSales'] * \n",
    "    scalingFactorForControlSales\n",
    ")"
   ]
  },
  {
   "cell_type": "code",
   "execution_count": 23,
   "id": "4cd652b3",
   "metadata": {},
   "outputs": [
    {
     "name": "stdout",
     "output_type": "stream",
     "text": [
      "   YEARMONTH  totSales_trial  scaledSales  percentageDiff\n",
      "0     201902           211.6   196.890259        7.471035\n",
      "1     201903           255.1   231.021428       10.422657\n",
      "2     201904           258.1   230.063245       12.186543\n"
     ]
    }
   ],
   "source": [
    "measureOverTimeSales['YEARMONTH'] = measureOverTimeSales['YEARMONTH'].astype(int)\n",
    "\n",
    "trial_period = (measureOverTimeSales['YEARMONTH'] >= 201902) & (measureOverTimeSales['YEARMONTH'] <= 201904)\n",
    "\n",
    "trial_sales = measureOverTimeSales[(measureOverTimeSales['STORE_NBR'] == trial_store) & trial_period][['YEARMONTH', 'totSales']]\n",
    "\n",
    "scaled_control_sales = measureOverTimeSales[(measureOverTimeSales['STORE_NBR'] == control_store) & trial_period][['YEARMONTH', 'totSales']]\n",
    "scaled_control_sales['scaledSales'] = scaled_control_sales['totSales'] * scalingFactorForControlSales\n",
    "\n",
    "percentageDiff = trial_sales.merge(scaled_control_sales, on='YEARMONTH', suffixes=('_trial', '_control'))\n",
    "\n",
    "percentageDiff['percentageDiff'] = ((percentageDiff['totSales_trial'] - percentageDiff['scaledSales']) / percentageDiff['scaledSales']) * 100\n",
    "\n",
    "print(percentageDiff[['YEARMONTH', 'totSales_trial', 'scaledSales', 'percentageDiff']])"
   ]
  },
  {
   "cell_type": "code",
   "execution_count": 24,
   "id": "d675d685",
   "metadata": {},
   "outputs": [
    {
     "name": "stdout",
     "output_type": "stream",
     "text": [
      "Standard Deviation of the percentage difference in the pre-trial period: nan\n"
     ]
    }
   ],
   "source": [
    "pre_trial_percentage_diff = percentageDiff[percentageDiff['YEARMONTH'] < 201902]\n",
    "\n",
    "std_dev = pre_trial_percentage_diff['percentageDiff'].std()\n",
    "\n",
    "print(f\"Standard Deviation of the percentage difference in the pre-trial period: {std_dev}\")\n"
   ]
  },
  {
   "cell_type": "code",
   "execution_count": 25,
   "id": "8d9952da",
   "metadata": {},
   "outputs": [],
   "source": [
    "import scipy.stats as stats"
   ]
  },
  {
   "cell_type": "code",
   "execution_count": 26,
   "id": "37ddc5b1",
   "metadata": {},
   "outputs": [
    {
     "name": "stdout",
     "output_type": "stream",
     "text": [
      "  TransactionMonth  percentageDiff  tValue\n",
      "0       2019-02-01        7.471035     NaN\n",
      "1       2019-03-01       10.422657     NaN\n",
      "2       2019-04-01       12.186543     NaN\n",
      "95th percentile of the t-distribution with 7 degrees of freedom: 1.894578605061305\n"
     ]
    }
   ],
   "source": [
    "mu = 0  # Null hypothesis value\n",
    "degrees_of_freedom = 7\n",
    "\n",
    "percentageDiff['tValue'] = (percentageDiff['percentageDiff'] - mu) / std_dev\n",
    "\n",
    "t_critical = stats.t.ppf(0.95, df=degrees_of_freedom)\n",
    "\n",
    "percentageDiff['TransactionMonth'] = pd.to_datetime(percentageDiff['YEARMONTH'].astype(str), format='%Y%m')\n",
    "\n",
    "print(percentageDiff[['TransactionMonth', 'percentageDiff', 'tValue']])\n",
    "print(f\"95th percentile of the t-distribution with {degrees_of_freedom} degrees of freedom: {t_critical}\")"
   ]
  },
  {
   "cell_type": "code",
   "execution_count": 27,
   "id": "814f5533",
   "metadata": {},
   "outputs": [],
   "source": [
    "pastSales = measureOverTimeSales.copy()\n",
    "pastSales['Store_type'] = pastSales['STORE_NBR'].apply(lambda x: 'Trial' if x == trial_store else ('Control' if x == control_store else 'Other stores'))\n",
    "pastSales['totSales'] = pastSales.groupby(['YEARMONTH', 'Store_type'])['totSales'].transform('mean')\n",
    "pastSales['TransactionMonth'] = pd.to_datetime(pastSales['YEARMONTH'].astype(str), format='%Y%m')\n",
    "\n",
    "pastSales = pastSales[pastSales['Store_type'].isin(['Trial', 'Control'])]\n",
    "\n",
    "pastSales_Controls95 = pastSales[pastSales['Store_type'] == 'Control'].copy()\n",
    "pastSales_Controls95['totSales'] = pastSales_Controls95['totSales'] * (1 + std_dev * 2)\n",
    "pastSales_Controls95['Store_type'] = 'Control 95th % confidence interval'\n",
    "\n",
    "pastSales_Controls5 = pastSales[pastSales['Store_type'] == 'Control'].copy()\n",
    "pastSales_Controls5['totSales'] = pastSales_Controls5['totSales'] * (1 - std_dev * 2)\n",
    "pastSales_Controls5['Store_type'] = 'Control 5th % confidence interval'\n",
    "\n",
    "trialAssessment = pd.concat([pastSales, pastSales_Controls95, pastSales_Controls5])\n"
   ]
  },
  {
   "cell_type": "code",
   "execution_count": 28,
   "id": "82d8db00",
   "metadata": {},
   "outputs": [
    {
     "name": "stdout",
     "output_type": "stream",
     "text": [
      "Length of 'TransactionMonth': 48\n",
      "Length of 'totSales': 48\n",
      "Length of 'Store_type': 48\n",
      "     YEARMONTH  STORE_NBR  totSales  nCustomers  nTxnPerCust  nChipsPerTxn  \\\n",
      "73      201807         77    268.40          47     1.085106      1.509804   \n",
      "218     201807        226   1398.60         130     1.230769      2.000000   \n",
      "336     201808         77    247.50          46     1.000000      1.543478   \n",
      "480     201808        226   1169.25         124     1.177419      1.890411   \n",
      "601     201809         77    216.80          40     1.050000      1.571429   \n",
      "\n",
      "     avgPricePerUnit  controlSales Store_type TransactionMonth  \n",
      "73          3.485714           NaN      Trial       2018-07-01  \n",
      "218         4.370625    231.054469    Control       2018-07-01  \n",
      "336         3.485915           NaN      Trial       2018-08-01  \n",
      "480         4.236413    193.164906    Control       2018-08-01  \n",
      "601         3.284848           NaN      Trial       2018-09-01  \n"
     ]
    }
   ],
   "source": [
    "# Check the length of columns\n",
    "print(\"Length of 'TransactionMonth':\", len(trialAssessment['TransactionMonth']))\n",
    "print(\"Length of 'totSales':\", len(trialAssessment['totSales']))\n",
    "print(\"Length of 'Store_type':\", len(trialAssessment['Store_type']))\n",
    "print(trialAssessment.head())\n"
   ]
  },
  {
   "cell_type": "code",
   "execution_count": 29,
   "id": "7144a2ef",
   "metadata": {},
   "outputs": [
    {
     "name": "stdout",
     "output_type": "stream",
     "text": [
      "YEARMONTH            0\n",
      "STORE_NBR            0\n",
      "totSales            24\n",
      "nCustomers           0\n",
      "nTxnPerCust          0\n",
      "nChipsPerTxn         0\n",
      "avgPricePerUnit      0\n",
      "controlSales        12\n",
      "Store_type           0\n",
      "TransactionMonth     0\n",
      "dtype: int64\n"
     ]
    }
   ],
   "source": [
    "print(trialAssessment.isna().sum())  # Check for NaN values and column types"
   ]
  },
  {
   "cell_type": "code",
   "execution_count": 30,
   "id": "4a6e9c22",
   "metadata": {},
   "outputs": [],
   "source": [
    "trialAssessment.dropna(subset=['totSales', 'controlSales'], inplace=True)"
   ]
  },
  {
   "cell_type": "code",
   "execution_count": 31,
   "id": "a741c6bf",
   "metadata": {},
   "outputs": [
    {
     "data": {
      "image/png": "[encoded data removed]",
      "text/plain": [
       "<Figure size 720x432 with 1 Axes>"
      ]
     },
     "metadata": {
      "needs_background": "light"
     },
     "output_type": "display_data"
    }
   ],
   "source": [
    "plt.figure(figsize=(10, 6))\n",
    "sns.lineplot(data=trialAssessment, x='TransactionMonth', y='totSales', hue='Store_type')\n",
    "\n",
    "plt.axvspan(min(trialAssessment[(trialAssessment['YEARMONTH'] > 201901) & (trialAssessment['YEARMONTH'] < 201905)]['TransactionMonth']),\n",
    "            max(trialAssessment[(trialAssessment['YEARMONTH'] > 201901) & (trialAssessment['YEARMONTH'] < 201905)]['TransactionMonth']),\n",
    "            color='grey', alpha=0.3, label='Trial Period')\n",
    "\n",
    "plt.xlabel(\"Month of operation\")\n",
    "plt.ylabel(\"Total sales\")\n",
    "plt.title(\"Total sales by month\")\n",
    "plt.legend()\n",
    "plt.show()"
   ]
  },
  {
   "cell_type": "code",
   "execution_count": 32,
   "id": "e4b7a9f0",
   "metadata": {},
   "outputs": [
    {
     "name": "stdout",
     "output_type": "stream",
     "text": [
      "      YEARMONTH  STORE_NBR  nCustomers  controlCustomers  percentageDiff\n",
      "1919     201902         77          40               NaN             NaN\n",
      "2064     201902        226         107         32.977049      224.468085\n",
      "2183     201903         77          46               NaN             NaN\n",
      "2328     201903        226         124         38.216393      224.468085\n",
      "2448     201904         77          47               NaN             NaN\n",
      "2592     201904        226         133         40.990164      224.468085\n"
     ]
    }
   ],
   "source": [
    "# Step 1: Compute the scaling factor for the control store's customer counts\n",
    "pre_trial_trial_cust = pre_trial_measures[(pre_trial_measures['STORE_NBR'] == trial_store) & \n",
    "                                        (pre_trial_measures['YEARMONTH'] < 201902)]['nCustomers'].sum()\n",
    "\n",
    "pre_trial_control_cust = pre_trial_measures[(pre_trial_measures['STORE_NBR'] == control_store) & \n",
    "                                          (pre_trial_measures['YEARMONTH'] < 201902)]['nCustomers'].sum()\n",
    "\n",
    "scalingFactorForControlCust = pre_trial_trial_cust / pre_trial_control_cust\n",
    "\n",
    "# Step 2: Apply the scaling factor to the control store's customer counts\n",
    "measureOverTimeCusts = measure_over_time.copy()\n",
    "measureOverTimeCusts.loc[measureOverTimeCusts['STORE_NBR'] == control_store, 'controlCustomers'] = \\\n",
    "    measureOverTimeCusts.loc[measureOverTimeCusts['STORE_NBR'] == control_store, 'nCustomers'] * scalingFactorForControlCust\n",
    "\n",
    "measureOverTimeCusts.loc[measureOverTimeCusts['STORE_NBR'] == control_store, 'Store_type'] = 'Control'\n",
    "\n",
    "# Step 3: Calculate the percentage difference between trial and control customers\n",
    "measureOverTimeCusts['YEARMONTH'] = measureOverTimeCusts['YEARMONTH'].astype(int)\n",
    "percentageDiff = measureOverTimeCusts[measureOverTimeCusts['STORE_NBR'].isin([trial_store, control_store]) & \n",
    "                                      (measureOverTimeCusts['YEARMONTH'] >= 201902) & \n",
    "                                      (measureOverTimeCusts['YEARMONTH'] <= 201904)]\n",
    "\n",
    "percentageDiff['percentageDiff'] = (percentageDiff['nCustomers'] - percentageDiff['controlCustomers']) / \\\n",
    "                                   percentageDiff['controlCustomers'] * 100\n",
    "\n",
    "# Display the resulting DataFrame for inspection\n",
    "print(percentageDiff[['YEARMONTH', 'STORE_NBR', 'nCustomers', 'controlCustomers', 'percentageDiff']])\n"
   ]
  },
  {
   "cell_type": "code",
   "execution_count": 33,
   "id": "8eb6bacd",
   "metadata": {},
   "outputs": [],
   "source": [
    "# Control store 95th percentile\n",
    "pastCustomers_Controls95 = pastCustomers[pastCustomers['Store_type'] == \"Control\"].copy()\n",
    "pastCustomers_Controls95['nCusts'] = pastCustomers_Controls95['nCustomers'] * (1 + std_dev * 2)\n",
    "pastCustomers_Controls95['Store_type'] = \"Control 95th % confidence interval\"\n"
   ]
  },
  {
   "cell_type": "code",
   "execution_count": 34,
   "id": "91e054dc",
   "metadata": {},
   "outputs": [],
   "source": [
    "pastCustomers_Controls5 = (pastCustomers[pastCustomers['Store_type'] == 'Control']\n",
    "                           .copy())\n",
    "pastCustomers_Controls5['nCusts'] = (pastCustomers_Controls5['nCustomers'] *\n",
    "                                      (1 - std_dev * 2))\n",
    "pastCustomers_Controls5['Store_type'] = 'Control 5th % confidence interval'\n"
   ]
  },
  {
   "cell_type": "code",
   "execution_count": 35,
   "id": "6a4810d8",
   "metadata": {},
   "outputs": [
    {
     "data": {
      "image/png": "[encoded data removed]",
      "text/plain": [
       "<Figure size 720x432 with 1 Axes>"
      ]
     },
     "metadata": {
      "needs_background": "light"
     },
     "output_type": "display_data"
    }
   ],
   "source": [
    "trialAssessment = pd.concat([pastCustomers, pastCustomers_Controls95, pastCustomers_Controls5])\n",
    "\n",
    "# Create the plot\n",
    "plt.figure(figsize=(10, 6))\n",
    "\n",
    "# Line plot for customer data by month\n",
    "sns.lineplot(data=trialAssessment, x='TransactionMonth', y='nCusts', hue='Store_type')\n",
    "\n",
    "# Highlight the trial period with a shaded rectangle (trial period: Feb 2019 - April 2019)\n",
    "plt.axvspan(min(trialAssessment[(trialAssessment['YEARMONTH'] > 201901) & (trialAssessment['YEARMONTH'] < 201905)]['TransactionMonth']),\n",
    "            max(trialAssessment[(trialAssessment['YEARMONTH'] > 201901) & (trialAssessment['YEARMONTH'] < 201905)]['TransactionMonth']),\n",
    "            color='grey', alpha=0.3, label='Trial Period')\n",
    "\n",
    "# Add labels and title\n",
    "plt.xlabel(\"Month of operation\")\n",
    "plt.ylabel(\"Number of customers\")\n",
    "plt.title(\"Number of customers by month - Trial vs Control\")\n",
    "\n",
    "# Show the plot\n",
    "plt.legend()\n",
    "plt.show()"
   ]
  },
  {
   "cell_type": "code",
   "execution_count": 36,
   "id": "761a1c84",
   "metadata": {},
   "outputs": [
    {
     "data": {
      "image/png": "[encoded data removed]",
      "text/plain": [
       "<Figure size 864x432 with 1 Axes>"
      ]
     },
     "metadata": {
      "needs_background": "light"
     },
     "output_type": "display_data"
    }
   ],
   "source": [
    "stdDev = percentageDiff[percentageDiff['YEARMONTH'] < 201902]['percentageDiff'].std()\n",
    "\n",
    "# Number of degrees of freedom\n",
    "degreesOfFreedom = 7\n",
    "\n",
    "# Calculate mean number of customers for trial and control stores\n",
    "pastCustomers = (measureOverTimeCusts\n",
    "                 .groupby(['YEARMONTH', 'Store_type'])\n",
    "                 .agg({'nCustomers': 'mean'})\n",
    "                 .reset_index()\n",
    "                 .query('Store_type in [\"Trial\", \"Control\"]'))\n",
    "\n",
    "# Control store 95th percentile\n",
    "pastCustomers_Controls95 = (pastCustomers[pastCustomers['Store_type'] == 'Control']\n",
    "                            .copy())\n",
    "pastCustomers_Controls95['nCusts'] = (pastCustomers_Controls95['nCustomers'] *\n",
    "                                       (1 + stdDev * 2))\n",
    "pastCustomers_Controls95['Store_type'] = 'Control 95th % confidence interval'\n",
    "\n",
    "# Control store 5th percentile\n",
    "pastCustomers_Controls5 = (pastCustomers[pastCustomers['Store_type'] == 'Control']\n",
    "                           .copy())\n",
    "pastCustomers_Controls5['nCusts'] = (pastCustomers_Controls5['nCustomers'] *\n",
    "                                      (1 - stdDev * 2))\n",
    "pastCustomers_Controls5['Store_type'] = 'Control 5th % confidence interval'\n",
    "\n",
    "# Combine all data into one DataFrame\n",
    "trialAssessment = pd.concat([pastCustomers, pastCustomers_Controls95, pastCustomers_Controls5])\n",
    "\n",
    "# Plotting\n",
    "plt.figure(figsize=(12, 6))\n",
    "\n",
    "# Plot trial and control store number of customers\n",
    "sns.lineplot(data=trialAssessment, x='YEARMONTH', y='nCusts', hue='Store_type')\n",
    "\n",
    "# Highlight the trial period\n",
    "trial_start = '2019-02'\n",
    "trial_end = '2019-04'\n",
    "plt.axvspan(pd.to_datetime(trial_start), pd.to_datetime(trial_end), color='grey', alpha=0.3, label='Trial Period')\n",
    "\n",
    "plt.xlabel(\"Month of operation\")\n",
    "plt.ylabel(\"Number of customers\")\n",
    "plt.title(\"Number of Customers by Month\")\n",
    "plt.legend()\n",
    "plt.show()"
   ]
  },
  {
   "cell_type": "code",
   "execution_count": 37,
   "id": "695cc48d",
   "metadata": {},
   "outputs": [],
   "source": [
    "store_86_data = df[df['STORE_NBR'] == 86]\n",
    "\n",
    "# Aggregate metrics for store 86\n",
    "measureOverTime = (df.groupby(['YEARMONTH', 'STORE_NBR']).agg(\n",
    "    totSales=('TOT_SALES', 'sum'),                                # Total sales\n",
    "    nCustomers=('LYLTY_CARD_NBR', pd.Series.nunique),             # Number of unique customers\n",
    "    nTxnPerCust=('TXN_ID', 'count'),                              # Number of transactions per store/month\n",
    "    nChipsPerTxn=('PROD_QTY', 'mean'),                            # Average quantity of chips per transaction\n",
    "    total_units_sold=('PROD_QTY', 'sum')                          # Total number of units sold\n",
    ").reset_index().sort_values(by=['YEARMONTH', 'STORE_NBR']))\n",
    "\n",
    "# Filter to include only store 86 data\n",
    "measureOverTime = measureOverTime[measureOverTime['STORE_NBR'] == 86]"
   ]
  },
  {
   "cell_type": "code",
   "execution_count": 38,
   "id": "1f951500",
   "metadata": {
    "scrolled": true
   },
   "outputs": [
    {
     "name": "stdout",
     "output_type": "stream",
     "text": [
      "Top control stores based on sales correlation: [(140, 0.021088826466514058), (158, 0.016032953598455454), (177, 0.015506600098711323), (214, 0.008436443221374558), (192, 0.005196239835403802)] \n",
      "\n",
      "Top control stores based on customer correlation: [(177, 0.05526005025798027), (192, 0.019423607817955983), (188, 0.01437391698593839), (185, 0.011740675343609366), (182, 0.007392780549288567)] \n",
      "\n",
      "Top control stores based on sales magnitude: [(69, 0.0004834429763960202), (112, 0.0006959344075658791), (109, 0.001091411261582742), (83, 0.002189446741237333), (207, 0.003942874323512591)] \n",
      "\n",
      "Top control stores based on customer magnitude: [(87, 304.1545800253516), (85, 868.3500000000058), (89, 1792.3782911802991), (90, 2674.847357992083), (84, 3270.860118189681)] \n",
      "\n"
     ]
    }
   ],
   "source": [
    "trial_store = 86\n",
    "\n",
    "potential_control_stores = df['STORE_NBR'].unique()\n",
    "potential_control_stores = [store for store in potential_control_stores if store != trial_store]\n",
    "\n",
    "corr_nSales = {}\n",
    "corr_nCustomers = {}\n",
    "magnitude_nSales = {}\n",
    "magnitude_nCustomers = {}\n",
    "\n",
    "for control_store in potential_control_stores:\n",
    "    # Filter data for the trial store and the control store\n",
    "    trial_store_data = df[df['STORE_NBR'] == trial_store]\n",
    "    control_store_data = df[df['STORE_NBR'] == control_store]\n",
    "    \n",
    "    # Merge the trial and control data on YEARMONTH to align the data for comparison\n",
    "    merged_data = pd.merge(trial_store_data, control_store_data, on='YEARMONTH', suffixes=('_trial', '_control'))\n",
    "    \n",
    "    # Calculate correlations for sales and customers\n",
    "    corr_nSales[control_store] = merged_data['TOT_SALES_trial'].corr(merged_data['TOT_SALES_control'])\n",
    "    corr_nCustomers[control_store] = merged_data['LYLTY_CARD_NBR_trial'].corr(merged_data['LYLTY_CARD_NBR_control'])\n",
    "    \n",
    "    # Calculate magnitude for sales and customers (absolute difference)\n",
    "    magnitude_nSales[control_store] = abs(merged_data['TOT_SALES_trial'].mean() - merged_data['TOT_SALES_control'].mean())\n",
    "    magnitude_nCustomers[control_store] = abs(merged_data['LYLTY_CARD_NBR_trial'].mean() - merged_data['LYLTY_CARD_NBR_control'].mean())\n",
    "\n",
    "sorted_corr_nSales = sorted(corr_nSales.items(), key=lambda x: x[1], reverse=True)\n",
    "sorted_corr_nCustomers = sorted(corr_nCustomers.items(), key=lambda x: x[1], reverse=True)\n",
    "sorted_magnitude_nSales = sorted(magnitude_nSales.items(), key=lambda x: x[1])\n",
    "sorted_magnitude_nCustomers = sorted(magnitude_nCustomers.items(), key=lambda x: x[1])\n",
    "\n",
    "print(\"Top control stores based on sales correlation:\", sorted_corr_nSales[:5],\"\\n\")\n",
    "print(\"Top control stores based on customer correlation:\", sorted_corr_nCustomers[:5],\"\\n\")\n",
    "print(\"Top control stores based on sales magnitude:\", sorted_magnitude_nSales[:5],\"\\n\")\n",
    "print(\"Top control stores based on customer magnitude:\", sorted_magnitude_nCustomers[:5],\"\\n\")"
   ]
  },
  {
   "cell_type": "code",
   "execution_count": 39,
   "id": "267cce8a",
   "metadata": {},
   "outputs": [
    {
     "name": "stdout",
     "output_type": "stream",
     "text": [
      "The control store for trial store 86 is store 82.0.\n"
     ]
    }
   ],
   "source": [
    "corr_weight = 0.5\n",
    "\n",
    "# Normalize the magnitude to make sure it has a similar scale as correlation\n",
    "max_magnitude_sales = max(magnitude_nSales.values())\n",
    "max_magnitude_customers = max(magnitude_nCustomers.values())\n",
    "\n",
    "score_nSales = {store: corr_weight * corr_nSales[store] + (1 - corr_weight) * (1 - (magnitude_nSales[store] / max_magnitude_sales))\n",
    "                for store in corr_nSales}\n",
    "score_nCustomers = {store: corr_weight * corr_nCustomers[store] + (1 - corr_weight) * (1 - (magnitude_nCustomers[store] / max_magnitude_customers))\n",
    "                    for store in corr_nCustomers}\n",
    "\n",
    "combined_scores = {store: (score_nSales[store] + score_nCustomers[store]) / 2 for store in score_nSales}\n",
    "\n",
    "score_Control = pd.DataFrame(list(combined_scores.items()), columns=['Store2', 'finalControlScore'])\n",
    "\n",
    "score_Control = score_Control[score_Control['Store2'] != trial_store].sort_values(by='finalControlScore', ascending=False)\n",
    "\n",
    "control_store = score_Control.iloc[1]['Store2']  # Selecting the second-ranked highest store\n",
    "\n",
    "print(f\"The control store for trial store {trial_store} is store {control_store}.\")"
   ]
  },
  {
   "cell_type": "code",
   "execution_count": 40,
   "id": "3dd53404",
   "metadata": {},
   "outputs": [
    {
     "data": {
      "text/html": [
       "<div>\n",
       "<style scoped>\n",
       "    .dataframe tbody tr th:only-of-type {\n",
       "        vertical-align: middle;\n",
       "    }\n",
       "\n",
       "    .dataframe tbody tr th {\n",
       "        vertical-align: top;\n",
       "    }\n",
       "\n",
       "    .dataframe thead th {\n",
       "        text-align: right;\n",
       "    }\n",
       "</style>\n",
       "<table border=\"1\" class=\"dataframe\">\n",
       "  <thead>\n",
       "    <tr style=\"text-align: right;\">\n",
       "      <th></th>\n",
       "      <th>YEARMONTH</th>\n",
       "      <th>STORE_NBR</th>\n",
       "      <th>totSales</th>\n",
       "      <th>nCustomers</th>\n",
       "      <th>nTxnPerCust</th>\n",
       "      <th>nChipsPerTxn</th>\n",
       "      <th>avgPricePerUnit</th>\n",
       "      <th>controlSales</th>\n",
       "      <th>Store_type</th>\n",
       "      <th>TransactionMonth</th>\n",
       "    </tr>\n",
       "  </thead>\n",
       "  <tbody>\n",
       "    <tr>\n",
       "      <th>73</th>\n",
       "      <td>201807</td>\n",
       "      <td>77</td>\n",
       "      <td>268.40</td>\n",
       "      <td>47</td>\n",
       "      <td>1.085106</td>\n",
       "      <td>1.509804</td>\n",
       "      <td>3.485714</td>\n",
       "      <td>NaN</td>\n",
       "      <td>Trial</td>\n",
       "      <td>2018-07-01</td>\n",
       "    </tr>\n",
       "    <tr>\n",
       "      <th>218</th>\n",
       "      <td>201807</td>\n",
       "      <td>226</td>\n",
       "      <td>1398.60</td>\n",
       "      <td>130</td>\n",
       "      <td>1.230769</td>\n",
       "      <td>2.000000</td>\n",
       "      <td>4.370625</td>\n",
       "      <td>231.054469</td>\n",
       "      <td>Control</td>\n",
       "      <td>2018-07-01</td>\n",
       "    </tr>\n",
       "    <tr>\n",
       "      <th>336</th>\n",
       "      <td>201808</td>\n",
       "      <td>77</td>\n",
       "      <td>247.50</td>\n",
       "      <td>46</td>\n",
       "      <td>1.000000</td>\n",
       "      <td>1.543478</td>\n",
       "      <td>3.485915</td>\n",
       "      <td>NaN</td>\n",
       "      <td>Trial</td>\n",
       "      <td>2018-08-01</td>\n",
       "    </tr>\n",
       "    <tr>\n",
       "      <th>480</th>\n",
       "      <td>201808</td>\n",
       "      <td>226</td>\n",
       "      <td>1169.25</td>\n",
       "      <td>124</td>\n",
       "      <td>1.177419</td>\n",
       "      <td>1.890411</td>\n",
       "      <td>4.236413</td>\n",
       "      <td>193.164906</td>\n",
       "      <td>Control</td>\n",
       "      <td>2018-08-01</td>\n",
       "    </tr>\n",
       "    <tr>\n",
       "      <th>601</th>\n",
       "      <td>201809</td>\n",
       "      <td>77</td>\n",
       "      <td>216.80</td>\n",
       "      <td>40</td>\n",
       "      <td>1.050000</td>\n",
       "      <td>1.571429</td>\n",
       "      <td>3.284848</td>\n",
       "      <td>NaN</td>\n",
       "      <td>Trial</td>\n",
       "      <td>2018-09-01</td>\n",
       "    </tr>\n",
       "  </tbody>\n",
       "</table>\n",
       "</div>"
      ],
      "text/plain": [
       "     YEARMONTH  STORE_NBR  totSales  nCustomers  nTxnPerCust  nChipsPerTxn  \\\n",
       "73      201807         77    268.40          47     1.085106      1.509804   \n",
       "218     201807        226   1398.60         130     1.230769      2.000000   \n",
       "336     201808         77    247.50          46     1.000000      1.543478   \n",
       "480     201808        226   1169.25         124     1.177419      1.890411   \n",
       "601     201809         77    216.80          40     1.050000      1.571429   \n",
       "\n",
       "     avgPricePerUnit  controlSales Store_type TransactionMonth  \n",
       "73          3.485714           NaN      Trial       2018-07-01  \n",
       "218         4.370625    231.054469    Control       2018-07-01  \n",
       "336         3.485915           NaN      Trial       2018-08-01  \n",
       "480         4.236413    193.164906    Control       2018-08-01  \n",
       "601         3.284848           NaN      Trial       2018-09-01  "
      ]
     },
     "execution_count": 40,
     "metadata": {},
     "output_type": "execute_result"
    }
   ],
   "source": [
    "pastSales.head()"
   ]
  },
  {
   "cell_type": "code",
   "execution_count": 41,
   "id": "570e0107",
   "metadata": {},
   "outputs": [
    {
     "data": {
      "text/html": [
       "<div>\n",
       "<style scoped>\n",
       "    .dataframe tbody tr th:only-of-type {\n",
       "        vertical-align: middle;\n",
       "    }\n",
       "\n",
       "    .dataframe tbody tr th {\n",
       "        vertical-align: top;\n",
       "    }\n",
       "\n",
       "    .dataframe thead th {\n",
       "        text-align: right;\n",
       "    }\n",
       "</style>\n",
       "<table border=\"1\" class=\"dataframe\">\n",
       "  <thead>\n",
       "    <tr style=\"text-align: right;\">\n",
       "      <th></th>\n",
       "      <th>YEARMONTH</th>\n",
       "      <th>STORE_NBR</th>\n",
       "      <th>totSales</th>\n",
       "      <th>nCustomers</th>\n",
       "      <th>nTxnPerCust</th>\n",
       "      <th>nChipsPerTxn</th>\n",
       "      <th>avgPricePerUnit</th>\n",
       "      <th>controlSales</th>\n",
       "    </tr>\n",
       "  </thead>\n",
       "  <tbody>\n",
       "    <tr>\n",
       "      <th>0</th>\n",
       "      <td>201807</td>\n",
       "      <td>1</td>\n",
       "      <td>188.9</td>\n",
       "      <td>47</td>\n",
       "      <td>1.042553</td>\n",
       "      <td>1.183673</td>\n",
       "      <td>3.256897</td>\n",
       "      <td>NaN</td>\n",
       "    </tr>\n",
       "    <tr>\n",
       "      <th>1</th>\n",
       "      <td>201807</td>\n",
       "      <td>2</td>\n",
       "      <td>140.5</td>\n",
       "      <td>36</td>\n",
       "      <td>1.055556</td>\n",
       "      <td>1.131579</td>\n",
       "      <td>3.267442</td>\n",
       "      <td>NaN</td>\n",
       "    </tr>\n",
       "    <tr>\n",
       "      <th>2</th>\n",
       "      <td>201807</td>\n",
       "      <td>3</td>\n",
       "      <td>1164.9</td>\n",
       "      <td>108</td>\n",
       "      <td>1.240741</td>\n",
       "      <td>1.962687</td>\n",
       "      <td>4.429278</td>\n",
       "      <td>NaN</td>\n",
       "    </tr>\n",
       "    <tr>\n",
       "      <th>3</th>\n",
       "      <td>201807</td>\n",
       "      <td>4</td>\n",
       "      <td>1318.3</td>\n",
       "      <td>121</td>\n",
       "      <td>1.256198</td>\n",
       "      <td>1.986842</td>\n",
       "      <td>4.365232</td>\n",
       "      <td>NaN</td>\n",
       "    </tr>\n",
       "    <tr>\n",
       "      <th>4</th>\n",
       "      <td>201807</td>\n",
       "      <td>5</td>\n",
       "      <td>763.8</td>\n",
       "      <td>86</td>\n",
       "      <td>1.290698</td>\n",
       "      <td>2.000000</td>\n",
       "      <td>3.440541</td>\n",
       "      <td>NaN</td>\n",
       "    </tr>\n",
       "  </tbody>\n",
       "</table>\n",
       "</div>"
      ],
      "text/plain": [
       "   YEARMONTH  STORE_NBR  totSales  nCustomers  nTxnPerCust  nChipsPerTxn  \\\n",
       "0     201807          1     188.9          47     1.042553      1.183673   \n",
       "1     201807          2     140.5          36     1.055556      1.131579   \n",
       "2     201807          3    1164.9         108     1.240741      1.962687   \n",
       "3     201807          4    1318.3         121     1.256198      1.986842   \n",
       "4     201807          5     763.8          86     1.290698      2.000000   \n",
       "\n",
       "   avgPricePerUnit  controlSales  \n",
       "0         3.256897           NaN  \n",
       "1         3.267442           NaN  \n",
       "2         4.429278           NaN  \n",
       "3         4.365232           NaN  \n",
       "4         3.440541           NaN  "
      ]
     },
     "execution_count": 41,
     "metadata": {},
     "output_type": "execute_result"
    }
   ],
   "source": [
    "measureOverTimeSales.head()"
   ]
  },
  {
   "cell_type": "code",
   "execution_count": 42,
   "id": "3588f34f",
   "metadata": {
    "scrolled": true
   },
   "outputs": [
    {
     "data": {
      "image/png": "[encoded data removed]",
      "text/plain": [
       "<Figure size 720x432 with 1 Axes>"
      ]
     },
     "metadata": {
      "needs_background": "light"
     },
     "output_type": "display_data"
    }
   ],
   "source": [
    "trial_store = 86\n",
    "control_store = 82  # You would have calculated this earlier\n",
    "\n",
    "# Convert YEARMONTH to an integer\n",
    "measureOverTime['YEARMONTH'] = measureOverTime['YEARMONTH'].astype(int)\n",
    "\n",
    "# Step 1: Create the 'Store_type' column\n",
    "measureOverTime['Store_type'] = measureOverTime['STORE_NBR'].apply(\n",
    "    lambda x: 'Trial' if x == trial_store else ('Control' if x == control_store else 'Other'))\n",
    "\n",
    "# Step 2: Filter data for YEARMONTH < 201903\n",
    "measureOverTimeSales = measureOverTime[measureOverTime['YEARMONTH'] < 201903]\n",
    "\n",
    "# Step 3: Create TransactionMonth by converting YEARMONTH to a datetime format\n",
    "measureOverTimeSales['TransactionMonth'] = pd.to_datetime(\n",
    "    measureOverTimeSales['YEARMONTH'].astype(str) + '01', format='%Y%m%d')\n",
    "\n",
    "# Step 4: Group data by TransactionMonth and Store_type to calculate total sales\n",
    "pastSales = measureOverTimeSales.groupby(['TransactionMonth', 'Store_type']).agg(\n",
    "    totSales=('totSales', 'sum')\n",
    ").reset_index()\n",
    "\n",
    "# Step 5: Plot the data\n",
    "plt.figure(figsize=(10, 6))\n",
    "sns.lineplot(data=pastSales, x='TransactionMonth', y='totSales', hue='Store_type')\n",
    "\n",
    "plt.title('Total Sales Over Time Before Trial Period')\n",
    "plt.xlabel('Transaction Month')\n",
    "plt.ylabel('Total Sales')\n",
    "plt.xticks(rotation=45)\n",
    "plt.tight_layout()\n",
    "plt.show()"
   ]
  },
  {
   "cell_type": "code",
   "execution_count": 43,
   "id": "98b439d4",
   "metadata": {},
   "outputs": [],
   "source": [
    "# Calculate total sales for trial store and control store pre-trial period\n",
    "trial_store_sales = pre_trial_measures[pre_trial_measures['STORE_NBR'] == trial_store]\n",
    "control_store_sales = pre_trial_measures[pre_trial_measures['STORE_NBR'] == control_store]\n",
    "\n",
    "# Sum of sales for each store pre-trial\n",
    "trial_store_total_sales = trial_store_sales[trial_store_sales['YEARMONTH'] < 201902]['totSales'].sum()\n",
    "control_store_total_sales = control_store_sales[control_store_sales['YEARMONTH'] < 201902]['totSales'].sum()\n",
    "\n",
    "# Calculate scaling factor\n",
    "scaling_factor_for_control_sales = trial_store_total_sales / control_store_total_sales\n"
   ]
  },
  {
   "cell_type": "code",
   "execution_count": 44,
   "id": "fb528095",
   "metadata": {},
   "outputs": [],
   "source": [
    "# Apply the scaling factor to the control store sales\n",
    "measureOverTimeSales['scaledControlSales'] = measureOverTimeSales.apply(\n",
    "    lambda row: row['TOT_SALES'] * scaling_factor_for_control_sales if row['STORE_NBR'] == control_store else None, \n",
    "    axis=1\n",
    ")\n"
   ]
  },
  {
   "cell_type": "code",
   "execution_count": 45,
   "id": "481751c7",
   "metadata": {},
   "outputs": [
    {
     "name": "stdout",
     "output_type": "stream",
     "text": [
      "Empty DataFrame\n",
      "Columns: [YEARMONTH, percentageDiff]\n",
      "Index: []\n"
     ]
    }
   ],
   "source": [
    "# Filter for trial and scaled control sales\n",
    "trial_sales = measureOverTimeSales[measureOverTimeSales['STORE_NBR'] == trial_store]\n",
    "scaled_control_sales = measureOverTimeSales[measureOverTimeSales['STORE_NBR'] == control_store]\n",
    "\n",
    "# Merge on YEARMONTH\n",
    "merged_sales = pd.merge(trial_sales[['YEARMONTH', 'totSales']], \n",
    "                        scaled_control_sales[['YEARMONTH', 'scaledControlSales']], \n",
    "                        on='YEARMONTH', \n",
    "                        how='inner')\n",
    "\n",
    "# Calculate percentage difference\n",
    "merged_sales['percentageDiff'] = abs((merged_sales['totSales'] - merged_sales['scaledControlSales']) / merged_sales['scaledControlSales']) * 100\n",
    "\n",
    "# Show the percentage difference\n",
    "print(merged_sales[['YEARMONTH', 'percentageDiff']])\n"
   ]
  },
  {
   "cell_type": "code",
   "execution_count": 46,
   "id": "38f0f078",
   "metadata": {},
   "outputs": [
    {
     "name": "stdout",
     "output_type": "stream",
     "text": [
      "[201807 201808 201809 201810 201811 201812 201901 201902]\n",
      "[]\n"
     ]
    }
   ],
   "source": [
    "print(trial_sales['YEARMONTH'].unique())\n",
    "print(scaled_control_sales['YEARMONTH'].unique())\n"
   ]
  },
  {
   "cell_type": "code",
   "execution_count": 47,
   "id": "84e0ad20",
   "metadata": {},
   "outputs": [
    {
     "data": {
      "text/html": [
       "<div>\n",
       "<style scoped>\n",
       "    .dataframe tbody tr th:only-of-type {\n",
       "        vertical-align: middle;\n",
       "    }\n",
       "\n",
       "    .dataframe tbody tr th {\n",
       "        vertical-align: top;\n",
       "    }\n",
       "\n",
       "    .dataframe thead th {\n",
       "        text-align: right;\n",
       "    }\n",
       "</style>\n",
       "<table border=\"1\" class=\"dataframe\">\n",
       "  <thead>\n",
       "    <tr style=\"text-align: right;\">\n",
       "      <th></th>\n",
       "      <th>YEARMONTH</th>\n",
       "      <th>STORE_NBR</th>\n",
       "      <th>totSales</th>\n",
       "      <th>nCustomers</th>\n",
       "      <th>nTxnPerCust</th>\n",
       "      <th>nChipsPerTxn</th>\n",
       "      <th>total_units_sold</th>\n",
       "      <th>Store_type</th>\n",
       "      <th>TransactionMonth</th>\n",
       "      <th>scaledControlSales</th>\n",
       "    </tr>\n",
       "  </thead>\n",
       "  <tbody>\n",
       "  </tbody>\n",
       "</table>\n",
       "</div>"
      ],
      "text/plain": [
       "Empty DataFrame\n",
       "Columns: [YEARMONTH, STORE_NBR, totSales, nCustomers, nTxnPerCust, nChipsPerTxn, total_units_sold, Store_type, TransactionMonth, scaledControlSales]\n",
       "Index: []"
      ]
     },
     "execution_count": 47,
     "metadata": {},
     "output_type": "execute_result"
    }
   ],
   "source": [
    "scaled_control_sales.head()"
   ]
  },
  {
   "cell_type": "code",
   "execution_count": 48,
   "id": "be732e8c",
   "metadata": {},
   "outputs": [
    {
     "data": {
      "text/html": [
       "<div>\n",
       "<style scoped>\n",
       "    .dataframe tbody tr th:only-of-type {\n",
       "        vertical-align: middle;\n",
       "    }\n",
       "\n",
       "    .dataframe tbody tr th {\n",
       "        vertical-align: top;\n",
       "    }\n",
       "\n",
       "    .dataframe thead th {\n",
       "        text-align: right;\n",
       "    }\n",
       "</style>\n",
       "<table border=\"1\" class=\"dataframe\">\n",
       "  <thead>\n",
       "    <tr style=\"text-align: right;\">\n",
       "      <th></th>\n",
       "      <th>YEARMONTH</th>\n",
       "      <th>STORE_NBR</th>\n",
       "      <th>totSales</th>\n",
       "      <th>nCustomers</th>\n",
       "      <th>nTxnPerCust</th>\n",
       "      <th>nChipsPerTxn</th>\n",
       "      <th>total_units_sold</th>\n",
       "      <th>Store_type</th>\n",
       "      <th>TransactionMonth</th>\n",
       "      <th>scaledControlSales</th>\n",
       "    </tr>\n",
       "  </thead>\n",
       "  <tbody>\n",
       "    <tr>\n",
       "      <th>82</th>\n",
       "      <td>201807</td>\n",
       "      <td>86</td>\n",
       "      <td>851.00</td>\n",
       "      <td>94</td>\n",
       "      <td>120</td>\n",
       "      <td>1.991667</td>\n",
       "      <td>239</td>\n",
       "      <td>Trial</td>\n",
       "      <td>2018-07-01</td>\n",
       "      <td>None</td>\n",
       "    </tr>\n",
       "    <tr>\n",
       "      <th>344</th>\n",
       "      <td>201808</td>\n",
       "      <td>86</td>\n",
       "      <td>726.85</td>\n",
       "      <td>92</td>\n",
       "      <td>106</td>\n",
       "      <td>1.915094</td>\n",
       "      <td>203</td>\n",
       "      <td>Trial</td>\n",
       "      <td>2018-08-01</td>\n",
       "      <td>None</td>\n",
       "    </tr>\n",
       "    <tr>\n",
       "      <th>609</th>\n",
       "      <td>201809</td>\n",
       "      <td>86</td>\n",
       "      <td>855.00</td>\n",
       "      <td>100</td>\n",
       "      <td>121</td>\n",
       "      <td>2.000000</td>\n",
       "      <td>242</td>\n",
       "      <td>Trial</td>\n",
       "      <td>2018-09-01</td>\n",
       "      <td>None</td>\n",
       "    </tr>\n",
       "    <tr>\n",
       "      <th>874</th>\n",
       "      <td>201810</td>\n",
       "      <td>86</td>\n",
       "      <td>898.80</td>\n",
       "      <td>105</td>\n",
       "      <td>130</td>\n",
       "      <td>2.000000</td>\n",
       "      <td>260</td>\n",
       "      <td>Trial</td>\n",
       "      <td>2018-10-01</td>\n",
       "      <td>None</td>\n",
       "    </tr>\n",
       "    <tr>\n",
       "      <th>1138</th>\n",
       "      <td>201811</td>\n",
       "      <td>86</td>\n",
       "      <td>851.20</td>\n",
       "      <td>95</td>\n",
       "      <td>119</td>\n",
       "      <td>2.000000</td>\n",
       "      <td>238</td>\n",
       "      <td>Trial</td>\n",
       "      <td>2018-11-01</td>\n",
       "      <td>None</td>\n",
       "    </tr>\n",
       "  </tbody>\n",
       "</table>\n",
       "</div>"
      ],
      "text/plain": [
       "      YEARMONTH  STORE_NBR  totSales  nCustomers  nTxnPerCust  nChipsPerTxn  \\\n",
       "82       201807         86    851.00          94          120      1.991667   \n",
       "344      201808         86    726.85          92          106      1.915094   \n",
       "609      201809         86    855.00         100          121      2.000000   \n",
       "874      201810         86    898.80         105          130      2.000000   \n",
       "1138     201811         86    851.20          95          119      2.000000   \n",
       "\n",
       "      total_units_sold Store_type TransactionMonth scaledControlSales  \n",
       "82                 239      Trial       2018-07-01               None  \n",
       "344                203      Trial       2018-08-01               None  \n",
       "609                242      Trial       2018-09-01               None  \n",
       "874                260      Trial       2018-10-01               None  \n",
       "1138               238      Trial       2018-11-01               None  "
      ]
     },
     "execution_count": 48,
     "metadata": {},
     "output_type": "execute_result"
    }
   ],
   "source": [
    "measureOverTimeSales.head()"
   ]
  },
  {
   "cell_type": "code",
   "execution_count": 49,
   "id": "35c88299",
   "metadata": {},
   "outputs": [
    {
     "data": {
      "text/plain": [
       "82      False\n",
       "344     False\n",
       "609     False\n",
       "874     False\n",
       "1138    False\n",
       "1402    False\n",
       "1664    False\n",
       "1927    False\n",
       "Name: STORE_NBR, dtype: bool"
      ]
     },
     "execution_count": 49,
     "metadata": {},
     "output_type": "execute_result"
    }
   ],
   "source": [
    "measureOverTimeSales['STORE_NBR'] == control_store"
   ]
  },
  {
   "cell_type": "code",
   "execution_count": 50,
   "id": "99e8cc74",
   "metadata": {},
   "outputs": [
    {
     "name": "stdout",
     "output_type": "stream",
     "text": [
      "int32\n",
      "int32\n"
     ]
    }
   ],
   "source": [
    "print(trial_sales['YEARMONTH'].dtype)\n",
    "print(scaled_control_sales['YEARMONTH'].dtype)\n"
   ]
  },
  {
   "cell_type": "code",
   "execution_count": 51,
   "id": "131a85a8",
   "metadata": {},
   "outputs": [
    {
     "name": "stdout",
     "output_type": "stream",
     "text": [
      "Empty DataFrame\n",
      "Columns: [YEARMONTH, STORE_NBR, totSales, nCustomers, nTxnPerCust, nChipsPerTxn, total_units_sold, Store_type, TransactionMonth, scaledControlSales]\n",
      "Index: []\n"
     ]
    }
   ],
   "source": [
    "print(measureOverTimeSales[measureOverTimeSales['STORE_NBR'] == control_store].head())\n"
   ]
  },
  {
   "cell_type": "code",
   "execution_count": 52,
   "id": "fffc258d",
   "metadata": {},
   "outputs": [
    {
     "name": "stdout",
     "output_type": "stream",
     "text": [
      "   YEARMONTH  totSales scaledControlSales\n",
      "0     201807    851.00                NaN\n",
      "1     201808    726.85                NaN\n",
      "2     201809    855.00                NaN\n",
      "3     201810    898.80                NaN\n",
      "4     201811    851.20                NaN\n"
     ]
    }
   ],
   "source": [
    "merged_sales = pd.merge(trial_sales[['YEARMONTH', 'totSales']], \n",
    "                        scaled_control_sales[['YEARMONTH', 'scaledControlSales']], \n",
    "                        on='YEARMONTH', \n",
    "                        how='outer')\n",
    "\n",
    "# Check the merged data\n",
    "print(merged_sales.head())\n"
   ]
  },
  {
   "cell_type": "code",
   "execution_count": 53,
   "id": "eab0d5cc",
   "metadata": {},
   "outputs": [
    {
     "name": "stdout",
     "output_type": "stream",
     "text": [
      "Scaling factor for control store sales: nan\n"
     ]
    }
   ],
   "source": [
    "total_sales_trial_store = pre_trial_measures[pre_trial_measures['STORE_NBR'] == trial_store & \n",
    "                                           (pre_trial_measures['YEARMONTH'] < 201902)]['totSales'].sum()\n",
    "\n",
    "total_sales_control_store = pre_trial_measures[pre_trial_measures['STORE_NBR'] == control_store & \n",
    "                                             (pre_trial_measures['YEARMONTH'] < 201902)]['totSales'].sum()\n",
    "\n",
    "scaling_factor_for_control_sales = total_sales_trial_store / total_sales_control_store\n",
    "\n",
    "print(f\"Scaling factor for control store sales: {scaling_factor_for_control_sales}\")\n"
   ]
  },
  {
   "cell_type": "code",
   "execution_count": 54,
   "id": "593ca742",
   "metadata": {},
   "outputs": [
    {
     "name": "stdout",
     "output_type": "stream",
     "text": [
      "Trial store pre-trial data:\n",
      "      YEARMONTH  totSales\n",
      "82       201807    851.00\n",
      "344      201808    726.85\n",
      "609      201809    855.00\n",
      "874      201810    898.80\n",
      "1138     201811    851.20\n",
      "1402     201812    812.20\n",
      "1664     201901    800.60\n",
      "Control store pre-trial data:\n",
      "      YEARMONTH  totSales\n",
      "78       201807     312.5\n",
      "341      201808     292.8\n",
      "606      201809     316.7\n",
      "871      201810     285.3\n",
      "1135     201811     321.3\n",
      "1399     201812     301.3\n",
      "1661     201901     340.5\n"
     ]
    }
   ],
   "source": [
    "# Check data for trial store in the pre-trial period\n",
    "trial_store_pre_trial = pre_trial_measures[(pre_trial_measures['STORE_NBR'] == trial_store) & \n",
    "                                         (pre_trial_measures['YEARMONTH'] < 201902)]\n",
    "print(f\"Trial store pre-trial data:\\n{trial_store_pre_trial[['YEARMONTH', 'totSales']]}\")\n",
    "\n",
    "# Check data for control store in the pre-trial period\n",
    "control_store_pre_trial = pre_trial_measures[(pre_trial_measures['STORE_NBR'] == control_store) & \n",
    "                                           (pre_trial_measures['YEARMONTH'] < 201902)]\n",
    "print(f\"Control store pre-trial data:\\n{control_store_pre_trial[['YEARMONTH', 'totSales']]}\")\n"
   ]
  },
  {
   "cell_type": "code",
   "execution_count": 55,
   "id": "619b074a",
   "metadata": {},
   "outputs": [
    {
     "name": "stdout",
     "output_type": "stream",
     "text": [
      "Missing trial store data:\n",
      "YEARMONTH          0\n",
      "STORE_NBR          0\n",
      "totSales           0\n",
      "nCustomers         0\n",
      "nTxnPerCust        0\n",
      "nChipsPerTxn       0\n",
      "avgPricePerUnit    0\n",
      "dtype: int64\n",
      "Missing control store data:\n",
      "YEARMONTH          0\n",
      "STORE_NBR          0\n",
      "totSales           0\n",
      "nCustomers         0\n",
      "nTxnPerCust        0\n",
      "nChipsPerTxn       0\n",
      "avgPricePerUnit    0\n",
      "dtype: int64\n"
     ]
    }
   ],
   "source": [
    "print(f\"Missing trial store data:\\n{trial_store_pre_trial.isna().sum()}\")\n",
    "print(f\"Missing control store data:\\n{control_store_pre_trial.isna().sum()}\")\n"
   ]
  },
  {
   "cell_type": "code",
   "execution_count": 56,
   "id": "277b1d5d",
   "metadata": {},
   "outputs": [
    {
     "name": "stdout",
     "output_type": "stream",
     "text": [
      "Data types of trial store data:\n",
      "YEARMONTH            int32\n",
      "STORE_NBR            int64\n",
      "totSales           float64\n",
      "nCustomers           int64\n",
      "nTxnPerCust        float64\n",
      "nChipsPerTxn       float64\n",
      "avgPricePerUnit    float64\n",
      "dtype: object\n",
      "Data types of control store data:\n",
      "YEARMONTH            int32\n",
      "STORE_NBR            int64\n",
      "totSales           float64\n",
      "nCustomers           int64\n",
      "nTxnPerCust        float64\n",
      "nChipsPerTxn       float64\n",
      "avgPricePerUnit    float64\n",
      "dtype: object\n"
     ]
    }
   ],
   "source": [
    "print(f\"Data types of trial store data:\\n{trial_store_pre_trial.dtypes}\")\n",
    "print(f\"Data types of control store data:\\n{control_store_pre_trial.dtypes}\")\n"
   ]
  },
  {
   "cell_type": "code",
   "execution_count": 57,
   "id": "cc840ee4",
   "metadata": {},
   "outputs": [
    {
     "name": "stdout",
     "output_type": "stream",
     "text": [
      "Scaling factor for control store sales: 2.670314227792112\n"
     ]
    }
   ],
   "source": [
    "# If valid, calculate the scaling factor\n",
    "if not trial_store_pre_trial.empty and not control_store_pre_trial.empty:\n",
    "    total_sales_trial_store = trial_store_pre_trial['totSales'].sum()\n",
    "    total_sales_control_store = control_store_pre_trial['totSales'].sum()\n",
    "\n",
    "    scaling_factor_for_control_sales = total_sales_trial_store / total_sales_control_store\n",
    "    print(f\"Scaling factor for control store sales: {scaling_factor_for_control_sales}\")\n",
    "else:\n",
    "    print(\"Pre-trial data is missing for either trial or control store.\")\n"
   ]
  },
  {
   "cell_type": "code",
   "execution_count": 58,
   "id": "6e87f90a",
   "metadata": {},
   "outputs": [
    {
     "name": "stdout",
     "output_type": "stream",
     "text": [
      "      YEARMONTH  STORE_NBR  totSales  scaledControlSales\n",
      "82       201807         86    851.00              851.00\n",
      "344      201808         86    726.85              726.85\n",
      "609      201809         86    855.00              855.00\n",
      "874      201810         86    898.80              898.80\n",
      "1138     201811         86    851.20              851.20\n"
     ]
    }
   ],
   "source": [
    "# Apply the scaling factor to control store sales\n",
    "measureOverTimeSales = measureOverTime.copy()  # Create a copy of the original data\n",
    "measureOverTimeSales['scaledControlSales'] = measureOverTimeSales.apply(\n",
    "    lambda row: row['totSales'] * scaling_factor_for_control_sales if row['STORE_NBR'] == control_store else row['totSales'], \n",
    "    axis=1\n",
    ")\n",
    "\n",
    "# Verify the scaled sales\n",
    "print(measureOverTimeSales[['YEARMONTH', 'STORE_NBR', 'totSales', 'scaledControlSales']].head())\n"
   ]
  },
  {
   "cell_type": "code",
   "execution_count": 59,
   "id": "c46c6329",
   "metadata": {},
   "outputs": [
    {
     "name": "stdout",
     "output_type": "stream",
     "text": [
      "Empty DataFrame\n",
      "Columns: [YEARMONTH, totSales, scaledControlSales, percentageDiff]\n",
      "Index: []\n"
     ]
    }
   ],
   "source": [
    "# Filter out the trial and control store data\n",
    "trial_store_sales = measureOverTimeSales[measureOverTimeSales['STORE_NBR'] == trial_store][['YEARMONTH', 'totSales']]\n",
    "scaled_control_store_sales = measureOverTimeSales[measureOverTimeSales['STORE_NBR'] == control_store][['YEARMONTH', 'scaledControlSales']]\n",
    "\n",
    "# Merge the dataframes on YEARMONTH to align trial and control sales\n",
    "merged_sales = pd.merge(trial_store_sales, scaled_control_store_sales, on='YEARMONTH', how='inner')\n",
    "\n",
    "# Calculate the percentage difference\n",
    "merged_sales['percentageDiff'] = abs(merged_sales['totSales'] - merged_sales['scaledControlSales']) / merged_sales['scaledControlSales'] * 100\n",
    "\n",
    "# View the result\n",
    "print(merged_sales[['YEARMONTH', 'totSales', 'scaledControlSales', 'percentageDiff']])\n"
   ]
  },
  {
   "cell_type": "code",
   "execution_count": 60,
   "id": "99968902",
   "metadata": {},
   "outputs": [
    {
     "name": "stdout",
     "output_type": "stream",
     "text": [
      "YEARMONTH in measureOverTimeSales:  [201807 201808 201809 201810 201811 201812 201901 201902 201903 201904\n",
      " 201905 201906]\n",
      "YEARMONTH in scaledControlSales:  []\n",
      "Common YEARMONTH values:  set()\n"
     ]
    }
   ],
   "source": [
    "# Check unique YEARMONTH values in both DataFrames\n",
    "print(\"YEARMONTH in measureOverTimeSales: \", measureOverTimeSales['YEARMONTH'].unique())\n",
    "print(\"YEARMONTH in scaledControlSales: \", scaled_control_store_sales['YEARMONTH'].unique())\n",
    "\n",
    "# Find the intersection\n",
    "common_yearmonths = set(measureOverTimeSales['YEARMONTH']).intersection(set(scaled_control_store_sales['YEARMONTH']))\n",
    "print(\"Common YEARMONTH values: \", common_yearmonths)\n"
   ]
  },
  {
   "cell_type": "markdown",
   "id": "8180d460",
   "metadata": {},
   "source": [
    "There are no common YEARMONTH values between measureOverTimeSales and scaledControlSales"
   ]
  },
  {
   "cell_type": "code",
   "execution_count": 61,
   "id": "c0055f3f",
   "metadata": {},
   "outputs": [],
   "source": [
    "# Add a Store_type column for trial and control stores\n",
    "measureOverTimeSales['Store_type'] = np.where(measureOverTimeSales['STORE_NBR'] == trial_store, 'Trial', 'Control')\n",
    "\n",
    "# Group sales by store type and month (summing sales within each group)\n",
    "pastSales = measureOverTimeSales.groupby(['YEARMONTH', 'Store_type']).agg(totSales=('totSales', 'sum')).reset_index()\n",
    "\n",
    "# Add a transaction month column\n",
    "pastSales['TransactionMonth'] = pastSales['YEARMONTH']\n"
   ]
  },
  {
   "cell_type": "code",
   "execution_count": 62,
   "id": "ddc8bc45",
   "metadata": {},
   "outputs": [],
   "source": [
    "# Calculate the 95th percentile for control store sales\n",
    "pastSales_Controls95 = pastSales[pastSales['Store_type'] == 'Control'].copy()\n",
    "pastSales_Controls95['totSales'] = pastSales_Controls95['totSales'] * (1 + 2 * stdDev)\n",
    "pastSales_Controls95['Store_type'] = 'Control 95th % confidence interval'\n",
    "\n",
    "# Calculate the 5th percentile for control store sales\n",
    "pastSales_Controls5 = pastSales[pastSales['Store_type'] == 'Control'].copy()\n",
    "pastSales_Controls5['totSales'] = pastSales_Controls5['totSales'] * (1 - 2 * stdDev)\n",
    "pastSales_Controls5['Store_type'] = 'Control 5th % confidence interval'\n"
   ]
  },
  {
   "cell_type": "code",
   "execution_count": 63,
   "id": "50dd8891",
   "metadata": {},
   "outputs": [],
   "source": [
    "# Convert YEARMONTH into a datetime format (assuming YEARMONTH is in 'YYYYMM' format)\n",
    "measureOverTimeSales['TransactionMonth'] = pd.to_datetime(measureOverTimeSales['YEARMONTH'].astype(str) + '01', format='%Y%m%d')\n",
    "\n",
    "# Add a Store_type column for trial and control stores\n",
    "measureOverTimeSales['Store_type'] = np.where(measureOverTimeSales['STORE_NBR'] == trial_store, 'Trial', 'Control')\n",
    "\n",
    "# Group sales by store type and month (summing sales within each group)\n",
    "pastSales = measureOverTimeSales.groupby(['TransactionMonth', 'Store_type']).agg(totSales=('totSales', 'sum')).reset_index()\n"
   ]
  },
  {
   "cell_type": "code",
   "execution_count": 64,
   "id": "76e5601d",
   "metadata": {},
   "outputs": [],
   "source": [
    "# Calculate the 95th percentile for control store sales\n",
    "pastSales_Controls95 = pastSales[pastSales['Store_type'] == 'Control'].copy()\n",
    "pastSales_Controls95['totSales'] = pastSales_Controls95['totSales'] * (1 + 2 * stdDev)\n",
    "pastSales_Controls95['Store_type'] = 'Control 95th % confidence interval'\n",
    "\n",
    "# Calculate the 5th percentile for control store sales\n",
    "pastSales_Controls5 = pastSales[pastSales['Store_type'] == 'Control'].copy()\n",
    "pastSales_Controls5['totSales'] = pastSales_Controls5['totSales'] * (1 - 2 * stdDev)\n",
    "pastSales_Controls5['Store_type'] = 'Control 5th % confidence interval'\n"
   ]
  },
  {
   "cell_type": "code",
   "execution_count": 65,
   "id": "de1add58",
   "metadata": {},
   "outputs": [
    {
     "data": {
      "image/png": "[encoded data removed]",
      "text/plain": [
       "<Figure size 720x432 with 1 Axes>"
      ]
     },
     "metadata": {
      "needs_background": "light"
     },
     "output_type": "display_data"
    }
   ],
   "source": [
    "trialAssessment = pd.concat([pastSales, pastSales_Controls95, pastSales_Controls5])\n",
    "\n",
    "plt.figure(figsize=(10,6))\n",
    "\n",
    "# Plot the sales for each store type over time\n",
    "sns.lineplot(data=trialAssessment, x='TransactionMonth', y='totSales', hue='Store_type')\n",
    "\n",
    "plt.title('Sales Comparison: Trial Store vs Control Store (with Confidence Intervals)')\n",
    "plt.xlabel('Transaction Month')\n",
    "plt.ylabel('Total Sales')\n",
    "plt.xticks(rotation=45)\n",
    "plt.show()"
   ]
  },
  {
   "cell_type": "code",
   "execution_count": 66,
   "id": "ba51cdb1",
   "metadata": {},
   "outputs": [],
   "source": [
    "# Combine pastSales, pastSales_Controls95, and pastSales_Controls5 into one DataFrame\n",
    "trialAssessment = pd.concat([pastSales, pastSales_Controls95, pastSales_Controls5])\n"
   ]
  },
  {
   "cell_type": "code",
   "execution_count": 67,
   "id": "c31c1144",
   "metadata": {},
   "outputs": [
    {
     "data": {
      "image/png": "[encoded data removed]",
      "text/plain": [
       "<Figure size 720x432 with 1 Axes>"
      ]
     },
     "metadata": {
      "needs_background": "light"
     },
     "output_type": "display_data"
    }
   ],
   "source": [
    "plt.figure(figsize=(10,6))\n",
    "\n",
    "# Plot the total sales with line styles differentiating the store types\n",
    "sns.lineplot(data=trialAssessment, x='TransactionMonth', y='totSales', hue='Store_type', style='Store_type')\n",
    "\n",
    "# Shade the trial period (e.g., between February 2019 and April 2019)\n",
    "plt.axvspan(pd.to_datetime(\"2019-02-01\"), pd.to_datetime(\"2019-04-30\"), color='grey', alpha=0.3, label='Trial Period')\n",
    "\n",
    "# Add labels and title\n",
    "plt.title('Total Sales by Month for Trial and Control Stores (with Confidence Intervals)')\n",
    "plt.xlabel('Month of Operation')\n",
    "plt.ylabel('Total Sales')\n",
    "plt.xticks(rotation=45)\n",
    "\n",
    "# Display the legend and plot\n",
    "plt.legend()\n",
    "plt.show()"
   ]
  },
  {
   "cell_type": "code",
   "execution_count": 68,
   "id": "cdbe7bb7",
   "metadata": {},
   "outputs": [
    {
     "name": "stdout",
     "output_type": "stream",
     "text": [
      "Scaling factor for control store customers: 2.2644067796610168\n"
     ]
    }
   ],
   "source": [
    "# Calculate scaling factor for customers between trial and control store\n",
    "scalingFactorForControlCust = pre_trial_measures[(pre_trial_measures['STORE_NBR'] == trial_store) & \n",
    "                                               (pre_trial_measures['YEARMONTH'] < 201902)]['nCustomers'].sum() / \\\n",
    "                              pre_trial_measures[(pre_trial_measures['STORE_NBR'] == control_store) & \n",
    "                                               (pre_trial_measures['YEARMONTH'] < 201902)]['nCustomers'].sum()\n",
    "\n",
    "print(f\"Scaling factor for control store customers: {scalingFactorForControlCust}\")\n"
   ]
  },
  {
   "cell_type": "code",
   "execution_count": 69,
   "id": "26fc9b5f",
   "metadata": {},
   "outputs": [],
   "source": [
    "# Apply the scaling factor to control store customers\n",
    "measureOverTimeCusts['controlCustomers'] = measureOverTimeCusts.loc[measureOverTimeCusts['STORE_NBR'] == control_store, 'nCustomers'] * scalingFactorForControlCust\n",
    "\n",
    "# Assign store types for Trial and Control stores\n",
    "measureOverTimeCusts['Store_type'] = measureOverTimeCusts['STORE_NBR'].apply(\n",
    "    lambda x: 'Trial' if x == trial_store else 'Control' if x == control_store else 'Other stores'\n",
    ")\n"
   ]
  },
  {
   "cell_type": "code",
   "execution_count": 70,
   "id": "899fea68",
   "metadata": {},
   "outputs": [
    {
     "name": "stdout",
     "output_type": "stream",
     "text": [
      "      YEARMONTH  controlCustomers  nCustomers  percentageDiff\n",
      "0        201807               NaN          94             NaN\n",
      "1        201807               NaN          94             NaN\n",
      "2        201807               NaN          94             NaN\n",
      "3        201807               NaN          94             NaN\n",
      "4        201807               NaN          94             NaN\n",
      "...         ...               ...         ...             ...\n",
      "3160     201906               NaN          92             NaN\n",
      "3161     201906               NaN          92             NaN\n",
      "3162     201906               NaN          92             NaN\n",
      "3163     201906               NaN          92             NaN\n",
      "3164     201906               NaN          92             NaN\n",
      "\n",
      "[3165 rows x 4 columns]\n"
     ]
    }
   ],
   "source": [
    "# Merge scaled control customers and trial store customers\n",
    "percentageDiff = pd.merge(\n",
    "    measureOverTimeCusts[['YEARMONTH', 'controlCustomers']], \n",
    "    measureOverTime[measureOverTime['STORE_NBR'] == trial_store][['nCustomers', 'YEARMONTH']], \n",
    "    on=\"YEARMONTH\"\n",
    ")\n",
    "\n",
    "# Calculate the percentage difference\n",
    "percentageDiff['percentageDiff'] = abs(percentageDiff['controlCustomers'] - percentageDiff['nCustomers']) / percentageDiff['controlCustomers']\n",
    "\n",
    "# Check the output\n",
    "print(percentageDiff)\n"
   ]
  },
  {
   "cell_type": "code",
   "execution_count": 71,
   "id": "5e9e8e6a",
   "metadata": {},
   "outputs": [
    {
     "data": {
      "image/png": "[encoded data removed]",
      "text/plain": [
       "<Figure size 720x432 with 1 Axes>"
      ]
     },
     "metadata": {
      "needs_background": "light"
     },
     "output_type": "display_data"
    }
   ],
   "source": [
    "plt.figure(figsize=(10,6))\n",
    "sns.lineplot(data=percentageDiff, x='YEARMONTH', y='percentageDiff')\n",
    "plt.title('Percentage Difference Between Trial and Control Customers Over Time')\n",
    "plt.xlabel('Year-Month')\n",
    "plt.ylabel('Percentage Difference')\n",
    "plt.xticks(rotation=45)\n",
    "plt.show()"
   ]
  },
  {
   "cell_type": "code",
   "execution_count": 72,
   "id": "ecd4560e",
   "metadata": {},
   "outputs": [],
   "source": [
    "# Calculate the average number of customers by YEARMONTH and Store_type\n",
    "pastCustomers = measureOverTimeCusts.groupby(['YEARMONTH', 'Store_type']).agg(\n",
    "    nCusts=('nCustomers', 'mean')\n",
    ").reset_index()\n",
    "\n",
    "# Filter to include only 'Trial' and 'Control' stores\n",
    "pastCustomers = pastCustomers[pastCustomers['Store_type'].isin(['Trial', 'Control'])]\n"
   ]
  },
  {
   "cell_type": "code",
   "execution_count": 73,
   "id": "73b7d6fe",
   "metadata": {},
   "outputs": [],
   "source": [
    "# Define a function to calculate percentiles\n",
    "def calculate_percentiles(df, stdDev, multiplier):\n",
    "    return df.copy().assign(\n",
    "        nCusts=df['nCusts'] * (1 + stdDev * multiplier)\n",
    "    ).assign(\n",
    "        Store_type=\"Control {} % confidence interval\".format(\"95th\" if multiplier > 0 else \"5th\")\n",
    "    )\n",
    "\n",
    "# Calculate the 95th percentile for control store customers\n",
    "pastCustomers_Controls95 = calculate_percentiles(\n",
    "    pastCustomers[pastCustomers['Store_type'] == 'Control'],\n",
    "    stdDev,\n",
    "    2\n",
    ")\n",
    "\n",
    "# Calculate the 5th percentile for control store customers\n",
    "pastCustomers_Controls5 = calculate_percentiles(\n",
    "    pastCustomers[pastCustomers['Store_type'] == 'Control'],\n",
    "    stdDev,\n",
    "    -2\n",
    ")\n",
    "\n",
    "# Combine pastCustomers with percentiles\n",
    "trialAssessment = pd.concat([pastCustomers, pastCustomers_Controls95, pastCustomers_Controls5])\n"
   ]
  },
  {
   "cell_type": "code",
   "execution_count": 74,
   "id": "738fe561",
   "metadata": {},
   "outputs": [
    {
     "data": {
      "image/png": "[encoded data removed]",
      "text/plain": [
       "<Figure size 1008x576 with 1 Axes>"
      ]
     },
     "metadata": {},
     "output_type": "display_data"
    }
   ],
   "source": [
    "sns.set(style=\"whitegrid\")\n",
    "\n",
    "# Convert YEARMONTH to a datetime format for better plotting\n",
    "trialAssessment['TransactionMonth'] = pd.to_datetime(trialAssessment['YEARMONTH'].astype(str) + '01', format='%Y%m%d')\n",
    "\n",
    "# Initialize the matplotlib figure\n",
    "plt.figure(figsize=(14, 8))\n",
    "\n",
    "# Plot the total number of customers by month\n",
    "sns.lineplot(data=trialAssessment, x='TransactionMonth', y='nCusts', hue='Store_type')\n",
    "\n",
    "# Add shaded region for trial period\n",
    "plt.axvspan(pd.Timestamp('2019-02-01'), pd.Timestamp('2019-05-01'), color='grey', alpha=0.2)\n",
    "\n",
    "# Set labels and title\n",
    "plt.xlabel(\"Month of Operation\")\n",
    "plt.ylabel(\"Total Number of Customers\")\n",
    "plt.title(\"Total Number of Customers by Month\")\n",
    "\n",
    "# Show legend\n",
    "plt.legend(title='Store Type')\n",
    "\n",
    "# Show plot\n",
    "plt.show()"
   ]
  },
  {
   "cell_type": "code",
   "execution_count": 75,
   "id": "aa830d57",
   "metadata": {},
   "outputs": [
    {
     "data": {
      "text/html": [
       "<div>\n",
       "<style scoped>\n",
       "    .dataframe tbody tr th:only-of-type {\n",
       "        vertical-align: middle;\n",
       "    }\n",
       "\n",
       "    .dataframe tbody tr th {\n",
       "        vertical-align: top;\n",
       "    }\n",
       "\n",
       "    .dataframe thead th {\n",
       "        text-align: right;\n",
       "    }\n",
       "</style>\n",
       "<table border=\"1\" class=\"dataframe\">\n",
       "  <thead>\n",
       "    <tr style=\"text-align: right;\">\n",
       "      <th></th>\n",
       "      <th>YEARMONTH</th>\n",
       "      <th>Store_type</th>\n",
       "      <th>nCusts</th>\n",
       "      <th>TransactionMonth</th>\n",
       "    </tr>\n",
       "  </thead>\n",
       "  <tbody>\n",
       "    <tr>\n",
       "      <th>0</th>\n",
       "      <td>201807</td>\n",
       "      <td>Control</td>\n",
       "      <td>42.0</td>\n",
       "      <td>2018-07-01</td>\n",
       "    </tr>\n",
       "    <tr>\n",
       "      <th>2</th>\n",
       "      <td>201807</td>\n",
       "      <td>Trial</td>\n",
       "      <td>94.0</td>\n",
       "      <td>2018-07-01</td>\n",
       "    </tr>\n",
       "    <tr>\n",
       "      <th>3</th>\n",
       "      <td>201808</td>\n",
       "      <td>Control</td>\n",
       "      <td>37.0</td>\n",
       "      <td>2018-08-01</td>\n",
       "    </tr>\n",
       "    <tr>\n",
       "      <th>5</th>\n",
       "      <td>201808</td>\n",
       "      <td>Trial</td>\n",
       "      <td>92.0</td>\n",
       "      <td>2018-08-01</td>\n",
       "    </tr>\n",
       "    <tr>\n",
       "      <th>6</th>\n",
       "      <td>201809</td>\n",
       "      <td>Control</td>\n",
       "      <td>42.0</td>\n",
       "      <td>2018-09-01</td>\n",
       "    </tr>\n",
       "  </tbody>\n",
       "</table>\n",
       "</div>"
      ],
      "text/plain": [
       "   YEARMONTH Store_type  nCusts TransactionMonth\n",
       "0     201807    Control    42.0       2018-07-01\n",
       "2     201807      Trial    94.0       2018-07-01\n",
       "3     201808    Control    37.0       2018-08-01\n",
       "5     201808      Trial    92.0       2018-08-01\n",
       "6     201809    Control    42.0       2018-09-01"
      ]
     },
     "execution_count": 75,
     "metadata": {},
     "output_type": "execute_result"
    }
   ],
   "source": [
    "trialAssessment.head()"
   ]
  },
  {
   "cell_type": "code",
   "execution_count": 76,
   "id": "64b3ab45",
   "metadata": {},
   "outputs": [
    {
     "data": {
      "text/plain": [
       "<Axes: xlabel='Store_type', ylabel='nCusts'>"
      ]
     },
     "execution_count": 76,
     "metadata": {},
     "output_type": "execute_result"
    },
    {
     "data": {
      "image/png": "[encoded data removed]",
      "text/plain": [
       "<Figure size 1008x576 with 1 Axes>"
      ]
     },
     "metadata": {},
     "output_type": "display_data"
    }
   ],
   "source": [
    "plt.figure(figsize=(14,8))\n",
    "sns.barplot(data=trialAssessment,x='Store_type',y='nCusts')"
   ]
  },
  {
   "cell_type": "code",
   "execution_count": 77,
   "id": "a104142f",
   "metadata": {},
   "outputs": [],
   "source": [
    "# Filter data for trial store 88\n",
    "trial_store = 88\n",
    "measureOverTime = df[df['STORE_NBR'] == trial_store].copy()\n",
    "\n",
    "# Aggregate metrics\n",
    "measureOverTime = (df.groupby(['YEARMONTH', 'STORE_NBR']).agg(\n",
    "    totSales=('TOT_SALES', 'sum'),                                # Total sales\n",
    "    nCustomers=('LYLTY_CARD_NBR', pd.Series.nunique),             # Number of unique customers\n",
    "    nTxnPerCust=('TXN_ID', 'count'),                              # Number of transactions per store/month\n",
    "    nChipsPerTxn=('PROD_QTY', 'mean'),                            # Average quantity of chips per transaction\n",
    "    total_units_sold=('PROD_QTY', 'sum')                          # Total number of units sold\n",
    "    ).reset_index()\n",
    "    .sort_values(by=['YEARMONTH', 'STORE_NBR']))\n",
    "\n",
    "# Filter to include only trial store data\n",
    "measureOverTime = measureOverTime[measureOverTime['STORE_NBR'] == trial_store]\n"
   ]
  },
  {
   "cell_type": "code",
   "execution_count": 82,
   "id": "01e2a1df",
   "metadata": {},
   "outputs": [
    {
     "name": "stdout",
     "output_type": "stream",
     "text": [
      "totSales      0\n",
      "nCustomers    0\n",
      "dtype: int64\n"
     ]
    }
   ],
   "source": [
    "print(measureOverTime[['totSales', 'nCustomers']].isnull().sum())"
   ]
  },
  {
   "cell_type": "code",
   "execution_count": 85,
   "id": "4d96e1a0",
   "metadata": {},
   "outputs": [],
   "source": [
    "def calculate_correlations(trial_store, control_stores, measureOverTime):\n",
    "    corr_nSales = {}\n",
    "    corr_nCustomers = {}\n",
    "    \n",
    "    for control_store in control_stores:\n",
    "        trial_store_data = measureOverTime[measureOverTime['STORE_NBR'] == trial_store].set_index('YEARMONTH')\n",
    "        control_store_data = measureOverTime[measureOverTime['STORE_NBR'] == control_store].set_index('YEARMONTH')\n",
    "\n",
    "        # Ensure data is aligned by YEARMONTH before calculating correlation\n",
    "        merged_data = trial_store_data.join(control_store_data, lsuffix='_trial', rsuffix='_control')\n",
    "\n",
    "        # Calculate correlation for total sales\n",
    "        corr_nSales[control_store] = merged_data['totSales_trial'].corr(merged_data['totSales_control'])\n",
    "\n",
    "        # Calculate correlation for number of customers\n",
    "        corr_nCustomers[control_store] = merged_data['nCustomers_trial'].corr(merged_data['nCustomers_control'])\n",
    "\n",
    "    return corr_nSales, corr_nCustomers\n"
   ]
  },
  {
   "cell_type": "code",
   "execution_count": 87,
   "id": "e2b8a5fe",
   "metadata": {},
   "outputs": [],
   "source": [
    "def calculate_magnitudes(trial_store, control_stores, measureOverTime):\n",
    "    magnitude_nSales = {}\n",
    "    magnitude_nCustomers = {}\n",
    "\n",
    "    for control_store in control_stores:\n",
    "        trial_store_data = measureOverTime[measureOverTime['STORE_NBR'] == trial_store].set_index('YEARMONTH')\n",
    "        control_store_data = measureOverTime[measureOverTime['STORE_NBR'] == control_store].set_index('YEARMONTH')\n",
    "\n",
    "        # Calculate magnitude difference for total sales\n",
    "        avg_trial_sales = trial_store_data['totSales'].mean()\n",
    "        avg_control_sales = control_store_data['totSales'].mean()\n",
    "        magnitude_nSales[control_store] = abs(avg_trial_sales - avg_control_sales) / avg_trial_sales\n",
    "\n",
    "        # Calculate magnitude difference for number of customers\n",
    "        avg_trial_customers = trial_store_data['nCustomers'].mean()\n",
    "        avg_control_customers = control_store_data['nCustomers'].mean()\n",
    "        magnitude_nCustomers[control_store] = abs(avg_trial_customers - avg_control_customers) / avg_trial_customers\n",
    "\n",
    "    return magnitude_nSales, magnitude_nCustomers\n"
   ]
  },
  {
   "cell_type": "code",
   "execution_count": 86,
   "id": "25114a99",
   "metadata": {},
   "outputs": [],
   "source": [
    "def calculate_combined_score(corr_nSales, corr_nCustomers, magnitude_nSales, magnitude_nCustomers, corr_weight=0.5):\n",
    "    score_nSales = {}\n",
    "    score_nCustomers = {}\n",
    "    score_Control = {}\n",
    "\n",
    "    for control_store in corr_nSales.keys():\n",
    "        # Calculate scores for sales and customers\n",
    "        score_nSales[control_store] = corr_weight * corr_nSales[control_store] + (1 - corr_weight) * (1 - magnitude_nSales[control_store])\n",
    "        score_nCustomers[control_store] = corr_weight * corr_nCustomers[control_store] + (1 - corr_weight) * (1 - magnitude_nCustomers[control_store])\n",
    "\n",
    "        # Combine the scores into a final control score\n",
    "        score_Control[control_store] = (score_nSales[control_store] + score_nCustomers[control_store]) / 2\n",
    "\n",
    "    return score_Control\n"
   ]
  },
  {
   "cell_type": "code",
   "execution_count": 90,
   "id": "62e6310e",
   "metadata": {},
   "outputs": [],
   "source": [
    "def select_control_store(trial_store, score_Control):\n",
    "    # Sort stores by their score in descending order (highest score first)\n",
    "    sorted_stores = sorted(score_Control.items(), key=lambda x: x[1], reverse=True)\n",
    "    \n",
    "    # Iterate over sorted stores to find the best control store (ignoring the trial store itself)\n",
    "    for store, score in sorted_stores:\n",
    "        if store != trial_store:  # Exclude the trial store itself\n",
    "            return store  # Return the best control store\n",
    "    \n",
    "    return None  # If no valid control store is found\n"
   ]
  },
  {
   "cell_type": "code",
   "execution_count": 91,
   "id": "35f5655a",
   "metadata": {},
   "outputs": [
    {
     "name": "stdout",
     "output_type": "stream",
     "text": [
      "The best control store for trial store 88 is None\n"
     ]
    }
   ],
   "source": [
    "trial_store = 88\n",
    "control_stores = measureOverTime['STORE_NBR'].unique()\n",
    "\n",
    "# Step 1: Calculate correlations\n",
    "corr_nSales, corr_nCustomers = calculate_correlations(trial_store, control_stores, measureOverTime)\n",
    "\n",
    "# Step 2: Calculate magnitude\n",
    "magnitude_nSales, magnitude_nCustomers = calculate_magnitudes(trial_store, control_stores, measureOverTime)\n",
    "\n",
    "# Step 3: Calculate combined score\n",
    "score_Control = calculate_combined_score(corr_nSales, corr_nCustomers, magnitude_nSales, magnitude_nCustomers)\n",
    "\n",
    "# Step 4: Select the best control store\n",
    "control_store = select_control_store(trial_store, score_Control)\n",
    "\n",
    "print(f\"The best control store for trial store {trial_store} is {control_store}\")\n"
   ]
  },
  {
   "cell_type": "code",
   "execution_count": 92,
   "id": "2b0fa675",
   "metadata": {},
   "outputs": [
    {
     "name": "stdout",
     "output_type": "stream",
     "text": [
      "Final control scores:\n",
      "Store 88: 1.0\n",
      "The best control store for trial store 88 is None\n"
     ]
    }
   ],
   "source": [
    "# Print the final scores for all stores\n",
    "print(\"Final control scores:\")\n",
    "for store, score in score_Control.items():\n",
    "    print(f\"Store {store}: {score}\")\n",
    "\n",
    "# Now select the control store\n",
    "control_store = select_control_store(trial_store, score_Control)\n",
    "print(f\"The best control store for trial store {trial_store} is {control_store}\")\n"
   ]
  },
  {
   "cell_type": "code",
   "execution_count": 93,
   "id": "77d94566",
   "metadata": {},
   "outputs": [
    {
     "name": "stdout",
     "output_type": "stream",
     "text": [
      "Empty DataFrame\n",
      "Columns: [YEARMONTH, STORE_NBR, totSales, nCustomers, nTxnPerCust, nChipsPerTxn, total_units_sold]\n",
      "Index: []\n"
     ]
    }
   ],
   "source": [
    "print(measureOverTime[measureOverTime['STORE_NBR'] == 237])\n"
   ]
  },
  {
   "cell_type": "code",
   "execution_count": 94,
   "id": "9e617d13",
   "metadata": {},
   "outputs": [
    {
     "name": "stdout",
     "output_type": "stream",
     "text": [
      "Store 237 is not in the control scores.\n"
     ]
    }
   ],
   "source": [
    "if 237 in score_Control:\n",
    "    print(f\"Store 237 score: {score_Control[237]}\")\n",
    "else:\n",
    "    print(\"Store 237 is not in the control scores.\")\n"
   ]
  },
  {
   "cell_type": "code",
   "execution_count": 95,
   "id": "c9d484fb",
   "metadata": {},
   "outputs": [
    {
     "name": "stdout",
     "output_type": "stream",
     "text": [
      "Stores with correlation scores: dict_keys([88])\n",
      "Stores with magnitude scores: dict_keys([88])\n",
      "Store 237 is not in the correlation scores.\n",
      "Store 237 is not in the magnitude scores.\n"
     ]
    }
   ],
   "source": [
    "# Check if store 237 is present in correlation and magnitude scores\n",
    "print(\"Stores with correlation scores:\", corr_nSales.keys())\n",
    "print(\"Stores with magnitude scores:\", magnitude_nSales.keys())\n",
    "\n",
    "# Specifically check for store 237\n",
    "if 237 in corr_nSales:\n",
    "    print(f\"Store 237 correlation score: {corr_nSales[237]}\")\n",
    "else:\n",
    "    print(\"Store 237 is not in the correlation scores.\")\n",
    "\n",
    "if 237 in magnitude_nSales:\n",
    "    print(f\"Store 237 magnitude score: {magnitude_nSales[237]}\")\n",
    "else:\n",
    "    print(\"Store 237 is not in the magnitude scores.\")\n"
   ]
  },
  {
   "cell_type": "code",
   "execution_count": 96,
   "id": "fcd58891",
   "metadata": {},
   "outputs": [
    {
     "name": "stdout",
     "output_type": "stream",
     "text": [
      "    corr_nSales  magnitude_nSales  corr_nCustomers  magnitude_nCustomers  \\\n",
      "88          1.0               0.0              1.0                   0.0   \n",
      "\n",
      "    finalControlScore  \n",
      "88                0.5  \n"
     ]
    }
   ],
   "source": [
    "# Recalculate the final control scores\n",
    "score_nSales = pd.DataFrame.from_dict(corr_nSales, orient='index', columns=['corr_nSales'])\n",
    "score_nCustomers = pd.DataFrame.from_dict(corr_nCustomers, orient='index', columns=['corr_nCustomers'])\n",
    "magnitude_nSales_df = pd.DataFrame.from_dict(magnitude_nSales, orient='index', columns=['magnitude_nSales'])\n",
    "magnitude_nCustomers_df = pd.DataFrame.from_dict(magnitude_nCustomers, orient='index', columns=['magnitude_nCustomers'])\n",
    "\n",
    "# Combine scores\n",
    "score_Control = score_nSales.join(magnitude_nSales_df).join(score_nCustomers).join(magnitude_nCustomers_df)\n",
    "\n",
    "# Calculate final score\n",
    "score_Control['finalControlScore'] = (corr_weight * score_Control['corr_nSales'] + (1 - corr_weight) * score_Control['magnitude_nSales'] +\n",
    "                                      corr_weight * score_Control['corr_nCustomers'] + (1 - corr_weight) * score_Control['magnitude_nCustomers']) / 2\n",
    "\n",
    "print(score_Control)\n"
   ]
  },
  {
   "cell_type": "code",
   "execution_count": 97,
   "id": "4943e9ce",
   "metadata": {},
   "outputs": [
    {
     "name": "stdout",
     "output_type": "stream",
     "text": [
      "The best control store for trial store 88 is None\n"
     ]
    }
   ],
   "source": [
    "control_store = select_control_store(trial_store, score_Control.to_dict()['finalControlScore'])\n",
    "print(f\"The best control store for trial store {trial_store} is {control_store}\")\n"
   ]
  },
  {
   "cell_type": "markdown",
   "id": "d10ca99b",
   "metadata": {},
   "source": [
    "There is no best control store for trial store 88 "
   ]
  },
  {
   "cell_type": "code",
   "execution_count": 98,
   "id": "9d8b716d",
   "metadata": {},
   "outputs": [
    {
     "data": {
      "image/png": "[encoded data removed]",
      "text/plain": [
       "<Figure size 432x288 with 1 Axes>"
      ]
     },
     "metadata": {},
     "output_type": "display_data"
    }
   ],
   "source": [
    "# Filter for pre-trial period and select relevant stores (trial, control, and others)\n",
    "pastSales = measureOverTimeSales[(measureOverTimeSales['YEARMONTH'] < 201902) & \n",
    "                                 (measureOverTimeSales['STORE_NBR'].isin([trial_store, control_store]))]\n",
    "\n",
    "# Plot total sales over time\n",
    "sns.lineplot(data=pastSales, x='YEARMONTH', y='totSales', hue='STORE_NBR')\n",
    "plt.title('Total Sales: Trial Store vs Control Store')\n",
    "plt.xlabel('Month (YEARMONTH)')\n",
    "plt.ylabel('Total Sales')\n",
    "plt.legend(title='Store Number')\n",
    "plt.show()"
   ]
  },
  {
   "cell_type": "code",
   "execution_count": 99,
   "id": "81cd0f83",
   "metadata": {},
   "outputs": [
    {
     "data": {
      "image/png": "[encoded data removed]",
      "text/plain": [
       "<Figure size 432x288 with 1 Axes>"
      ]
     },
     "metadata": {},
     "output_type": "display_data"
    }
   ],
   "source": [
    "# Filter for pre-trial period and select relevant stores (trial, control, and others)\n",
    "pastCustomers = measureOverTimeCusts[(measureOverTimeCusts['YEARMONTH'] < 201902) & \n",
    "                                     (measureOverTimeCusts['STORE_NBR'].isin([trial_store, control_store]))]\n",
    "\n",
    "# Plot number of customers over time\n",
    "sns.lineplot(data=pastCustomers, x='YEARMONTH', y='nCustomers', hue='STORE_NBR')\n",
    "plt.title('Number of Customers: Trial Store vs Control Store')\n",
    "plt.xlabel('Month (YEARMONTH)')\n",
    "plt.ylabel('Number of Customers')\n",
    "plt.legend(title='Store Number')\n",
    "plt.show()\n"
   ]
  },
  {
   "cell_type": "code",
   "execution_count": 101,
   "id": "f3329ba2",
   "metadata": {},
   "outputs": [
    {
     "name": "stdout",
     "output_type": "stream",
     "text": [
      "Scaling factor for control sales: inf\n",
      "Empty DataFrame\n",
      "Columns: [YEARMONTH, trialSales, scaledControlSales, percentageDiff]\n",
      "Index: []\n"
     ]
    }
   ],
   "source": [
    "# Step 1: Calculate the scaling factor for control sales\n",
    "scalingFactorForControlSales = (pre_trial_measures[pre_trial_measures['STORE_NBR'] == trial_store]['totSales'].sum() /\n",
    "                                pre_trial_measures[pre_trial_measures['STORE_NBR'] == control_store]['totSales'].sum())\n",
    "\n",
    "print(f\"Scaling factor for control sales: {scalingFactorForControlSales}\")\n",
    "\n",
    "# Step 2: Apply the scaling factor to the control store's sales\n",
    "measureOverTimeSales = measureOverTime.copy()  # Making a copy of the dataframe\n",
    "\n",
    "# Create a new column for scaled control sales\n",
    "scaledControlSales = measureOverTimeSales[measureOverTimeSales['STORE_NBR'] == control_store].copy()\n",
    "scaledControlSales['scaledControlSales'] = scaledControlSales['totSales'] * scalingFactorForControlSales\n",
    "\n",
    "# Step 3: Calculate the percentage difference between scaled control sales and trial sales\n",
    "trialSales = measureOverTimeSales[measureOverTimeSales['STORE_NBR'] == trial_store][['YEARMONTH', 'totSales']].copy()\n",
    "trialSales.rename(columns={'totSales': 'trialSales'}, inplace=True)\n",
    "\n",
    "# Merging trial sales with scaled control sales on YEARMONTH\n",
    "percentageDiff = pd.merge(trialSales, scaledControlSales[['YEARMONTH', 'scaledControlSales']], on='YEARMONTH')\n",
    "\n",
    "# Calculate the absolute percentage difference\n",
    "percentageDiff['percentageDiff'] = abs(percentageDiff['scaledControlSales'] - percentageDiff['trialSales']) / percentageDiff['scaledControlSales'] * 100\n",
    "\n",
    "# Display the resulting DataFrame\n",
    "print(percentageDiff)\n"
   ]
  },
  {
   "cell_type": "code",
   "execution_count": null,
   "id": "2eec2d43",
   "metadata": {},
   "outputs": [],
   "source": []
  }
 ],
 "metadata": {
  "kernelspec": {
   "display_name": "Python 3 (ipykernel)",
   "language": "python",
   "name": "python3"
  },
  "language_info": {
   "codemirror_mode": {
    "name": "ipython",
    "version": 3
   },
   "file_extension": ".py",
   "mimetype": "text/x-python",
   "name": "python",
   "nbconvert_exporter": "python",
   "pygments_lexer": "ipython3",
   "version": "3.9.12"
  }
 },
 "nbformat": 4,
 "nbformat_minor": 5
}
